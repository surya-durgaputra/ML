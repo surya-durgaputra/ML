{
 "cells": [
  {
   "cell_type": "code",
   "execution_count": 87,
   "metadata": {},
   "outputs": [],
   "source": [
    "import pandas as pd\n",
    "import numpy as np\n",
    "from sklearn.preprocessing import MinMaxScaler\n",
    "from sklearn.model_selection import train_test_split\n",
    "from sklearn.model_selection import KFold\n",
    "from sklearn.model_selection import cross_val_score\n",
    "import seaborn as sns\n",
    "import matplotlib.pyplot as plt"
   ]
  },
  {
   "cell_type": "code",
   "execution_count": 70,
   "metadata": {},
   "outputs": [],
   "source": [
    "def rhead(x, nrow = 6, ncol = 4):\n",
    "    pd.set_option('display.expand_frame_repr', False)\n",
    "    seq = np.arange(0, len(x.columns), ncol)\n",
    "    for i in seq:\n",
    "        print(x.loc[range(0, nrow), x.columns[\n",
    "                range(i, min(i+ncol, len(x.columns)))]])\n",
    "    pd.set_option('display.expand_frame_repr', True)"
   ]
  },
  {
   "cell_type": "code",
   "execution_count": 71,
   "metadata": {},
   "outputs": [],
   "source": [
    "titanic_df = pd.read_csv('../Keras/titanic/train.csv')\n",
    "titanic_test_df = pd.read_csv('../Keras/titanic/test.csv')\n",
    "seed = 42"
   ]
  },
  {
   "cell_type": "code",
   "execution_count": 72,
   "metadata": {},
   "outputs": [],
   "source": [
    "useless_cols = ['Name','PassengerId','Ticket']\n",
    "titanic_df = titanic_df.drop(useless_cols, axis=1)\n",
    "passengerIds_test = titanic_test_df[['PassengerId']]\n",
    "titanic_test_df = titanic_test_df.drop(useless_cols, axis=1)"
   ]
  },
  {
   "cell_type": "code",
   "execution_count": 73,
   "metadata": {},
   "outputs": [],
   "source": [
    "def clean_feature_columns(df, feature_columns):\n",
    "    \"\"\" check if feature columns have any NaNs.\n",
    "    Feature columns are used in groupby.\n",
    "    They should not have any nans.\n",
    "    \"\"\"\n",
    "    clean_cols = []\n",
    "    for col in feature_columns:\n",
    "        if df[col].isnull().any():\n",
    "            continue\n",
    "        else:\n",
    "            clean_cols.append(col)\n",
    "    return clean_cols\n",
    "\n",
    "def fill_numeric_col(df, feature_columns, target_column):\n",
    "    \"\"\"\n",
    "    We fill the numeric columns by median. \n",
    "    \n",
    "    feature_columns : list. This will create group-by sub-indexes. The order\n",
    "    will be as it appears in the list. If a particular sub-index results in\n",
    "    median value of NaN, it is automatically dropped from feature_columns\n",
    "    \n",
    "    target_column: the target column that is to be filled\n",
    "    \"\"\"\n",
    "    filled_col_name = target_column + '_filled'\n",
    "    if df[target_column].isnull().any():\n",
    "        df[filled_col_name] = df.groupby(feature_columns)[target_column]\\\n",
    "            .transform(lambda x: x.fillna(np.nan if pd.isnull(x.median()) else x.median()))\n",
    "        while True:\n",
    "            if df[filled_col_name].isnull().any():\n",
    "                if len(feature_columns) > 1:\n",
    "                    del feature_columns[-1]\n",
    "                    df[filled_col_name] = df.groupby(feature_columns)[filled_col_name]\\\n",
    "            .transform(lambda x: x.fillna(np.nan if pd.isnull(x.median()) else x.median()))\n",
    "                else:\n",
    "                    df[filled_col_name] = df[filled_col_name].fillna(df[target_column].median(dropna=True))\n",
    "                    break\n",
    "            else:\n",
    "                break\n",
    "        return df\n",
    "    else:\n",
    "        df[filled_col_name] = df[target_column]\n",
    "        return df\n",
    "\n",
    "def fill_categoric_col(df, feature_columns, target_column):\n",
    "    \"\"\"\n",
    "    We fill the categorical columns by mode. \n",
    "    \n",
    "    feature_columns : list. This will create group-by sub-indexes. The order\n",
    "    will be as it appears in the list. If a particular sub-index results in\n",
    "    mode value of NaN, it is automatically dropped from feature_columns\n",
    "    \n",
    "    target_column: the target column that is to be filled\n",
    "    \"\"\"\n",
    "    filled_col_name = target_column + '_filled'\n",
    "    if df[target_column].isnull().any():\n",
    "        df[filled_col_name] = df.groupby(feature_columns)[target_column]\\\n",
    "            .transform(lambda x: x.fillna(np.nan if x.count()<=0 else x.mode()[0]))\n",
    "        while True:\n",
    "            if df[filled_col_name].isnull().any():\n",
    "                if len(feature_columns) > 1:\n",
    "                    del feature_columns[-1]\n",
    "                    df[filled_col_name] = df.groupby(feature_columns)[filled_col_name]\\\n",
    "            .transform(lambda x: x.fillna(np.nan if x.count()<=0 else x.mode()[0]))\n",
    "                else:\n",
    "                    df[filled_col_name] = df[filled_col_name].fillna(df[target_column].mode(dropna=True))\n",
    "                    break\n",
    "            else:\n",
    "                break\n",
    "        return df\n",
    "    else:\n",
    "        df[filled_col_name] = df[target_column]\n",
    "        return df"
   ]
  },
  {
   "cell_type": "code",
   "execution_count": 74,
   "metadata": {},
   "outputs": [],
   "source": [
    "titanic_train_df = fill_numeric_col(titanic_df,clean_feature_columns(\n",
    "    titanic_df,['Sex', 'Pclass','Parch']),'Age')\n",
    "titanic__train_df = fill_categoric_col(\n",
    "    titanic_df,clean_feature_columns(titanic_df,['Sex', 'Pclass','Parch','SibSp']),'Embarked')\n",
    "titanic__train_df = fill_categoric_col(\n",
    "    titanic_df,clean_feature_columns(titanic_df,['Sex', 'Pclass','Parch','SibSp']),'Cabin')"
   ]
  },
  {
   "cell_type": "code",
   "execution_count": 75,
   "metadata": {},
   "outputs": [],
   "source": [
    "titanic_test_df = fill_numeric_col(titanic_test_df,clean_feature_columns(\n",
    "    titanic_test_df,['Sex', 'Pclass','Parch']),'Age')\n",
    "titanic_test_df = fill_numeric_col(titanic_test_df,clean_feature_columns(\n",
    "    titanic_test_df,['Sex', 'Pclass','Parch']),'Fare')\n",
    "titanic_test_df = fill_categoric_col(\n",
    "    titanic_test_df,clean_feature_columns(titanic_test_df,['Sex', 'Pclass','Parch','SibSp']),'Embarked')\n",
    "titanic_test_df = fill_categoric_col(\n",
    "    titanic_test_df,clean_feature_columns(titanic_test_df,['Sex', 'Pclass','Parch','SibSp']),'Cabin')"
   ]
  },
  {
   "cell_type": "code",
   "execution_count": 76,
   "metadata": {},
   "outputs": [
    {
     "name": "stdout",
     "output_type": "stream",
     "text": [
      "<class 'pandas.core.frame.DataFrame'>\n",
      "RangeIndex: 891 entries, 0 to 890\n",
      "Data columns (total 12 columns):\n",
      "Survived           891 non-null int64\n",
      "Pclass             891 non-null int64\n",
      "Sex                891 non-null object\n",
      "Age                714 non-null float64\n",
      "SibSp              891 non-null int64\n",
      "Parch              891 non-null int64\n",
      "Fare               891 non-null float64\n",
      "Cabin              204 non-null object\n",
      "Embarked           889 non-null object\n",
      "Age_filled         891 non-null float64\n",
      "Embarked_filled    891 non-null object\n",
      "Cabin_filled       891 non-null object\n",
      "dtypes: float64(3), int64(4), object(5)\n",
      "memory usage: 83.6+ KB\n"
     ]
    }
   ],
   "source": [
    "titanic_train_df.info()"
   ]
  },
  {
   "cell_type": "code",
   "execution_count": 77,
   "metadata": {},
   "outputs": [],
   "source": [
    "titanic_train_df = titanic_train_df.drop(columns=['Age','Embarked','Cabin'])\n",
    "titanic_train_df = titanic_train_df.rename(\n",
    "    {'Age_filled': 'Age', 'Embarked_filled': 'Embarked', 'Cabin_filled': 'Cabin'},\n",
    "    axis='columns')\n",
    "# axis=columns is equivalent to axis=1"
   ]
  },
  {
   "cell_type": "code",
   "execution_count": 78,
   "metadata": {},
   "outputs": [],
   "source": [
    "titanic_test_df = titanic_test_df.drop(columns=['Age','Embarked','Cabin','Fare'])\n",
    "titanic_test_df = titanic_test_df.rename(\n",
    "    {'Age_filled': 'Age', 'Embarked_filled': 'Embarked', 'Cabin_filled': 'Cabin', 'Fare_filled': 'Fare'},\n",
    "    axis='columns')"
   ]
  },
  {
   "cell_type": "code",
   "execution_count": 79,
   "metadata": {},
   "outputs": [
    {
     "name": "stdout",
     "output_type": "stream",
     "text": [
      "<class 'pandas.core.frame.DataFrame'>\n",
      "RangeIndex: 891 entries, 0 to 890\n",
      "Data columns (total 9 columns):\n",
      "Survived    891 non-null int64\n",
      "Pclass      891 non-null int64\n",
      "Sex         891 non-null object\n",
      "SibSp       891 non-null int64\n",
      "Parch       891 non-null int64\n",
      "Fare        891 non-null float64\n",
      "Age         891 non-null float64\n",
      "Embarked    891 non-null object\n",
      "Cabin       891 non-null object\n",
      "dtypes: float64(2), int64(4), object(3)\n",
      "memory usage: 62.7+ KB\n"
     ]
    }
   ],
   "source": [
    "titanic_train_df.info()"
   ]
  },
  {
   "cell_type": "code",
   "execution_count": 80,
   "metadata": {},
   "outputs": [
    {
     "name": "stdout",
     "output_type": "stream",
     "text": [
      "<class 'pandas.core.frame.DataFrame'>\n",
      "RangeIndex: 418 entries, 0 to 417\n",
      "Data columns (total 8 columns):\n",
      "Pclass      418 non-null int64\n",
      "Sex         418 non-null object\n",
      "SibSp       418 non-null int64\n",
      "Parch       418 non-null int64\n",
      "Age         418 non-null float64\n",
      "Fare        418 non-null float64\n",
      "Embarked    418 non-null object\n",
      "Cabin       418 non-null object\n",
      "dtypes: float64(2), int64(3), object(3)\n",
      "memory usage: 26.2+ KB\n"
     ]
    }
   ],
   "source": [
    "titanic_test_df.info()"
   ]
  },
  {
   "cell_type": "code",
   "execution_count": 121,
   "metadata": {},
   "outputs": [],
   "source": [
    "y = titanic_train_df[['Survived']]\n",
    "X = titanic_train_df.drop(['Survived'], axis=1)\n",
    "#X = pd.get_dummies(X, columns=['Sex','Pclass','Cabin','Embarked'])\n",
    "\n",
    "#titanic_test = pd.get_dummies(titanic_test_df, columns=['Sex','Pclass','Cabin','Embarked'])"
   ]
  },
  {
   "cell_type": "code",
   "execution_count": 122,
   "metadata": {},
   "outputs": [
    {
     "name": "stdout",
     "output_type": "stream",
     "text": [
      "(891, 8)\n",
      "(418, 8)\n"
     ]
    }
   ],
   "source": [
    "print(X.shape)\n",
    "print(titanic_test_df.shape)"
   ]
  },
  {
   "cell_type": "code",
   "execution_count": 123,
   "metadata": {},
   "outputs": [],
   "source": [
    "from sklearn.ensemble import RandomForestClassifier"
   ]
  },
  {
   "cell_type": "code",
   "execution_count": 124,
   "metadata": {},
   "outputs": [],
   "source": [
    "#print(X.columns.tolist())\n",
    "#print(titanic_test_df.columns.tolist())\n",
    "titanic_test_df = titanic_test_df.reindex(columns=X.columns.tolist())\n",
    "joined = pd.concat([X,titanic_test_df])\n",
    "joined =  pd.get_dummies(joined, columns=['Sex','Pclass','Cabin','Embarked'])\n",
    "X = joined_dummies.iloc[0:891,:]\n",
    "titanic_test = joined_dummies.iloc[891:,:]"
   ]
  },
  {
   "cell_type": "code",
   "execution_count": 126,
   "metadata": {},
   "outputs": [
    {
     "name": "stdout",
     "output_type": "stream",
     "text": [
      "(891, 198)\n",
      "(418, 198)\n"
     ]
    }
   ],
   "source": [
    "print(X.shape)\n",
    "print(titanic_test.shape)"
   ]
  },
  {
   "cell_type": "code",
   "execution_count": 127,
   "metadata": {},
   "outputs": [
    {
     "name": "stderr",
     "output_type": "stream",
     "text": [
      "/home/helios/anaconda3/envs/tensorflow_env/lib/python3.6/site-packages/sklearn/ensemble/forest.py:458: UserWarning: Some inputs do not have OOB scores. This probably means too few trees were used to compute any reliable oob estimates.\n",
      "  warn(\"Some inputs do not have OOB scores. \"\n",
      "/home/helios/anaconda3/envs/tensorflow_env/lib/python3.6/site-packages/sklearn/ensemble/forest.py:463: RuntimeWarning: invalid value encountered in true_divide\n",
      "  predictions[k].sum(axis=1)[:, np.newaxis])\n",
      "/home/helios/anaconda3/envs/tensorflow_env/lib/python3.6/site-packages/sklearn/ensemble/forest.py:458: UserWarning: Some inputs do not have OOB scores. This probably means too few trees were used to compute any reliable oob estimates.\n",
      "  warn(\"Some inputs do not have OOB scores. \"\n",
      "/home/helios/anaconda3/envs/tensorflow_env/lib/python3.6/site-packages/sklearn/ensemble/forest.py:463: RuntimeWarning: invalid value encountered in true_divide\n",
      "  predictions[k].sum(axis=1)[:, np.newaxis])\n",
      "/home/helios/anaconda3/envs/tensorflow_env/lib/python3.6/site-packages/sklearn/ensemble/forest.py:458: UserWarning: Some inputs do not have OOB scores. This probably means too few trees were used to compute any reliable oob estimates.\n",
      "  warn(\"Some inputs do not have OOB scores. \"\n",
      "/home/helios/anaconda3/envs/tensorflow_env/lib/python3.6/site-packages/sklearn/ensemble/forest.py:463: RuntimeWarning: invalid value encountered in true_divide\n",
      "  predictions[k].sum(axis=1)[:, np.newaxis])\n"
     ]
    },
    {
     "data": {
      "image/png": "[encoded data removed]",
      "text/plain": [
       "<Figure size 432x288 with 1 Axes>"
      ]
     },
     "metadata": {
      "needs_background": "light"
     },
     "output_type": "display_data"
    }
   ],
   "source": [
    "# https://scikit-learn.org/stable/auto_examples/ensemble/plot_ensemble_oob.html\n",
    "from collections import OrderedDict\n",
    "\n",
    "y = y.values.ravel()\n",
    "\n",
    "RANDOM_STATE = 0\n",
    "ensemble_clfs = [\n",
    "    (\"RandomForestClassifier, max_features='sqrt'\",\n",
    "        RandomForestClassifier(n_estimators=100,\n",
    "                               warm_start=True, oob_score=True,\n",
    "                               max_features=\"sqrt\",\n",
    "                               random_state=RANDOM_STATE)),\n",
    "    (\"RandomForestClassifier, max_features='log2'\",\n",
    "        RandomForestClassifier(n_estimators=100,\n",
    "                               warm_start=True, max_features='log2',\n",
    "                               oob_score=True,\n",
    "                               random_state=RANDOM_STATE)),\n",
    "    (\"RandomForestClassifier, max_features=None\",\n",
    "        RandomForestClassifier(n_estimators=100,\n",
    "                               warm_start=True, max_features=None,\n",
    "                               oob_score=True,\n",
    "                               random_state=RANDOM_STATE))\n",
    "]\n",
    "\n",
    "# Map a classifier name to a list of (<n_estimators>, <error rate>) pairs.\n",
    "error_rate = OrderedDict((label, []) for label, _ in ensemble_clfs)\n",
    "\n",
    "# Range of `n_estimators` values to explore.\n",
    "min_estimators = 15\n",
    "max_estimators = 175\n",
    "\n",
    "for label, clf in ensemble_clfs:\n",
    "    for i in range(min_estimators, max_estimators + 1):\n",
    "        clf.set_params(n_estimators=i)\n",
    "        clf.fit(X, y)\n",
    "\n",
    "        # Record the OOB error for each `n_estimators=i` setting.\n",
    "        oob_error = 1 - clf.oob_score_\n",
    "        error_rate[label].append((i, oob_error))\n",
    "\n",
    "# Generate the \"OOB error rate\" vs. \"n_estimators\" plot.\n",
    "for label, clf_err in error_rate.items():\n",
    "    xs, ys = zip(*clf_err)\n",
    "    plt.plot(xs, ys, label=label)\n",
    "\n",
    "plt.xlim(min_estimators, max_estimators)\n",
    "plt.xlabel(\"n_estimators\")\n",
    "plt.ylabel(\"OOB error rate\")\n",
    "plt.legend(loc=\"upper right\")\n",
    "plt.show()"
   ]
  },
  {
   "cell_type": "code",
   "execution_count": 152,
   "metadata": {},
   "outputs": [],
   "source": [
    "clf = RandomForestClassifier(n_estimators=35, max_features=None,random_state=0,n_jobs=3)"
   ]
  },
  {
   "cell_type": "code",
   "execution_count": 153,
   "metadata": {},
   "outputs": [],
   "source": [
    "#y_pred = clf.predict(titanic_test)\n",
    "X_train,X_test,y_train,y_test = train_test_split(X,\n",
    "                                                 y,\n",
    "                                                 test_size=0.20,\n",
    "                                                 random_state=RANDOM_STATE)\n",
    "clf.fit(X_train,y_train)\n",
    "y_pred = clf.predict(X_test)"
   ]
  },
  {
   "cell_type": "code",
   "execution_count": 154,
   "metadata": {},
   "outputs": [],
   "source": [
    "from sklearn.metrics import accuracy_score,recall_score,confusion_matrix"
   ]
  },
  {
   "cell_type": "code",
   "execution_count": 155,
   "metadata": {},
   "outputs": [
    {
     "name": "stdout",
     "output_type": "stream",
     "text": [
      "0.8379888268156425\n",
      "0.7246376811594203\n",
      "[[100  10]\n",
      " [ 19  50]]\n"
     ]
    }
   ],
   "source": [
    "#y_pred.shape\n",
    "print(accuracy_score(y_test,y_pred))\n",
    "print(recall_score(y_test,y_pred))\n",
    "print(confusion_matrix(y_test,y_pred))"
   ]
  },
  {
   "cell_type": "code",
   "execution_count": 136,
   "metadata": {},
   "outputs": [
    {
     "data": {
      "text/html": [
       "<div>\n",
       "<style scoped>\n",
       "    .dataframe tbody tr th:only-of-type {\n",
       "        vertical-align: middle;\n",
       "    }\n",
       "\n",
       "    .dataframe tbody tr th {\n",
       "        vertical-align: top;\n",
       "    }\n",
       "\n",
       "    .dataframe thead th {\n",
       "        text-align: right;\n",
       "    }\n",
       "</style>\n",
       "<table border=\"1\" class=\"dataframe\">\n",
       "  <thead>\n",
       "    <tr style=\"text-align: right;\">\n",
       "      <th></th>\n",
       "      <th>Pclass</th>\n",
       "      <th>Sex</th>\n",
       "      <th>SibSp</th>\n",
       "      <th>Parch</th>\n",
       "      <th>Fare</th>\n",
       "      <th>Age</th>\n",
       "      <th>Embarked</th>\n",
       "      <th>Cabin</th>\n",
       "    </tr>\n",
       "  </thead>\n",
       "  <tbody>\n",
       "    <tr>\n",
       "      <th>0</th>\n",
       "      <td>3</td>\n",
       "      <td>male</td>\n",
       "      <td>0</td>\n",
       "      <td>0</td>\n",
       "      <td>7.8292</td>\n",
       "      <td>34.5</td>\n",
       "      <td>Q</td>\n",
       "      <td>F E46</td>\n",
       "    </tr>\n",
       "    <tr>\n",
       "      <th>1</th>\n",
       "      <td>3</td>\n",
       "      <td>female</td>\n",
       "      <td>1</td>\n",
       "      <td>0</td>\n",
       "      <td>7.0000</td>\n",
       "      <td>47.0</td>\n",
       "      <td>S</td>\n",
       "      <td>G6</td>\n",
       "    </tr>\n",
       "    <tr>\n",
       "      <th>2</th>\n",
       "      <td>2</td>\n",
       "      <td>male</td>\n",
       "      <td>0</td>\n",
       "      <td>0</td>\n",
       "      <td>9.6875</td>\n",
       "      <td>62.0</td>\n",
       "      <td>Q</td>\n",
       "      <td>D</td>\n",
       "    </tr>\n",
       "    <tr>\n",
       "      <th>3</th>\n",
       "      <td>3</td>\n",
       "      <td>male</td>\n",
       "      <td>0</td>\n",
       "      <td>0</td>\n",
       "      <td>8.6625</td>\n",
       "      <td>27.0</td>\n",
       "      <td>S</td>\n",
       "      <td>F E46</td>\n",
       "    </tr>\n",
       "    <tr>\n",
       "      <th>4</th>\n",
       "      <td>3</td>\n",
       "      <td>female</td>\n",
       "      <td>1</td>\n",
       "      <td>1</td>\n",
       "      <td>12.2875</td>\n",
       "      <td>22.0</td>\n",
       "      <td>S</td>\n",
       "      <td>G6</td>\n",
       "    </tr>\n",
       "  </tbody>\n",
       "</table>\n",
       "</div>"
      ],
      "text/plain": [
       "   Pclass     Sex  SibSp  Parch     Fare   Age Embarked  Cabin\n",
       "0       3    male      0      0   7.8292  34.5        Q  F E46\n",
       "1       3  female      1      0   7.0000  47.0        S     G6\n",
       "2       2    male      0      0   9.6875  62.0        Q      D\n",
       "3       3    male      0      0   8.6625  27.0        S  F E46\n",
       "4       3  female      1      1  12.2875  22.0        S     G6"
      ]
     },
     "execution_count": 136,
     "metadata": {},
     "output_type": "execute_result"
    }
   ],
   "source": [
    "titanic_test_df.head()"
   ]
  },
  {
   "cell_type": "code",
   "execution_count": null,
   "metadata": {},
   "outputs": [],
   "source": []
  }
 ],
 "metadata": {
  "kernelspec": {
   "display_name": "Python 3",
   "language": "python",
   "name": "python3"
  },
  "language_info": {
   "codemirror_mode": {
    "name": "ipython",
    "version": 3
   },
   "file_extension": ".py",
   "mimetype": "text/x-python",
   "name": "python",
   "nbconvert_exporter": "python",
   "pygments_lexer": "ipython3",
   "version": "3.6.8"
  }
 },
 "nbformat": 4,
 "nbformat_minor": 2
}
