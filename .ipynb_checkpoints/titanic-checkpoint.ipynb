{
 "cells": [
  {
   "cell_type": "code",
   "execution_count": null,
   "metadata": {},
   "outputs": [],
   "source": [
    "%matplotlib inline\n",
    "\n",
    "import pandas as pd\n",
    "import numpy as np\n",
    "from sklearn.preprocessing import MinMaxScaler\n",
    "from sklearn.model_selection import train_test_split\n",
    "from keras.models import Sequential\n",
    "from keras.layers import Dense\n",
    "from keras.wrappers.scikit_learn import KerasClassifier\n",
    "from sklearn.model_selection import KFold\n",
    "from sklearn.model_selection import cross_val_score\n",
    "from keras import backend as K\n",
    "import seaborn as sns"
   ]
  },
  {
   "cell_type": "code",
   "execution_count": null,
   "metadata": {},
   "outputs": [],
   "source": [
    "# Read the dataset"
   ]
  },
  {
   "cell_type": "code",
   "execution_count": null,
   "metadata": {},
   "outputs": [],
   "source": [
    "titanic_df = pd.read_csv('Keras/titanic/train.csv')\n",
    "titanic_test_df = pd.read_csv('Keras/titanic/test.csv')"
   ]
  },
  {
   "cell_type": "code",
   "execution_count": null,
   "metadata": {},
   "outputs": [],
   "source": [
    "# Feature cleaning "
   ]
  },
  {
   "cell_type": "code",
   "execution_count": null,
   "metadata": {},
   "outputs": [],
   "source": [
    "useless_cols = ['Name','PassengerId','Ticket']\n",
    "titanic_df = titanic_df.drop(useless_cols, axis=1)\n",
    "passengerIds_test = titanic_test_df[['PassengerId']]\n",
    "titanic_test_df = titanic_test_df.drop(useless_cols, axis=1)"
   ]
  },
  {
   "cell_type": "code",
   "execution_count": null,
   "metadata": {},
   "outputs": [],
   "source": [
    "# Feature Engineering"
   ]
  },
  {
   "cell_type": "code",
   "execution_count": null,
   "metadata": {},
   "outputs": [],
   "source": [
    "# helper functions\n",
    "def clean_feature_columns(df, feature_columns):\n",
    "    \"\"\" check if feature columns have any NaNs.\n",
    "    Feature columns are used in groupby.\n",
    "    They should not have any nans.\n",
    "    \"\"\"\n",
    "    clean_cols = []\n",
    "    for col in feature_columns:\n",
    "        if df[col].isnull().any():\n",
    "            continue\n",
    "        else:\n",
    "            clean_cols.append(col)\n",
    "    return clean_cols\n",
    "\n",
    "def fill_numeric_col(df, feature_columns, target_column):\n",
    "    \"\"\"\n",
    "    We fill the numeric columns by median. \n",
    "    \n",
    "    feature_columns : list. This will create group-by sub-indexes. The order\n",
    "    will be as it appears in the list. If a particular sub-index results in\n",
    "    median value of NaN, it is automatically dropped from feature_columns\n",
    "    \n",
    "    target_column: the target column that is to be filled\n",
    "    \"\"\"\n",
    "    filled_col_name = target_column + '_filled'\n",
    "    if df[target_column].isnull().any():\n",
    "        df[filled_col_name] = df.groupby(feature_columns)[target_column]\\\n",
    "            .transform(lambda x: x.fillna(np.nan if pd.isnull(x.median()) else x.median()))\n",
    "        while True:\n",
    "            if df[filled_col_name].isnull().any():\n",
    "                if len(feature_columns) > 1:\n",
    "                    del feature_columns[-1]\n",
    "                    df[filled_col_name] = df.groupby(feature_columns)[filled_col_name]\\\n",
    "            .transform(lambda x: x.fillna(np.nan if pd.isnull(x.median()) else x.median()))\n",
    "                else:\n",
    "                    df[filled_col_name] = df[filled_col_name].fillna(df[target_column].median(dropna=True))\n",
    "                    break\n",
    "            else:\n",
    "                break\n",
    "        return df\n",
    "    else:\n",
    "        df[filled_col_name] = df[target_column]\n",
    "        return df\n",
    "\n",
    "def fill_categoric_col(df, feature_columns, target_column):\n",
    "    \"\"\"\n",
    "    We fill the categorical columns by mode. \n",
    "    \n",
    "    feature_columns : list. This will create group-by sub-indexes. The order\n",
    "    will be as it appears in the list. If a particular sub-index results in\n",
    "    mode value of NaN, it is automatically dropped from feature_columns\n",
    "    \n",
    "    target_column: the target column that is to be filled\n",
    "    \"\"\"\n",
    "    filled_col_name = target_column + '_filled'\n",
    "    if df[target_column].isnull().any():\n",
    "        df[filled_col_name] = df.groupby(feature_columns)[target_column]\\\n",
    "            .transform(lambda x: x.fillna(np.nan if x.count()<=0 else x.mode()[0]))\n",
    "        while True:\n",
    "            if df[filled_col_name].isnull().any():\n",
    "                if len(feature_columns) > 1:\n",
    "                    del feature_columns[-1]\n",
    "                    df[filled_col_name] = df.groupby(feature_columns)[filled_col_name]\\\n",
    "            .transform(lambda x: x.fillna(np.nan if x.count()<=0 else x.mode()[0]))\n",
    "                else:\n",
    "                    df[filled_col_name] = df[filled_col_name].fillna(df[target_column].mode(dropna=True))\n",
    "                    break\n",
    "            else:\n",
    "                break\n",
    "        return df\n",
    "    else:\n",
    "        df[filled_col_name] = df[target_column]\n",
    "        return df"
   ]
  },
  {
   "cell_type": "code",
   "execution_count": null,
   "metadata": {},
   "outputs": [],
   "source": [
    "# visualizations\n",
    "titanic_df.head()"
   ]
  },
  {
   "cell_type": "code",
   "execution_count": null,
   "metadata": {},
   "outputs": [],
   "source": [
    "# definitely females survuved better than males\n",
    "# strong correlation between sex and survival\n",
    "ax = sns.countplot(data=titanic_df, hue='Survived', x='Sex')"
   ]
  },
  {
   "cell_type": "code",
   "execution_count": null,
   "metadata": {},
   "outputs": [],
   "source": [
    "# definitely strong relation between survival rates for both males and females w.r.t. Pclass\n",
    "ax = sns.catplot(data=titanic_df, col='Sex',\n",
    "                y=None, x='Pclass', hue='Survived',\n",
    "                kind='count')"
   ]
  },
  {
   "cell_type": "code",
   "execution_count": null,
   "metadata": {},
   "outputs": [],
   "source": [
    "titanic_age = titanic_df[~titanic_df.Age.isnull()]\n",
    "ax = sns.catplot(data=titanic_df, col='Sex',\n",
    "                y=None, x='Pclass', hue='Survived',\n",
    "                kind='count')"
   ]
  },
  {
   "cell_type": "code",
   "execution_count": 70,
   "metadata": {},
   "outputs": [
    {
     "name": "stderr",
     "output_type": "stream",
     "text": [
      "__main__:2: SettingWithCopyWarning: \n",
      "A value is trying to be set on a copy of a slice from a DataFrame.\n",
      "Try using .loc[row_indexer,col_indexer] = value instead\n",
      "\n",
      "See the caveats in the documentation: http://pandas.pydata.org/pandas-docs/stable/indexing.html#indexing-view-versus-copy\n"
     ]
    }
   ],
   "source": [
    "titanic_age = titanic_df[~titanic_df.Age.isnull()]\n",
    "titanic_age['adult'] = titanic_age.Age.map(lambda x: x>=18).astype('int')"
   ]
  },
  {
   "cell_type": "code",
   "execution_count": 72,
   "metadata": {},
   "outputs": [
    {
     "data": {
      "image/png": "[encoded data removed]",
      "text/plain": [
       "<Figure size 411.875x360 with 1 Axes>"
      ]
     },
     "metadata": {},
     "output_type": "display_data"
    }
   ],
   "source": [
    "# proportion of non-adults that survived (ratio of survived vs non-survived) \n",
    "# is definitely higher than that of adults\n",
    "ax = sns.catplot(data=titanic_age, \n",
    "                y=None, x='adult', hue='Survived',\n",
    "                kind='count')"
   ]
  },
  {
   "cell_type": "code",
   "execution_count": null,
   "metadata": {},
   "outputs": [],
   "source": []
  }
 ],
 "metadata": {
  "kernelspec": {
   "display_name": "Python 3 (Spyder)",
   "language": "python3",
   "name": "python3"
  },
  "language_info": {
   "codemirror_mode": {
    "name": "ipython",
    "version": 3
   },
   "file_extension": ".py",
   "mimetype": "text/x-python",
   "name": "python",
   "nbconvert_exporter": "python",
   "pygments_lexer": "ipython3",
   "version": "3.7.1"
  }
 },
 "nbformat": 4,
 "nbformat_minor": 2
}
