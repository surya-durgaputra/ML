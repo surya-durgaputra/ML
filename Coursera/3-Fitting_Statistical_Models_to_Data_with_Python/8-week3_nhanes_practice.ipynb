{
 "cells": [
  {
   "cell_type": "markdown",
   "metadata": {},
   "source": [
    "# Practice notebook for regression analysis with dependent data in NHANES\n",
    "\n",
    "This notebook will give you the opportunity to perform some analyses\n",
    "using the regression methods for dependent data that we are focusing\n",
    "on in this week of the course.\n",
    "\n",
    "Enter the code in response to each question in the boxes labeled \"enter your code here\".\n",
    "Then enter your responses to the questions in the boxes labeled \"Type\n",
    "Markdown and Latex\".\n",
    "\n",
    "This notebook is based on the NHANES case study notebook for\n",
    "regression with dependent data.  Most of the code that you will need\n",
    "to write below is very similar to code that appears in the case study\n",
    "notebook.  You will need to edit code from that notebook in small ways\n",
    "to adapt it to the prompts below.\n",
    "\n",
    "To get started, we will use the same module imports and read the data\n",
    "in the same way as we did in the case study:"
   ]
  },
  {
   "cell_type": "code",
   "execution_count": 9,
   "metadata": {},
   "outputs": [],
   "source": [
    "%matplotlib inline\n",
    "import matplotlib.pyplot as plt\n",
    "import seaborn as sns\n",
    "import pandas as pd\n",
    "import statsmodels.api as sm\n",
    "import numpy as np\n",
    "\n",
    "url = \"data/nhanes_2015_2016.csv\"\n",
    "da = pd.read_csv(url)\n",
    "\n",
    "# Drop unused columns, drop rows with any missing values.\n",
    "vars = [\"BPXSY1\", \"RIDAGEYR\", \"RIAGENDR\", \"RIDRETH1\", \"DMDEDUC2\", \"BMXBMI\",\n",
    "        \"SMQ020\", \"SDMVSTRA\", \"SDMVPSU\",\"BPXDI1\"]\n",
    "da = da[vars].dropna()\n",
    "\n",
    "# This is the grouping variable\n",
    "da[\"group\"] = 10*da.SDMVSTRA + da.SDMVPSU"
   ]
  },
  {
   "cell_type": "markdown",
   "metadata": {},
   "source": [
    "## Question 1: \n",
    "\n",
    "Build a marginal linear model using GEE for the first measurement of diastolic blood pressure (`BPXDI1`), accounting for the grouping variable defined above.  This initial model should have no covariates, and will be used to assess the ICC of this blood pressure measure."
   ]
  },
  {
   "cell_type": "code",
   "execution_count": 10,
   "metadata": {},
   "outputs": [
    {
     "name": "stdout",
     "output_type": "stream",
     "text": [
      "The correlation between two observations in the same cluster is 0.031\n"
     ]
    }
   ],
   "source": [
    "# enter your code here\n",
    "model = sm.GEE.from_formula(\"BPXDI1 ~ 1\", groups=\"group\",\n",
    "           cov_struct=sm.cov_struct.Exchangeable(), data=da)\n",
    "result = model.fit()\n",
    "print(result.cov_struct.summary())"
   ]
  },
  {
   "cell_type": "markdown",
   "metadata": {},
   "source": [
    "__Q1a.__ What is the ICC for diastolic blood pressure?  What can you\n",
    "  conclude by comparing it to the ICC for systolic blood pressure?"
   ]
  },
  {
   "cell_type": "markdown",
   "metadata": {},
   "source": [
    "0.031. Almost same."
   ]
  },
  {
   "cell_type": "markdown",
   "metadata": {},
   "source": [
    "## Question 2: \n",
    "\n",
    "Take your model from question 1, and add gender, age, and BMI to it as covariates."
   ]
  },
  {
   "cell_type": "code",
   "execution_count": 11,
   "metadata": {},
   "outputs": [
    {
     "name": "stdout",
     "output_type": "stream",
     "text": [
      "The correlation between two observations in the same cluster is 0.030\n"
     ]
    }
   ],
   "source": [
    "# Create a labeled version of the gender variable\n",
    "da[\"RIAGENDRx\"] = da.RIAGENDR.replace({1: \"Male\", 2: \"Female\"})\n",
    "\n",
    "model = sm.GEE.from_formula(\"BPXDI1 ~ RIDAGEYR + RIAGENDRx + BMXBMI\", groups=\"group\",\n",
    "           cov_struct=sm.cov_struct.Exchangeable(), data=da)\n",
    "result = model.fit()\n",
    "print(result.cov_struct.summary())"
   ]
  },
  {
   "cell_type": "markdown",
   "metadata": {},
   "source": [
    "__Q2a.__ What is the ICC for this model?  What can you conclude by comparing it to the ICC for the model that you fit in question 1?"
   ]
  },
  {
   "cell_type": "markdown",
   "metadata": {},
   "source": [
    "The ICC drops from 0.031 to 0.030"
   ]
  },
  {
   "cell_type": "markdown",
   "metadata": {},
   "source": [
    "## Question 3: \n",
    "\n",
    "Split the data into separate datasets for females and for males and fit two separate marginal linear models for diastolic blood pressure, one only for females, and one only for males."
   ]
  },
  {
   "cell_type": "code",
   "execution_count": 12,
   "metadata": {},
   "outputs": [
    {
     "name": "stdout",
     "output_type": "stream",
     "text": [
      "Male: The correlation between two observations in the same cluster is 0.035\n",
      "Female: The correlation between two observations in the same cluster is 0.029\n"
     ]
    }
   ],
   "source": [
    "da_male = da[da['RIAGENDRx']=='Male']\n",
    "da_female = da[da['RIAGENDRx']=='Female']\n",
    "\n",
    "model_male = sm.GEE.from_formula(\"BPXDI1 ~ RIDAGEYR + RIAGENDRx + BMXBMI\", groups=\"group\",\n",
    "           cov_struct=sm.cov_struct.Exchangeable(), data=da_male)\n",
    "result_male = model_male.fit()\n",
    "print('Male:',result_male.cov_struct.summary())\n",
    "\n",
    "model_female = sm.GEE.from_formula(\"BPXDI1 ~ RIDAGEYR + RIAGENDRx + BMXBMI\", groups=\"group\",\n",
    "           cov_struct=sm.cov_struct.Exchangeable(), data=da_female)\n",
    "result_female = model_female.fit()\n",
    "print('Female:',result_female.cov_struct.summary())"
   ]
  },
  {
   "cell_type": "markdown",
   "metadata": {},
   "source": [
    "__Q3a.__ What do you learn by comparing these two fitted models?"
   ]
  },
  {
   "cell_type": "markdown",
   "metadata": {},
   "source": [
    "There is higher correlation in data among males than females"
   ]
  },
  {
   "cell_type": "markdown",
   "metadata": {},
   "source": [
    "## Question 4: \n",
    "\n",
    "Using the entire data set, fit a multilevel model for diastolic blood pressure, predicted by age, gender, BMI, and educational attainment.  Include a random intercept for groups."
   ]
  },
  {
   "cell_type": "code",
   "execution_count": 21,
   "metadata": {},
   "outputs": [
    {
     "data": {
      "text/html": [
       "<table class=\"simpletable\">\n",
       "<tr>\n",
       "       <td>Model:</td>       <td>MixedLM</td> <td>Dependent Variable:</td>   <td>BPXDI1</td>   \n",
       "</tr>\n",
       "<tr>\n",
       "  <td>No. Observations:</td>  <td>5100</td>         <td>Method:</td>          <td>REML</td>    \n",
       "</tr>\n",
       "<tr>\n",
       "     <td>No. Groups:</td>      <td>30</td>          <td>Scale:</td>         <td>154.2352</td>  \n",
       "</tr>\n",
       "<tr>\n",
       "  <td>Min. group size:</td>    <td>105</td>       <td>Likelihood:</td>     <td>-20111.9561</td>\n",
       "</tr>\n",
       "<tr>\n",
       "  <td>Max. group size:</td>    <td>226</td>       <td>Converged:</td>          <td>Yes</td>    \n",
       "</tr>\n",
       "<tr>\n",
       "  <td>Mean group size:</td>   <td>170.0</td>           <td></td>                <td></td>      \n",
       "</tr>\n",
       "</table>\n",
       "<table class=\"simpletable\">\n",
       "<tr>\n",
       "               <td></td>                <th>Coef.</th> <th>Std.Err.</th>    <th>z</th>   <th>P>|z|</th> <th>[0.025</th> <th>0.975]</th>\n",
       "</tr>\n",
       "<tr>\n",
       "  <th>Intercept</th>                   <td>65.646</td>   <td>1.032</td>  <td>63.631</td> <td>0.000</td> <td>63.624</td> <td>67.668</td>\n",
       "</tr>\n",
       "<tr>\n",
       "  <th>RIAGENDRx[T.Male]</th>            <td>2.755</td>   <td>0.351</td>   <td>7.855</td> <td>0.000</td>  <td>2.068</td>  <td>3.443</td>\n",
       "</tr>\n",
       "<tr>\n",
       "  <th>C(DMDEDUC2x)[T.HS]</th>          <td>-1.093</td>   <td>0.521</td>  <td>-2.098</td> <td>0.036</td> <td>-2.115</td> <td>-0.072</td>\n",
       "</tr>\n",
       "<tr>\n",
       "  <th>C(DMDEDUC2x)[T.SomeCollege]</th> <td>-0.428</td>   <td>0.484</td>  <td>-0.883</td> <td>0.377</td> <td>-1.377</td>  <td>0.521</td>\n",
       "</tr>\n",
       "<tr>\n",
       "  <th>C(DMDEDUC2x)[T.lt9]</th>         <td>-0.955</td>   <td>0.641</td>  <td>-1.488</td> <td>0.137</td> <td>-2.212</td>  <td>0.303</td>\n",
       "</tr>\n",
       "<tr>\n",
       "  <th>C(DMDEDUC2x)[T.x9_11]</th>       <td>-0.219</td>   <td>0.630</td>  <td>-0.347</td> <td>0.729</td> <td>-1.454</td>  <td>1.016</td>\n",
       "</tr>\n",
       "<tr>\n",
       "  <th>RIDAGEYR</th>                    <td>-0.039</td>   <td>0.010</td>  <td>-3.871</td> <td>0.000</td> <td>-0.059</td> <td>-0.019</td>\n",
       "</tr>\n",
       "<tr>\n",
       "  <th>BMXBMI</th>                       <td>0.186</td>   <td>0.026</td>   <td>7.283</td> <td>0.000</td>  <td>0.136</td>  <td>0.236</td>\n",
       "</tr>\n",
       "<tr>\n",
       "  <th>group Var</th>                    <td>4.170</td>   <td>0.108</td>     <td></td>      <td></td>       <td></td>       <td></td>   \n",
       "</tr>\n",
       "</table>"
      ],
      "text/plain": [
       "<class 'statsmodels.iolib.summary2.Summary'>\n",
       "\"\"\"\n",
       "                Mixed Linear Model Regression Results\n",
       "======================================================================\n",
       "Model:                 MixedLM     Dependent Variable:     BPXDI1     \n",
       "No. Observations:      5100        Method:                 REML       \n",
       "No. Groups:            30          Scale:                  154.2352   \n",
       "Min. group size:       105         Likelihood:             -20111.9561\n",
       "Max. group size:       226         Converged:              Yes        \n",
       "Mean group size:       170.0                                          \n",
       "----------------------------------------------------------------------\n",
       "                            Coef.  Std.Err.   z    P>|z| [0.025 0.975]\n",
       "----------------------------------------------------------------------\n",
       "Intercept                   65.646    1.032 63.631 0.000 63.624 67.668\n",
       "RIAGENDRx[T.Male]            2.755    0.351  7.855 0.000  2.068  3.443\n",
       "C(DMDEDUC2x)[T.HS]          -1.093    0.521 -2.098 0.036 -2.115 -0.072\n",
       "C(DMDEDUC2x)[T.SomeCollege] -0.428    0.484 -0.883 0.377 -1.377  0.521\n",
       "C(DMDEDUC2x)[T.lt9]         -0.955    0.641 -1.488 0.137 -2.212  0.303\n",
       "C(DMDEDUC2x)[T.x9_11]       -0.219    0.630 -0.347 0.729 -1.454  1.016\n",
       "RIDAGEYR                    -0.039    0.010 -3.871 0.000 -0.059 -0.019\n",
       "BMXBMI                       0.186    0.026  7.283 0.000  0.136  0.236\n",
       "group Var                    4.170    0.108                           \n",
       "======================================================================\n",
       "\n",
       "\"\"\""
      ]
     },
     "execution_count": 21,
     "metadata": {},
     "output_type": "execute_result"
    }
   ],
   "source": [
    "# Relabel the levels, convert rare categories to missing.\n",
    "da[\"DMDEDUC2x\"] = da.DMDEDUC2.replace({1: \"lt9\", 2: \"x9_11\", 3: \"HS\", 4: \"SomeCollege\",\n",
    "                                       5: \"College\", 7: np.nan, 9: np.nan})\n",
    "da[\"RIAGENDRx\"] = da.RIAGENDR.replace({1: \"Male\", 2: \"Female\"})\n",
    "# This is the grouping variable\n",
    "da[\"group\"] = 10*da.SDMVSTRA + da.SDMVPSU\n",
    "da.head()\n",
    "model = sm.MixedLM.from_formula(\"BPXDI1 ~ RIDAGEYR + RIAGENDRx + BMXBMI + C(DMDEDUC2x)\", groups=\"group\", data=da)\n",
    "result = model.fit()\n",
    "result.summary()"
   ]
  },
  {
   "cell_type": "markdown",
   "metadata": {},
   "source": [
    "__Q4a.__ How would you describe the strength of the clustering in this analysis?"
   ]
  },
  {
   "cell_type": "markdown",
   "metadata": {},
   "source": [
    "The \"variance structure parameters\" are what distinguish a mixed model\n",
    "from a marginal model.  Here we only have one such parameter, which is\n",
    "the variance for groups, estimated to be 4.170.  This means that if we\n",
    "were to choose two groups at random, their random effects would differ\n",
    "on average by around 2.89 (this is calculated as the square root of\n",
    "`2*4.170`).  This is a sizable shift, comparable to the difference\n",
    "between females and males, or to around 6 years of aging.\n",
    "\n",
    "Multilevel models can also be used to estimate ICC values.  In the\n",
    "case of a model with one level, which is what we have here, the ICC is\n",
    "the variance of the grouping variable (4.170) divided by the sum of\n",
    "the variance of the grouping variable and the unexplained variance\n",
    "(154.235).  Note that the unexplained variance is in upper part of the\n",
    "output, labeled *scale*.  This ratio is around 0.0263, which is very\n",
    "similar to the estimated ICC obtained using GEE."
   ]
  },
  {
   "cell_type": "markdown",
   "metadata": {},
   "source": [
    "__Q4b:__ Include a random intercept for age, and describe your findings."
   ]
  },
  {
   "cell_type": "markdown",
   "metadata": {},
   "source": []
  },
  {
   "cell_type": "code",
   "execution_count": 24,
   "metadata": {},
   "outputs": [
    {
     "name": "stderr",
     "output_type": "stream",
     "text": [
      "/home/helios/anaconda3/envs/tensorflow_env/lib/python3.6/site-packages/statsmodels/base/model.py:508: ConvergenceWarning: Maximum Likelihood optimization failed to converge. Check mle_retvals\n",
      "  \"Check mle_retvals\", ConvergenceWarning)\n",
      "/home/helios/anaconda3/envs/tensorflow_env/lib/python3.6/site-packages/statsmodels/base/model.py:508: ConvergenceWarning: Maximum Likelihood optimization failed to converge. Check mle_retvals\n",
      "  \"Check mle_retvals\", ConvergenceWarning)\n",
      "/home/helios/anaconda3/envs/tensorflow_env/lib/python3.6/site-packages/statsmodels/base/model.py:508: ConvergenceWarning: Maximum Likelihood optimization failed to converge. Check mle_retvals\n",
      "  \"Check mle_retvals\", ConvergenceWarning)\n",
      "/home/helios/anaconda3/envs/tensorflow_env/lib/python3.6/site-packages/statsmodels/base/model.py:508: ConvergenceWarning: Maximum Likelihood optimization failed to converge. Check mle_retvals\n",
      "  \"Check mle_retvals\", ConvergenceWarning)\n",
      "/home/helios/anaconda3/envs/tensorflow_env/lib/python3.6/site-packages/statsmodels/base/model.py:508: ConvergenceWarning: Maximum Likelihood optimization failed to converge. Check mle_retvals\n",
      "  \"Check mle_retvals\", ConvergenceWarning)\n",
      "/home/helios/anaconda3/envs/tensorflow_env/lib/python3.6/site-packages/statsmodels/regression/mixed_linear_model.py:2026: ConvergenceWarning: Gradient optimization failed.\n",
      "  warnings.warn(msg, ConvergenceWarning)\n",
      "/home/helios/anaconda3/envs/tensorflow_env/lib/python3.6/site-packages/statsmodels/regression/mixed_linear_model.py:2066: ConvergenceWarning: The Hessian matrix at the estimated parameter values is not positive definite.\n",
      "  warnings.warn(msg, ConvergenceWarning)\n",
      "/home/helios/anaconda3/envs/tensorflow_env/lib/python3.6/site-packages/statsmodels/base/model.py:1092: RuntimeWarning: invalid value encountered in sqrt\n",
      "  bse_ = np.sqrt(np.diag(self.cov_params()))\n"
     ]
    },
    {
     "data": {
      "text/html": [
       "<table class=\"simpletable\">\n",
       "<tr>\n",
       "       <td>Model:</td>       <td>MixedLM</td> <td>Dependent Variable:</td>   <td>BPXDI1</td>   \n",
       "</tr>\n",
       "<tr>\n",
       "  <td>No. Observations:</td>  <td>5100</td>         <td>Method:</td>          <td>REML</td>    \n",
       "</tr>\n",
       "<tr>\n",
       "     <td>No. Groups:</td>      <td>30</td>          <td>Scale:</td>         <td>152.5749</td>  \n",
       "</tr>\n",
       "<tr>\n",
       "  <td>Min. group size:</td>    <td>105</td>       <td>Likelihood:</td>     <td>-20178.5484</td>\n",
       "</tr>\n",
       "<tr>\n",
       "  <td>Max. group size:</td>    <td>226</td>       <td>Converged:</td>          <td>No</td>     \n",
       "</tr>\n",
       "<tr>\n",
       "  <td>Mean group size:</td>   <td>170.0</td>           <td></td>                <td></td>      \n",
       "</tr>\n",
       "</table>\n",
       "<table class=\"simpletable\">\n",
       "<tr>\n",
       "               <td></td>                <th>Coef.</th> <th>Std.Err.</th>    <th>z</th>   <th>P>|z|</th> <th>[0.025</th> <th>0.975]</th>\n",
       "</tr>\n",
       "<tr>\n",
       "  <th>Intercept</th>                   <td>80.222</td>   <td>4.402</td>  <td>18.224</td> <td>0.000</td> <td>71.594</td> <td>88.850</td>\n",
       "</tr>\n",
       "<tr>\n",
       "  <th>RIAGENDRx[T.Male]</th>            <td>2.768</td>   <td>0.350</td>   <td>7.917</td> <td>0.000</td>  <td>2.083</td>  <td>3.453</td>\n",
       "</tr>\n",
       "<tr>\n",
       "  <th>C(DMDEDUC2x)[T.HS]</th>          <td>-1.036</td>   <td>0.520</td>  <td>-1.993</td> <td>0.046</td> <td>-2.054</td> <td>-0.017</td>\n",
       "</tr>\n",
       "<tr>\n",
       "  <th>C(DMDEDUC2x)[T.SomeCollege]</th> <td>-0.417</td>   <td>0.483</td>  <td>-0.864</td> <td>0.387</td> <td>-1.363</td>  <td>0.529</td>\n",
       "</tr>\n",
       "<tr>\n",
       "  <th>C(DMDEDUC2x)[T.lt9]</th>         <td>-0.844</td>   <td>0.642</td>  <td>-1.315</td> <td>0.189</td> <td>-2.102</td>  <td>0.414</td>\n",
       "</tr>\n",
       "<tr>\n",
       "  <th>C(DMDEDUC2x)[T.x9_11]</th>       <td>-0.193</td>   <td>0.628</td>  <td>-0.307</td> <td>0.759</td> <td>-1.423</td>  <td>1.038</td>\n",
       "</tr>\n",
       "<tr>\n",
       "  <th>RIDAGEYR</th>                    <td>-0.335</td>   <td>0.088</td>  <td>-3.803</td> <td>0.000</td> <td>-0.508</td> <td>-0.162</td>\n",
       "</tr>\n",
       "<tr>\n",
       "  <th>BMXBMI</th>                       <td>0.185</td>   <td>0.025</td>   <td>7.258</td> <td>0.000</td>  <td>0.135</td>  <td>0.235</td>\n",
       "</tr>\n",
       "<tr>\n",
       "  <th>group Var</th>                    <td>2.073</td>   <td>0.048</td>     <td></td>      <td></td>       <td></td>       <td></td>   \n",
       "</tr>\n",
       "<tr>\n",
       "  <th>group x age_cen Cov</th>         <td>-0.005</td>   <td>0.077</td>     <td></td>      <td></td>       <td></td>       <td></td>   \n",
       "</tr>\n",
       "<tr>\n",
       "  <th>age_cen Var</th>                  <td>3.129</td>     <td></td>        <td></td>      <td></td>       <td></td>       <td></td>   \n",
       "</tr>\n",
       "</table>"
      ],
      "text/plain": [
       "<class 'statsmodels.iolib.summary2.Summary'>\n",
       "\"\"\"\n",
       "                Mixed Linear Model Regression Results\n",
       "======================================================================\n",
       "Model:                 MixedLM     Dependent Variable:     BPXDI1     \n",
       "No. Observations:      5100        Method:                 REML       \n",
       "No. Groups:            30          Scale:                  152.5749   \n",
       "Min. group size:       105         Likelihood:             -20178.5484\n",
       "Max. group size:       226         Converged:              No         \n",
       "Mean group size:       170.0                                          \n",
       "----------------------------------------------------------------------\n",
       "                            Coef.  Std.Err.   z    P>|z| [0.025 0.975]\n",
       "----------------------------------------------------------------------\n",
       "Intercept                   80.222    4.402 18.224 0.000 71.594 88.850\n",
       "RIAGENDRx[T.Male]            2.768    0.350  7.917 0.000  2.083  3.453\n",
       "C(DMDEDUC2x)[T.HS]          -1.036    0.520 -1.993 0.046 -2.054 -0.017\n",
       "C(DMDEDUC2x)[T.SomeCollege] -0.417    0.483 -0.864 0.387 -1.363  0.529\n",
       "C(DMDEDUC2x)[T.lt9]         -0.844    0.642 -1.315 0.189 -2.102  0.414\n",
       "C(DMDEDUC2x)[T.x9_11]       -0.193    0.628 -0.307 0.759 -1.423  1.038\n",
       "RIDAGEYR                    -0.335    0.088 -3.803 0.000 -0.508 -0.162\n",
       "BMXBMI                       0.185    0.025  7.258 0.000  0.135  0.235\n",
       "group Var                    2.073    0.048                           \n",
       "group x age_cen Cov         -0.005    0.077                           \n",
       "age_cen Var                  3.129                                    \n",
       "======================================================================\n",
       "\n",
       "\"\"\""
      ]
     },
     "execution_count": 24,
     "metadata": {},
     "output_type": "execute_result"
    }
   ],
   "source": [
    "da[\"age_cen\"] = da.groupby(\"group\").RIDAGEYR.transform(lambda x: x - x.mean())\n",
    "model = sm.MixedLM.from_formula(\"BPXDI1 ~ RIDAGEYR + RIAGENDRx + BMXBMI + C(DMDEDUC2x)\", \n",
    "                                re_formula=\"1+age_cen\", groups=\"group\", data=da)\n",
    "result = model.fit()\n",
    "result.summary()"
   ]
  },
  {
   "cell_type": "code",
   "execution_count": null,
   "metadata": {},
   "outputs": [],
   "source": []
  }
 ],
 "metadata": {
  "kernelspec": {
   "display_name": "Python 3",
   "language": "python",
   "name": "python3"
  },
  "language_info": {
   "codemirror_mode": {
    "name": "ipython",
    "version": 3
   },
   "file_extension": ".py",
   "mimetype": "text/x-python",
   "name": "python",
   "nbconvert_exporter": "python",
   "pygments_lexer": "ipython3",
   "version": "3.6.8"
  }
 },
 "nbformat": 4,
 "nbformat_minor": 1
}
