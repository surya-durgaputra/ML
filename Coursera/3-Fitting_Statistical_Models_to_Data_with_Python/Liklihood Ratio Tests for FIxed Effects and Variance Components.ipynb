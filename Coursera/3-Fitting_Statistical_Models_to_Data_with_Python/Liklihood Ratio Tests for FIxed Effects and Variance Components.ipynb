{
 "cells": [
  {
   "cell_type": "markdown",
   "metadata": {},
   "source": [
    "# Hypothesis Testing for Multilevel Regression Models\n",
    "\n",
    "- When fitting multilevel models, many hypothesis tests regarding the parameters are based on comparisons of competing models\n",
    "- __Reference model__: A “full” or “saturated” model containing all parameters of interest; different from the null model where only intercepts are included\n",
    "- __Nested model__: A “reduced” model, where some of the parameters in the reference model are constrained to zero\n",
    "\n",
    "# Likelihood Ratio Testing\n",
    "- Compared to the reference model, does fitting the nested model substantially drop the likelihood (or make the observed data seem less likely)?\n",
    "- Likelihood Ratio Tests: -2 __ML__ log-likelihoods\n",
    "\n",
    "Fixed Effects\n",
    "\n",
    "Covariance Parameters\n",
    "\n",
    "# Likelihood Ratio Tests for Fixed Effects\n",
    "- Simple idea, but assumes “large” sample of clusters and “large” samples within clusters\n",
    "- __Null hypothesis__: selected fixed effects are all equal to zero (not important predictors)\n",
    "- __Test statistic__: difference in final -2 ML log-likelihoods between nested and reference models (nested model has some fixed effects set to zero)\n",
    "- Refer difference to chi-square distribution with q degrees of freedom, where q is difference between two models in number of fixed effects estimated\n",
    "\n",
    "# Likelihood Ratio Tests for (Co)variance Parameters\n",
    "- __If the null hypothesis does not specify that a covariance parameter is equal to the boundary of its parameter space (e.g., a variance is equal to zero):__\n",
    "\n",
    "Same approach as for fixed effects, __using restricted maximum likelihood__\n",
    "\n",
    "- __If testing that a variance is equal to zero (e.g., the variance of a given random effect):__\n",
    "\n",
    "Compute test statistics, but refer to approximate mixture of chi-square distributions\n",
    "\n",
    "See below for an example using the ESS data\n",
    "\n",
    "Not widely implemented in software...\n",
    "\n",
    "# Likelihood Ratio Test Example: Testing for Random Slopes in the ESS Case Study\n",
    "- Null hypothesis: The variance of the random interviewer effects on the slope of interest is zero (in other words, these random effects on the slope are not needed in the model)\n",
    "- Alternative hypothesis: The variance of the random interviewer effects on the slope of interest is greater than zero\n",
    "- First, fit the model WITH random interviewer effects on the slope of interest, using restricted maximum likelihood estimation\n",
    "\n",
    "-2 REML log-likelihood = 7143.3\n",
    "\n",
    "- Next, fit the nested model WITHOUT the random interviewer effects on the slope:\n",
    "\n",
    "-2 REML log-likelihood = 7166.8 (higher value = worse fit!)\n",
    "\n",
    "- Compute the positive difference in the -2 REML log-likelihood values (“REML criterion”) for the models:\n",
    "\n",
    "Test Statistic (TS) = 7166.8 – 7143.3 = 23.5\n",
    "\n",
    "- Refer the TS to a mixture of chi-square distributions with 1 and 2 DF, and equal weight 0.5:  \n",
    "$>0.5*(1-pchisq(23.5,1)) + 0.5*(1-pchisq(23.5,2))$\n",
    "\n",
    "[1] 4.569231e-06\n",
    "\n",
    "p < 0.001 (Reject the null hypothesis that the variance of the random interviewer effects on the slope is zero; strong evidence of interviewer variance in the slopes!)\n",
    "\n",
    "- We would follow the same approach when testing the variance of the random interviewer effects on the intercept\n",
    "- If we fit a model that ONLY includes random effects of the clusters on the intercept (a random intercept model), we would test that variance by removing the random effects, and referring the same test statistic to a mixture of chi-square distributions with 0 and 1 DF, and equal weight 0.5"
   ]
  },
  {
   "cell_type": "code",
   "execution_count": null,
   "metadata": {},
   "outputs": [],
   "source": []
  }
 ],
 "metadata": {
  "kernelspec": {
   "display_name": "Python 3",
   "language": "python",
   "name": "python3"
  },
  "language_info": {
   "codemirror_mode": {
    "name": "ipython",
    "version": 3
   },
   "file_extension": ".py",
   "mimetype": "text/x-python",
   "name": "python",
   "nbconvert_exporter": "python",
   "pygments_lexer": "ipython3",
   "version": "3.6.8"
  }
 },
 "nbformat": 4,
 "nbformat_minor": 2
}
