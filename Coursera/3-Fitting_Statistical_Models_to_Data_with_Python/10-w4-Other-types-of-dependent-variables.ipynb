{
 "cells": [
  {
   "cell_type": "markdown",
   "metadata": {},
   "source": [
    "As we start this week, take a moment to review some readings below on other types of dependent variables and overviews of how to analyze them statistically.\n",
    "\n",
    "Multinomial\n",
    "Multinomial data are categorical data with more than two possible categories. This resource discusses different ways to analyze multinomial data. In section 6.1.1 the authors show an interesting example data set where the dependent variable was which contraceptive women used: http://data.princeton.edu/wws509/notes/c6s1.html\n",
    "\n",
    "Ordinal\n",
    "Ordinal data is categorical data where there is a natural order of categories, but the distance between categories is unknown. The Likert scale is one of the most common types of ordinal dependent variables. Check out more on the Likert scale here: https://www.joe.org/joe/2012april/tt2.php\n",
    "\n",
    "Count\n",
    "Count data are data that take on the values of non-negative integers (0, 1, 2, …).  Examples of count dependent variables can be the number of steps a person takes in a day, number of deaths in a country in a given year, or the number of soccer goals scored by a player. This resource shows some examples of count dependent variables and methods for analyzing it: https://stats.idre.ucla.edu/stata/seminars/regression-models-with-count-data/\n",
    "\n",
    "Time to event\n",
    "Time to event data describes how long it takes for an event occurs. One of the most common examples is time until death being used as an outcome to assess the effectiveness of a new therapy or treatment. This resource gives an overview of time-to-event data with examples. http://sphweb.bumc.bu.edu/otlt/MPH-Modules/BS/BS704_Survival/BS704_Survival_print.html"
   ]
  },
  {
   "cell_type": "code",
   "execution_count": null,
   "metadata": {},
   "outputs": [],
   "source": []
  }
 ],
 "metadata": {
  "kernelspec": {
   "display_name": "Python 3",
   "language": "python",
   "name": "python3"
  },
  "language_info": {
   "codemirror_mode": {
    "name": "ipython",
    "version": 3
   },
   "file_extension": ".py",
   "mimetype": "text/x-python",
   "name": "python",
   "nbconvert_exporter": "python",
   "pygments_lexer": "ipython3",
   "version": "3.6.8"
  }
 },
 "nbformat": 4,
 "nbformat_minor": 2
}
