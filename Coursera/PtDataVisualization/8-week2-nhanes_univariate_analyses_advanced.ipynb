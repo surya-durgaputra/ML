{
 "cells": [
  {
   "cell_type": "markdown",
   "metadata": {},
   "source": [
    "# Practice notebook for univariate analysis using NHANES data\n",
    "\n",
    "This notebook will give you the opportunity to perform some univariate analyses on your own using the NHANES.  These analyses are similar to what was done in the week 2 NHANES case study notebook.\n",
    "\n",
    "You can enter your code into the cells that say \"enter your code here\", and you can type responses to the questions into the cells that say \"Type Markdown and Latex\".\n",
    "\n",
    "Note that most of the code that you will need to write below is very similar to code that appears in the case study notebook.  You will need to edit code from that notebook in small ways to adapt it to the prompts below.\n",
    "\n",
    "To get started, we will use the same module imports and read the data in the same way as we did in the case study:"
   ]
  },
  {
   "cell_type": "code",
   "execution_count": 2,
   "metadata": {},
   "outputs": [
    {
     "data": {
      "text/html": [
       "<div>\n",
       "<style scoped>\n",
       "    .dataframe tbody tr th:only-of-type {\n",
       "        vertical-align: middle;\n",
       "    }\n",
       "\n",
       "    .dataframe tbody tr th {\n",
       "        vertical-align: top;\n",
       "    }\n",
       "\n",
       "    .dataframe thead th {\n",
       "        text-align: right;\n",
       "    }\n",
       "</style>\n",
       "<table border=\"1\" class=\"dataframe\">\n",
       "  <thead>\n",
       "    <tr style=\"text-align: right;\">\n",
       "      <th></th>\n",
       "      <th>Unnamed: 0</th>\n",
       "      <th>SEQN</th>\n",
       "      <th>ALQ101</th>\n",
       "      <th>ALQ110</th>\n",
       "      <th>ALQ130</th>\n",
       "      <th>SMQ020</th>\n",
       "      <th>RIAGENDR</th>\n",
       "      <th>RIDAGEYR</th>\n",
       "      <th>RIDRETH1</th>\n",
       "      <th>DMDCITZN</th>\n",
       "      <th>...</th>\n",
       "      <th>BPXSY2</th>\n",
       "      <th>BPXDI2</th>\n",
       "      <th>BMXWT</th>\n",
       "      <th>BMXHT</th>\n",
       "      <th>BMXBMI</th>\n",
       "      <th>BMXLEG</th>\n",
       "      <th>BMXARML</th>\n",
       "      <th>BMXARMC</th>\n",
       "      <th>BMXWAIST</th>\n",
       "      <th>HIQ210</th>\n",
       "    </tr>\n",
       "  </thead>\n",
       "  <tbody>\n",
       "    <tr>\n",
       "      <th>0</th>\n",
       "      <td>0</td>\n",
       "      <td>83732</td>\n",
       "      <td>1.0</td>\n",
       "      <td>NaN</td>\n",
       "      <td>1.0</td>\n",
       "      <td>1</td>\n",
       "      <td>1</td>\n",
       "      <td>62</td>\n",
       "      <td>3</td>\n",
       "      <td>1.0</td>\n",
       "      <td>...</td>\n",
       "      <td>124.0</td>\n",
       "      <td>64.0</td>\n",
       "      <td>94.8</td>\n",
       "      <td>184.5</td>\n",
       "      <td>27.8</td>\n",
       "      <td>43.3</td>\n",
       "      <td>43.6</td>\n",
       "      <td>35.9</td>\n",
       "      <td>101.1</td>\n",
       "      <td>2.0</td>\n",
       "    </tr>\n",
       "    <tr>\n",
       "      <th>1</th>\n",
       "      <td>1</td>\n",
       "      <td>83733</td>\n",
       "      <td>1.0</td>\n",
       "      <td>NaN</td>\n",
       "      <td>6.0</td>\n",
       "      <td>1</td>\n",
       "      <td>1</td>\n",
       "      <td>53</td>\n",
       "      <td>3</td>\n",
       "      <td>2.0</td>\n",
       "      <td>...</td>\n",
       "      <td>140.0</td>\n",
       "      <td>88.0</td>\n",
       "      <td>90.4</td>\n",
       "      <td>171.4</td>\n",
       "      <td>30.8</td>\n",
       "      <td>38.0</td>\n",
       "      <td>40.0</td>\n",
       "      <td>33.2</td>\n",
       "      <td>107.9</td>\n",
       "      <td>NaN</td>\n",
       "    </tr>\n",
       "    <tr>\n",
       "      <th>2</th>\n",
       "      <td>2</td>\n",
       "      <td>83734</td>\n",
       "      <td>1.0</td>\n",
       "      <td>NaN</td>\n",
       "      <td>NaN</td>\n",
       "      <td>1</td>\n",
       "      <td>1</td>\n",
       "      <td>78</td>\n",
       "      <td>3</td>\n",
       "      <td>1.0</td>\n",
       "      <td>...</td>\n",
       "      <td>132.0</td>\n",
       "      <td>44.0</td>\n",
       "      <td>83.4</td>\n",
       "      <td>170.1</td>\n",
       "      <td>28.8</td>\n",
       "      <td>35.6</td>\n",
       "      <td>37.0</td>\n",
       "      <td>31.0</td>\n",
       "      <td>116.5</td>\n",
       "      <td>2.0</td>\n",
       "    </tr>\n",
       "    <tr>\n",
       "      <th>3</th>\n",
       "      <td>3</td>\n",
       "      <td>83735</td>\n",
       "      <td>2.0</td>\n",
       "      <td>1.0</td>\n",
       "      <td>1.0</td>\n",
       "      <td>2</td>\n",
       "      <td>2</td>\n",
       "      <td>56</td>\n",
       "      <td>3</td>\n",
       "      <td>1.0</td>\n",
       "      <td>...</td>\n",
       "      <td>134.0</td>\n",
       "      <td>68.0</td>\n",
       "      <td>109.8</td>\n",
       "      <td>160.9</td>\n",
       "      <td>42.4</td>\n",
       "      <td>38.5</td>\n",
       "      <td>37.7</td>\n",
       "      <td>38.3</td>\n",
       "      <td>110.1</td>\n",
       "      <td>2.0</td>\n",
       "    </tr>\n",
       "    <tr>\n",
       "      <th>4</th>\n",
       "      <td>4</td>\n",
       "      <td>83736</td>\n",
       "      <td>2.0</td>\n",
       "      <td>1.0</td>\n",
       "      <td>1.0</td>\n",
       "      <td>2</td>\n",
       "      <td>2</td>\n",
       "      <td>42</td>\n",
       "      <td>4</td>\n",
       "      <td>1.0</td>\n",
       "      <td>...</td>\n",
       "      <td>114.0</td>\n",
       "      <td>54.0</td>\n",
       "      <td>55.2</td>\n",
       "      <td>164.9</td>\n",
       "      <td>20.3</td>\n",
       "      <td>37.4</td>\n",
       "      <td>36.0</td>\n",
       "      <td>27.2</td>\n",
       "      <td>80.4</td>\n",
       "      <td>2.0</td>\n",
       "    </tr>\n",
       "  </tbody>\n",
       "</table>\n",
       "<p>5 rows × 29 columns</p>\n",
       "</div>"
      ],
      "text/plain": [
       "   Unnamed: 0   SEQN  ALQ101  ALQ110  ALQ130  SMQ020  RIAGENDR  RIDAGEYR  \\\n",
       "0           0  83732     1.0     NaN     1.0       1         1        62   \n",
       "1           1  83733     1.0     NaN     6.0       1         1        53   \n",
       "2           2  83734     1.0     NaN     NaN       1         1        78   \n",
       "3           3  83735     2.0     1.0     1.0       2         2        56   \n",
       "4           4  83736     2.0     1.0     1.0       2         2        42   \n",
       "\n",
       "   RIDRETH1  DMDCITZN  ...  BPXSY2  BPXDI2  BMXWT  BMXHT  BMXBMI  BMXLEG  \\\n",
       "0         3       1.0  ...   124.0    64.0   94.8  184.5    27.8    43.3   \n",
       "1         3       2.0  ...   140.0    88.0   90.4  171.4    30.8    38.0   \n",
       "2         3       1.0  ...   132.0    44.0   83.4  170.1    28.8    35.6   \n",
       "3         3       1.0  ...   134.0    68.0  109.8  160.9    42.4    38.5   \n",
       "4         4       1.0  ...   114.0    54.0   55.2  164.9    20.3    37.4   \n",
       "\n",
       "   BMXARML  BMXARMC  BMXWAIST  HIQ210  \n",
       "0     43.6     35.9     101.1     2.0  \n",
       "1     40.0     33.2     107.9     NaN  \n",
       "2     37.0     31.0     116.5     2.0  \n",
       "3     37.7     38.3     110.1     2.0  \n",
       "4     36.0     27.2      80.4     2.0  \n",
       "\n",
       "[5 rows x 29 columns]"
      ]
     },
     "execution_count": 2,
     "metadata": {},
     "output_type": "execute_result"
    }
   ],
   "source": [
    "%matplotlib inline\n",
    "import matplotlib.pyplot as plt\n",
    "import seaborn as sns\n",
    "import pandas as pd\n",
    "import statsmodels.api as sm\n",
    "import numpy as np\n",
    "\n",
    "da = pd.read_csv(\"data/nhanes_2015_2016.csv\")\n",
    "pd.isnull(da.DMDMARTL).sum()\n",
    "da.head()"
   ]
  },
  {
   "cell_type": "markdown",
   "metadata": {},
   "source": [
    "## Question 1\n",
    "\n",
    "Relabel the marital status variable [DMDMARTL](https://wwwn.cdc.gov/Nchs/Nhanes/2015-2016/DEMO_I.htm#DMDMARTL) to have brief but informative character labels.  Then construct a frequency table of these values for all people, then for women only, and for men only.  Then construct these three frequency tables using only people whose age is between 30 and 40."
   ]
  },
  {
   "cell_type": "code",
   "execution_count": 65,
   "metadata": {},
   "outputs": [
    {
     "name": "stdout",
     "output_type": "stream",
     "text": [
      "All people: \n",
      "Married                2780\n",
      "Never married          1004\n",
      "Divorced                579\n",
      "Living with partner     527\n",
      "Widowed                 396\n",
      "Separated               186\n",
      "Refused                   2\n",
      "Name: DMDMARTL, dtype: int64\n",
      "\n",
      "\n",
      "Women: \n",
      "Married                1303\n",
      "Never married           520\n",
      "Divorced                350\n",
      "Widowed                 296\n",
      "Living with partner     262\n",
      "Separated               118\n",
      "Refused                   1\n",
      "Name: DMDMARTL, dtype: int64\n",
      "\n",
      "\n",
      "Men: \n",
      "Married                1477\n",
      "Never married           484\n",
      "Living with partner     265\n",
      "Divorced                229\n",
      "Widowed                 100\n",
      "Separated                68\n",
      "Refused                   1\n",
      "Name: DMDMARTL, dtype: int64\n",
      "\n",
      "\n",
      "30-40 people: \n",
      "Married                560\n",
      "Never married          217\n",
      "Living with partner    143\n",
      "Divorced                70\n",
      "Separated               30\n",
      "Widowed                  5\n",
      "Refused                  1\n",
      "Name: DMDMARTL, dtype: int64\n",
      "\n",
      "\n",
      "30-40 Women: \n",
      "Married                285\n",
      "Never married          116\n",
      "Living with partner     65\n",
      "Divorced                46\n",
      "Separated               18\n",
      "Widowed                  2\n",
      "Name: DMDMARTL, dtype: int64\n",
      "\n",
      "\n",
      "30-40Men: \n",
      "Married                275\n",
      "Never married          101\n",
      "Living with partner     78\n",
      "Divorced                24\n",
      "Separated               12\n",
      "Widowed                  3\n",
      "Refused                  1\n",
      "Name: DMDMARTL, dtype: int64\n"
     ]
    }
   ],
   "source": [
    "# insert your code here\n",
    "da['DMDMARTL'] = da['DMDMARTL'].replace({\n",
    "    1:'Married',\n",
    "    2:'Widowed',\n",
    "    3:'Divorced',\n",
    "    4:'Separated',\n",
    "    5:'Never married',\n",
    "    6:'Living with partner',\n",
    "    77:'Refused',\n",
    "    99:\"Don't Know\"\n",
    "})\n",
    "da[\"RIAGENDRx\"] = da.RIAGENDR.replace({1: \"Male\", 2: \"Female\"})\n",
    "print('All people: \\n{}'.format(da.DMDMARTL.value_counts()))\n",
    "print('\\n')\n",
    "women = da[da['RIAGENDR']==2]\n",
    "men = da[da['RIAGENDR']==1]\n",
    "print('Women: \\n{}'.format(women.DMDMARTL.value_counts()))\n",
    "print('\\n')\n",
    "print('Men: \\n{}'.format(men.DMDMARTL.value_counts()))\n",
    "print('\\n')\n",
    "da_30_40 = da[(da.RIDAGEYR>=30) & (da.RIDAGEYR<=40)]\n",
    "print('30-40 people: \\n{}'.format(da_30_40.DMDMARTL.value_counts()))\n",
    "print('\\n')\n",
    "women_30_40 = da_30_40[da_30_40['RIAGENDR']==2]\n",
    "men_30_40 = da_30_40[da_30_40['RIAGENDR']==1]\n",
    "print('30-40 Women: \\n{}'.format(women_30_40.DMDMARTL.value_counts()))\n",
    "print('\\n')\n",
    "print('30-40Men: \\n{}'.format(men_30_40.DMDMARTL.value_counts()))"
   ]
  },
  {
   "cell_type": "markdown",
   "metadata": {},
   "source": [
    "__Q1a.__ Briefly comment on some of the differences that you observe between the distribution of marital status between women and men, for people of all ages."
   ]
  },
  {
   "cell_type": "code",
   "execution_count": 4,
   "metadata": {},
   "outputs": [
    {
     "name": "stdout",
     "output_type": "stream",
     "text": [
      "Women: \n",
      "Married                45.719298\n",
      "Never married          18.245614\n",
      "Divorced               12.280702\n",
      "Widowed                10.385965\n",
      "Living with partner     9.192982\n",
      "Separated               4.140351\n",
      "Refused                 0.035088\n",
      "Name: DMDMARTL, dtype: float64\n",
      "\n",
      "\n",
      "Men: \n",
      "Married                56.288110\n",
      "Never married          18.445122\n",
      "Living with partner    10.099085\n",
      "Divorced                8.727134\n",
      "Widowed                 3.810976\n",
      "Separated               2.591463\n",
      "Refused                 0.038110\n",
      "Name: DMDMARTL, dtype: float64\n"
     ]
    }
   ],
   "source": [
    "w_series = women.DMDMARTL.value_counts()\n",
    "w_series = (w_series/w_series.sum())*100\n",
    "m_series = men.DMDMARTL.value_counts()\n",
    "m_series = (m_series/m_series.sum())*100\n",
    "\n",
    "print('Women: \\n{}'.format(w_series))\n",
    "print('\\n')\n",
    "print('Men: \\n{}'.format(m_series))"
   ]
  },
  {
   "cell_type": "markdown",
   "metadata": {},
   "source": [
    "Greater proportion of men are married than women.\n",
    "Greater proportion of women are divorced than men.\n",
    "Greater proportion of women are widowed than men.\n",
    "Greater proportion of women are separated than men."
   ]
  },
  {
   "cell_type": "markdown",
   "metadata": {},
   "source": [
    "__Q1b.__ Briefly comment on the differences that you observe between the distribution of marital status states for women between the overall population, and for women between the ages of 30 and 40."
   ]
  },
  {
   "cell_type": "code",
   "execution_count": 5,
   "metadata": {},
   "outputs": [
    {
     "name": "stdout",
     "output_type": "stream",
     "text": [
      "Women: \n",
      "Married                45.719298\n",
      "Never married          18.245614\n",
      "Divorced               12.280702\n",
      "Widowed                10.385965\n",
      "Living with partner     9.192982\n",
      "Separated               4.140351\n",
      "Refused                 0.035088\n",
      "Name: DMDMARTL, dtype: float64\n",
      "\n",
      "\n",
      "Women 30 - 40: \n",
      "Married                53.571429\n",
      "Never married          21.804511\n",
      "Living with partner    12.218045\n",
      "Divorced                8.646617\n",
      "Separated               3.383459\n",
      "Widowed                 0.375940\n",
      "Name: DMDMARTL, dtype: float64\n"
     ]
    }
   ],
   "source": [
    "w_30_40_series = women_30_40.DMDMARTL.value_counts()\n",
    "w_30_40_series = (w_30_40_series/w_30_40_series.sum())*100\n",
    "\n",
    "print('Women: \\n{}'.format(w_series))\n",
    "print('\\n')\n",
    "print('Women 30 - 40: \\n{}'.format(w_30_40_series))"
   ]
  },
  {
   "cell_type": "markdown",
   "metadata": {},
   "source": [
    "Much greater proportion of all-ages women are widowed than those in 30-40.\n",
    "Much greater proportion of 30 - 40 women are married than those in all-ages women."
   ]
  },
  {
   "cell_type": "markdown",
   "metadata": {},
   "source": [
    "__Q1c.__ Repeat part b for the men."
   ]
  },
  {
   "cell_type": "code",
   "execution_count": 6,
   "metadata": {},
   "outputs": [
    {
     "name": "stdout",
     "output_type": "stream",
     "text": [
      "Men: \n",
      "Married                56.288110\n",
      "Never married          18.445122\n",
      "Living with partner    10.099085\n",
      "Divorced                8.727134\n",
      "Widowed                 3.810976\n",
      "Separated               2.591463\n",
      "Refused                 0.038110\n",
      "Name: DMDMARTL, dtype: float64\n",
      "\n",
      "\n",
      "Men 30 - 40: \n",
      "Married                55.668016\n",
      "Never married          20.445344\n",
      "Living with partner    15.789474\n",
      "Divorced                4.858300\n",
      "Separated               2.429150\n",
      "Widowed                 0.607287\n",
      "Refused                 0.202429\n",
      "Name: DMDMARTL, dtype: float64\n"
     ]
    }
   ],
   "source": [
    "m_30_40_series = men_30_40.DMDMARTL.value_counts()\n",
    "m_30_40_series = (m_30_40_series/m_30_40_series.sum())*100\n",
    "\n",
    "print('Men: \\n{}'.format(m_series))\n",
    "print('\\n')\n",
    "print('Men 30 - 40: \\n{}'.format(m_30_40_series))"
   ]
  },
  {
   "cell_type": "markdown",
   "metadata": {},
   "source": [
    "Greater proportion of 30-40 men are living with partners.\n",
    "Lesser proportion of 30-40 men are divorced.\n",
    "Lesser proportion of 30-40 men are widowed."
   ]
  },
  {
   "cell_type": "markdown",
   "metadata": {},
   "source": [
    "## Question 2\n",
    "\n",
    "Restricting to the female population, stratify the subjects into age bands no wider than ten years, and construct the distribution of marital status within each age band.  Within each age band, present the distribution in terms of proportions that must sum to 1."
   ]
  },
  {
   "cell_type": "code",
   "execution_count": 7,
   "metadata": {},
   "outputs": [
    {
     "name": "stderr",
     "output_type": "stream",
     "text": [
      "/home/helios/anaconda3/envs/tensorflow_env/lib/python3.6/site-packages/ipykernel_launcher.py:1: SettingWithCopyWarning: \n",
      "A value is trying to be set on a copy of a slice from a DataFrame.\n",
      "Try using .loc[row_indexer,col_indexer] = value instead\n",
      "\n",
      "See the caveats in the documentation: http://pandas.pydata.org/pandas-docs/stable/indexing.html#indexing-view-versus-copy\n",
      "  \"\"\"Entry point for launching an IPython kernel.\n"
     ]
    },
    {
     "data": {
      "text/html": [
       "<div>\n",
       "<style scoped>\n",
       "    .dataframe tbody tr th:only-of-type {\n",
       "        vertical-align: middle;\n",
       "    }\n",
       "\n",
       "    .dataframe tbody tr th {\n",
       "        vertical-align: top;\n",
       "    }\n",
       "\n",
       "    .dataframe thead th {\n",
       "        text-align: right;\n",
       "    }\n",
       "</style>\n",
       "<table border=\"1\" class=\"dataframe\">\n",
       "  <thead>\n",
       "    <tr style=\"text-align: right;\">\n",
       "      <th>DMDMARTL</th>\n",
       "      <th>Divorced</th>\n",
       "      <th>Living with partner</th>\n",
       "      <th>Married</th>\n",
       "      <th>Never married</th>\n",
       "      <th>Refused</th>\n",
       "      <th>Separated</th>\n",
       "      <th>Widowed</th>\n",
       "    </tr>\n",
       "    <tr>\n",
       "      <th>agegrp</th>\n",
       "      <th></th>\n",
       "      <th></th>\n",
       "      <th></th>\n",
       "      <th></th>\n",
       "      <th></th>\n",
       "      <th></th>\n",
       "      <th></th>\n",
       "    </tr>\n",
       "  </thead>\n",
       "  <tbody>\n",
       "    <tr>\n",
       "      <th>(18, 20]</th>\n",
       "      <td>NaN</td>\n",
       "      <td>0.205128</td>\n",
       "      <td>0.025641</td>\n",
       "      <td>0.769231</td>\n",
       "      <td>NaN</td>\n",
       "      <td>NaN</td>\n",
       "      <td>NaN</td>\n",
       "    </tr>\n",
       "    <tr>\n",
       "      <th>(20, 30]</th>\n",
       "      <td>0.021401</td>\n",
       "      <td>0.206226</td>\n",
       "      <td>0.305447</td>\n",
       "      <td>0.445525</td>\n",
       "      <td>NaN</td>\n",
       "      <td>0.021401</td>\n",
       "      <td>NaN</td>\n",
       "    </tr>\n",
       "    <tr>\n",
       "      <th>(30, 40]</th>\n",
       "      <td>0.090717</td>\n",
       "      <td>0.120253</td>\n",
       "      <td>0.544304</td>\n",
       "      <td>0.204641</td>\n",
       "      <td>NaN</td>\n",
       "      <td>0.035865</td>\n",
       "      <td>0.004219</td>\n",
       "    </tr>\n",
       "    <tr>\n",
       "      <th>(40, 50]</th>\n",
       "      <td>0.137450</td>\n",
       "      <td>0.073705</td>\n",
       "      <td>0.573705</td>\n",
       "      <td>0.125498</td>\n",
       "      <td>NaN</td>\n",
       "      <td>0.065737</td>\n",
       "      <td>0.023904</td>\n",
       "    </tr>\n",
       "    <tr>\n",
       "      <th>(50, 60]</th>\n",
       "      <td>0.176596</td>\n",
       "      <td>0.068085</td>\n",
       "      <td>0.546809</td>\n",
       "      <td>0.089362</td>\n",
       "      <td>0.002128</td>\n",
       "      <td>0.057447</td>\n",
       "      <td>0.059574</td>\n",
       "    </tr>\n",
       "    <tr>\n",
       "      <th>(60, 70]</th>\n",
       "      <td>0.192744</td>\n",
       "      <td>0.043084</td>\n",
       "      <td>0.480726</td>\n",
       "      <td>0.086168</td>\n",
       "      <td>NaN</td>\n",
       "      <td>0.049887</td>\n",
       "      <td>0.147392</td>\n",
       "    </tr>\n",
       "    <tr>\n",
       "      <th>(70, 80]</th>\n",
       "      <td>0.143902</td>\n",
       "      <td>0.007317</td>\n",
       "      <td>0.317073</td>\n",
       "      <td>0.051220</td>\n",
       "      <td>NaN</td>\n",
       "      <td>0.019512</td>\n",
       "      <td>0.460976</td>\n",
       "    </tr>\n",
       "  </tbody>\n",
       "</table>\n",
       "</div>"
      ],
      "text/plain": [
       "DMDMARTL  Divorced  Living with partner   Married  Never married   Refused  \\\n",
       "agegrp                                                                       \n",
       "(18, 20]       NaN             0.205128  0.025641       0.769231       NaN   \n",
       "(20, 30]  0.021401             0.206226  0.305447       0.445525       NaN   \n",
       "(30, 40]  0.090717             0.120253  0.544304       0.204641       NaN   \n",
       "(40, 50]  0.137450             0.073705  0.573705       0.125498       NaN   \n",
       "(50, 60]  0.176596             0.068085  0.546809       0.089362  0.002128   \n",
       "(60, 70]  0.192744             0.043084  0.480726       0.086168       NaN   \n",
       "(70, 80]  0.143902             0.007317  0.317073       0.051220       NaN   \n",
       "\n",
       "DMDMARTL  Separated   Widowed  \n",
       "agegrp                         \n",
       "(18, 20]        NaN       NaN  \n",
       "(20, 30]   0.021401       NaN  \n",
       "(30, 40]   0.035865  0.004219  \n",
       "(40, 50]   0.065737  0.023904  \n",
       "(50, 60]   0.057447  0.059574  \n",
       "(60, 70]   0.049887  0.147392  \n",
       "(70, 80]   0.019512  0.460976  "
      ]
     },
     "execution_count": 7,
     "metadata": {},
     "output_type": "execute_result"
    }
   ],
   "source": [
    "women[\"agegrp\"] = pd.cut(women.RIDAGEYR, [18, 20, 30, 40, 50, 60, 70, 80]) # Create age strata based on these cut points\n",
    "w_marital = women.groupby([\"agegrp\"])['DMDMARTL']\n",
    "w_marital = w_marital.value_counts()\n",
    "w_marital = w_marital.unstack()\n",
    "w_marital = w_marital.apply(lambda x: x/x.sum(), axis=1)\n",
    "w_marital"
   ]
  },
  {
   "cell_type": "markdown",
   "metadata": {},
   "source": [
    "__Q2a.__ Comment on the trends that you see in this series of marginal distributions."
   ]
  },
  {
   "cell_type": "markdown",
   "metadata": {},
   "source": [
    "18-20: most women are never-married\n",
    "20-30: almost half the women are either Living with partner or married. Significant never-married.\n",
    "30-40: more than half the women are married. \n",
    "40-50: more than half the women are maried. There are also significant divorced and never married.\n",
    "50-60: more than half the women are maried. There are also significant divorced.\n",
    "60-70: Less than half the women are maried. There are also significant divorced and widowed.\n",
    "70-80: Less than half the women are widowed. There are also significant divorced and married."
   ]
  },
  {
   "cell_type": "markdown",
   "metadata": {},
   "source": [
    "__Q2b.__ Repeat the construction for males."
   ]
  },
  {
   "cell_type": "code",
   "execution_count": 8,
   "metadata": {},
   "outputs": [
    {
     "name": "stderr",
     "output_type": "stream",
     "text": [
      "/home/helios/anaconda3/envs/tensorflow_env/lib/python3.6/site-packages/ipykernel_launcher.py:2: SettingWithCopyWarning: \n",
      "A value is trying to be set on a copy of a slice from a DataFrame.\n",
      "Try using .loc[row_indexer,col_indexer] = value instead\n",
      "\n",
      "See the caveats in the documentation: http://pandas.pydata.org/pandas-docs/stable/indexing.html#indexing-view-versus-copy\n",
      "  \n"
     ]
    },
    {
     "data": {
      "text/html": [
       "<div>\n",
       "<style scoped>\n",
       "    .dataframe tbody tr th:only-of-type {\n",
       "        vertical-align: middle;\n",
       "    }\n",
       "\n",
       "    .dataframe tbody tr th {\n",
       "        vertical-align: top;\n",
       "    }\n",
       "\n",
       "    .dataframe thead th {\n",
       "        text-align: right;\n",
       "    }\n",
       "</style>\n",
       "<table border=\"1\" class=\"dataframe\">\n",
       "  <thead>\n",
       "    <tr style=\"text-align: right;\">\n",
       "      <th>DMDMARTL</th>\n",
       "      <th>Divorced</th>\n",
       "      <th>Living with partner</th>\n",
       "      <th>Married</th>\n",
       "      <th>Never married</th>\n",
       "      <th>Refused</th>\n",
       "      <th>Separated</th>\n",
       "      <th>Widowed</th>\n",
       "    </tr>\n",
       "    <tr>\n",
       "      <th>agegrp</th>\n",
       "      <th></th>\n",
       "      <th></th>\n",
       "      <th></th>\n",
       "      <th></th>\n",
       "      <th></th>\n",
       "      <th></th>\n",
       "      <th></th>\n",
       "    </tr>\n",
       "  </thead>\n",
       "  <tbody>\n",
       "    <tr>\n",
       "      <th>(18, 20]</th>\n",
       "      <td>NaN</td>\n",
       "      <td>0.075000</td>\n",
       "      <td>0.025000</td>\n",
       "      <td>0.900000</td>\n",
       "      <td>NaN</td>\n",
       "      <td>NaN</td>\n",
       "      <td>NaN</td>\n",
       "    </tr>\n",
       "    <tr>\n",
       "      <th>(20, 30]</th>\n",
       "      <td>0.004630</td>\n",
       "      <td>0.212963</td>\n",
       "      <td>0.238426</td>\n",
       "      <td>0.523148</td>\n",
       "      <td>NaN</td>\n",
       "      <td>0.016204</td>\n",
       "      <td>0.004630</td>\n",
       "    </tr>\n",
       "    <tr>\n",
       "      <th>(30, 40]</th>\n",
       "      <td>0.052402</td>\n",
       "      <td>0.157205</td>\n",
       "      <td>0.563319</td>\n",
       "      <td>0.194323</td>\n",
       "      <td>0.002183</td>\n",
       "      <td>0.026201</td>\n",
       "      <td>0.004367</td>\n",
       "    </tr>\n",
       "    <tr>\n",
       "      <th>(40, 50]</th>\n",
       "      <td>0.084788</td>\n",
       "      <td>0.082294</td>\n",
       "      <td>0.703242</td>\n",
       "      <td>0.097257</td>\n",
       "      <td>NaN</td>\n",
       "      <td>0.027431</td>\n",
       "      <td>0.004988</td>\n",
       "    </tr>\n",
       "    <tr>\n",
       "      <th>(50, 60]</th>\n",
       "      <td>0.125551</td>\n",
       "      <td>0.074890</td>\n",
       "      <td>0.651982</td>\n",
       "      <td>0.103524</td>\n",
       "      <td>NaN</td>\n",
       "      <td>0.022026</td>\n",
       "      <td>0.022026</td>\n",
       "    </tr>\n",
       "    <tr>\n",
       "      <th>(60, 70]</th>\n",
       "      <td>0.125858</td>\n",
       "      <td>0.050343</td>\n",
       "      <td>0.665904</td>\n",
       "      <td>0.086957</td>\n",
       "      <td>NaN</td>\n",
       "      <td>0.032037</td>\n",
       "      <td>0.038902</td>\n",
       "    </tr>\n",
       "    <tr>\n",
       "      <th>(70, 80]</th>\n",
       "      <td>0.141791</td>\n",
       "      <td>0.022388</td>\n",
       "      <td>0.611940</td>\n",
       "      <td>0.022388</td>\n",
       "      <td>NaN</td>\n",
       "      <td>0.034826</td>\n",
       "      <td>0.166667</td>\n",
       "    </tr>\n",
       "  </tbody>\n",
       "</table>\n",
       "</div>"
      ],
      "text/plain": [
       "DMDMARTL  Divorced  Living with partner   Married  Never married   Refused  \\\n",
       "agegrp                                                                       \n",
       "(18, 20]       NaN             0.075000  0.025000       0.900000       NaN   \n",
       "(20, 30]  0.004630             0.212963  0.238426       0.523148       NaN   \n",
       "(30, 40]  0.052402             0.157205  0.563319       0.194323  0.002183   \n",
       "(40, 50]  0.084788             0.082294  0.703242       0.097257       NaN   \n",
       "(50, 60]  0.125551             0.074890  0.651982       0.103524       NaN   \n",
       "(60, 70]  0.125858             0.050343  0.665904       0.086957       NaN   \n",
       "(70, 80]  0.141791             0.022388  0.611940       0.022388       NaN   \n",
       "\n",
       "DMDMARTL  Separated   Widowed  \n",
       "agegrp                         \n",
       "(18, 20]        NaN       NaN  \n",
       "(20, 30]   0.016204  0.004630  \n",
       "(30, 40]   0.026201  0.004367  \n",
       "(40, 50]   0.027431  0.004988  \n",
       "(50, 60]   0.022026  0.022026  \n",
       "(60, 70]   0.032037  0.038902  \n",
       "(70, 80]   0.034826  0.166667  "
      ]
     },
     "execution_count": 8,
     "metadata": {},
     "output_type": "execute_result"
    }
   ],
   "source": [
    "# insert your code here\n",
    "men[\"agegrp\"] = pd.cut(men.RIDAGEYR, [18, 20, 30, 40, 50, 60, 70, 80]) # Create age strata based on these cut points\n",
    "m_marital = men.groupby([\"agegrp\"])['DMDMARTL']\n",
    "m_marital = m_marital.value_counts()\n",
    "m_marital = m_marital.unstack()\n",
    "m_marital = m_marital.apply(lambda x: x/x.sum(), axis=1)\n",
    "m_marital"
   ]
  },
  {
   "cell_type": "markdown",
   "metadata": {},
   "source": [
    "__Q2c.__ Comment on any notable differences that you see when comparing these results for females and for males."
   ]
  },
  {
   "cell_type": "markdown",
   "metadata": {},
   "source": [
    "in 70-80 group, most women are widowed compared to men\n",
    "men in general are married in bigger proportion than women."
   ]
  },
  {
   "cell_type": "markdown",
   "metadata": {},
   "source": [
    "## Question 3\n",
    "\n",
    "Construct a histogram of the distribution of heights using the BMXHT variable in the NHANES sample."
   ]
  },
  {
   "cell_type": "code",
   "execution_count": 9,
   "metadata": {},
   "outputs": [
    {
     "data": {
      "text/plain": [
       "<matplotlib.axes._subplots.AxesSubplot at 0x7f74d470dcf8>"
      ]
     },
     "execution_count": 9,
     "metadata": {},
     "output_type": "execute_result"
    },
    {
     "data": {
      "image/png": "[encoded data removed]",
      "text/plain": [
       "<Figure size 432x288 with 1 Axes>"
      ]
     },
     "metadata": {
      "needs_background": "light"
     },
     "output_type": "display_data"
    }
   ],
   "source": [
    "# insert your code here\n",
    "sns.distplot(da.BMXHT.dropna(),kde=False,hist_kws=dict(edgecolor=\"w\", linewidth=1))"
   ]
  },
  {
   "cell_type": "markdown",
   "metadata": {},
   "source": [
    "__Q3a.__ Use the `bins` argument to [distplot](https://seaborn.pydata.org/generated/seaborn.distplot.html) to produce histograms with different numbers of bins.  Assess whether the default value for this argument gives a meaningful result, and comment on what happens as the number of bins grows excessively large or excessively small. "
   ]
  },
  {
   "cell_type": "markdown",
   "metadata": {},
   "source": [
    "default value of bins gives a good plot. If we increase the bins too high, the plot looks very noisy and overfit with too many spikes. Reducing the bins increases the smoothness."
   ]
  },
  {
   "cell_type": "markdown",
   "metadata": {},
   "source": [
    "__Q3b.__ Make separate histograms for the heights of women and men, then make a side-by-side boxplot showing the heights of women and men."
   ]
  },
  {
   "cell_type": "code",
   "execution_count": 10,
   "metadata": {},
   "outputs": [
    {
     "data": {
      "text/plain": [
       "<matplotlib.axes._subplots.AxesSubplot at 0x7f74d42ffe80>"
      ]
     },
     "execution_count": 10,
     "metadata": {},
     "output_type": "execute_result"
    },
    {
     "data": {
      "image/png": "[encoded data removed]",
      "text/plain": [
       "<Figure size 432x216 with 2 Axes>"
      ]
     },
     "metadata": {},
     "output_type": "display_data"
    },
    {
     "data": {
      "image/png": "[encoded data removed]",
      "text/plain": [
       "<Figure size 432x288 with 1 Axes>"
      ]
     },
     "metadata": {},
     "output_type": "display_data"
    }
   ],
   "source": [
    "# insert your code here\n",
    "sns.set(style=\"ticks\", color_codes=True)\n",
    "g = sns.FacetGrid(da, col='RIAGENDRx', palette=\"Set1\")\n",
    "g.map(plt.hist,'BMXHT',bins=20)\n",
    "\n",
    "plt.figure()\n",
    "sns.boxplot(x=\"RIAGENDRx\", y=\"BMXHT\", data=da)"
   ]
  },
  {
   "cell_type": "markdown",
   "metadata": {},
   "source": [
    "__Q3c.__ Comment on what features, if any are not represented clearly in the boxplots, and what features, if any, are easier to see in the boxplots than in the histograms."
   ]
  },
  {
   "cell_type": "markdown",
   "metadata": {},
   "source": [
    "Distribution of data is easier to see in a histogram. \n",
    "Box plots make it easier to see the median, IQR spread of data."
   ]
  },
  {
   "cell_type": "markdown",
   "metadata": {},
   "source": [
    "__Q3d.__ Make a histogram of the log-transformed heights."
   ]
  },
  {
   "cell_type": "code",
   "execution_count": 11,
   "metadata": {},
   "outputs": [
    {
     "data": {
      "text/plain": [
       "<matplotlib.axes._subplots.AxesSubplot at 0x7f74d41c9400>"
      ]
     },
     "execution_count": 11,
     "metadata": {},
     "output_type": "execute_result"
    },
    {
     "data": {
      "image/png": "[encoded data removed]",
      "text/plain": [
       "<Figure size 432x288 with 1 Axes>"
      ]
     },
     "metadata": {},
     "output_type": "display_data"
    },
    {
     "data": {
      "image/png": "[encoded data removed]",
      "text/plain": [
       "<Figure size 432x288 with 1 Axes>"
      ]
     },
     "metadata": {},
     "output_type": "display_data"
    }
   ],
   "source": [
    "# insert your code here\n",
    "sns.distplot(np.log(da.BMXHT.dropna()),kde=False,hist_kws=dict(edgecolor=\"w\", linewidth=1))\n",
    "plt.figure()\n",
    "sns.distplot(da.BMXHT.dropna(),kde=False,hist_kws=dict(edgecolor=\"w\", linewidth=1))"
   ]
  },
  {
   "cell_type": "markdown",
   "metadata": {},
   "source": [
    "__Q3e.__ Comment on the relationship between the ditribution of the heights and the distribution of the log-transformed heights. "
   ]
  },
  {
   "cell_type": "markdown",
   "metadata": {},
   "source": [
    "Log transformation is useful in dealing with skewed data. The log-transformed distribution appears more close to a normal distribution in the above plots."
   ]
  },
  {
   "cell_type": "markdown",
   "metadata": {},
   "source": [
    "## Question 4\n",
    "\n",
    "Make a boxplot showing the distribution of within-subject differences between the first and second systolic blood pressure measurents ([BPXSY1](https://wwwn.cdc.gov/Nchs/Nhanes/2015-2016/BPX_I.htm#BPXSY1) and [BPXSY2](https://wwwn.cdc.gov/Nchs/Nhanes/2015-2016/BPX_I.htm#BPXSY2))."
   ]
  },
  {
   "cell_type": "code",
   "execution_count": 12,
   "metadata": {},
   "outputs": [
    {
     "data": {
      "text/plain": [
       "Text(0.5, 1.0, 'Histogram of within-subject differences between the first and second systolic blood pressure measurents')"
      ]
     },
     "execution_count": 12,
     "metadata": {},
     "output_type": "execute_result"
    },
    {
     "data": {
      "image/png": "[encoded data removed]",
      "text/plain": [
       "<Figure size 432x288 with 1 Axes>"
      ]
     },
     "metadata": {},
     "output_type": "display_data"
    },
    {
     "data": {
      "image/png": "[encoded data removed]",
      "text/plain": [
       "<Figure size 432x288 with 1 Axes>"
      ]
     },
     "metadata": {},
     "output_type": "display_data"
    }
   ],
   "source": [
    "# insert your code here\n",
    "da_filtered = da[~(pd.isnull(da['BPXSY1']) | pd.isnull(da['BPXSY2']))]\n",
    "diff = da_filtered.BPXSY1-da_filtered.BPXSY2\n",
    "sns.distplot(diff).set_title(\"Histogram of within-subject differences between the first and second systolic blood pressure measurents\")\n",
    "\n",
    "plt.figure()\n",
    "sns.boxplot(diff).set_title(\"Histogram of within-subject differences between the first and second systolic blood pressure measurents\")\n"
   ]
  },
  {
   "cell_type": "markdown",
   "metadata": {},
   "source": [
    "__Q4a.__ What proportion of the subjects have a lower SBP on the second reading compared to the first?"
   ]
  },
  {
   "cell_type": "code",
   "execution_count": 18,
   "metadata": {},
   "outputs": [
    {
     "data": {
      "text/plain": [
       "0.42946817785527464"
      ]
     },
     "execution_count": 18,
     "metadata": {},
     "output_type": "execute_result"
    }
   ],
   "source": [
    "# insert your code here\n",
    "da_lower = da['BPXSY1'] > da['BPXSY2']\n",
    "da_lower.sum()/len(da_lower)"
   ]
  },
  {
   "cell_type": "markdown",
   "metadata": {},
   "source": [
    "__Q4b.__ Make side-by-side boxplots of the two systolic blood pressure variables."
   ]
  },
  {
   "cell_type": "code",
   "execution_count": 23,
   "metadata": {},
   "outputs": [
    {
     "data": {
      "text/plain": [
       "Text(0, 0.5, 'Blood pressure in mm/Hg')"
      ]
     },
     "execution_count": 23,
     "metadata": {},
     "output_type": "execute_result"
    },
    {
     "data": {
      "image/png": "[encoded data removed]",
      "text/plain": [
       "<Figure size 432x288 with 1 Axes>"
      ]
     },
     "metadata": {},
     "output_type": "display_data"
    }
   ],
   "source": [
    "# insert your code here\n",
    "da_slice = da[['BPXSY1','BPXSY2']]\n",
    "da_slice = pd.melt(da_slice)\n",
    "sns.boxplot(x=da_slice['variable'], y=da_slice['value']).set_ylabel(\"Blood pressure in mm/Hg\")"
   ]
  },
  {
   "cell_type": "markdown",
   "metadata": {},
   "source": [
    "__Q4c.__ Comment on the variation within either the first or second systolic blood pressure measurements, and the variation in the within-subject differences between the first and second systolic blood pressure measurements."
   ]
  },
  {
   "cell_type": "code",
   "execution_count": 28,
   "metadata": {},
   "outputs": [
    {
     "data": {
      "text/plain": [
       "<matplotlib.axes._subplots.AxesSubplot at 0x7f74d33bed68>"
      ]
     },
     "execution_count": 28,
     "metadata": {},
     "output_type": "execute_result"
    },
    {
     "data": {
      "image/png": "[encoded data removed]",
      "text/plain": [
       "<Figure size 432x288 with 1 Axes>"
      ]
     },
     "metadata": {},
     "output_type": "display_data"
    }
   ],
   "source": [
    "sns.kdeplot(da['BPXSY1'])\n",
    "sns.kdeplot(da['BPXSY2'])"
   ]
  },
  {
   "cell_type": "markdown",
   "metadata": {},
   "source": [
    "Both systolic distributions are nearly identical.\n",
    "The median value of the difference is 0. The spread of difference is higher on the right of median than on left of median."
   ]
  },
  {
   "cell_type": "markdown",
   "metadata": {},
   "source": [
    "## Question 5\n",
    "\n",
    "Construct a frequency table of household sizes for people within each educational attainment category (the relevant variable is [DMDEDUC2](https://wwwn.cdc.gov/Nchs/Nhanes/2015-2016/DEMO_I.htm#DMDEDUC2)).  Convert the frequencies to proportions."
   ]
  },
  {
   "cell_type": "code",
   "execution_count": 44,
   "metadata": {},
   "outputs": [
    {
     "name": "stdout",
     "output_type": "stream",
     "text": [
      "DMDHHSIZ             1      2      3      4      5     6     7\n",
      "DMDEDUC2x                                                     \n",
      "9-11              75.0  143.0  105.0   98.0   94.0  73.0  55.0\n",
      "<9                72.0  147.0   96.0   87.0   97.0  71.0  85.0\n",
      "College          195.0  475.0  265.0  226.0  130.0  40.0  35.0\n",
      "Don't know         NaN    2.0    NaN    NaN    1.0   NaN   NaN\n",
      "HS/GED           181.0  321.0  203.0  192.0  130.0  78.0  81.0\n",
      "Some college/AA  245.0  436.0  313.0  274.0  198.0  82.0  73.0\n",
      "\n",
      "\n",
      "DMDHHSIZ                1         2         3         4         5         6  \\\n",
      "DMDEDUC2x                                                                     \n",
      "9-11             0.116641  0.222395  0.163297  0.152411  0.146190  0.113530   \n",
      "<9               0.109924  0.224427  0.146565  0.132824  0.148092  0.108397   \n",
      "College          0.142753  0.347731  0.193997  0.165447  0.095168  0.029283   \n",
      "Don't know            NaN  0.666667       NaN       NaN  0.333333       NaN   \n",
      "HS/GED           0.152614  0.270658  0.171164  0.161889  0.109612  0.065767   \n",
      "Some college/AA  0.151141  0.268970  0.193091  0.169031  0.122147  0.050586   \n",
      "\n",
      "DMDHHSIZ                7  \n",
      "DMDEDUC2x                  \n",
      "9-11             0.085537  \n",
      "<9               0.129771  \n",
      "College          0.025622  \n",
      "Don't know            NaN  \n",
      "HS/GED           0.068297  \n",
      "Some college/AA  0.045034  \n"
     ]
    }
   ],
   "source": [
    "# insert your code here\n",
    "da[\"DMDEDUC2x\"] = da.DMDEDUC2.replace({1: \"<9\", 2: \"9-11\", 3: \"HS/GED\", 4: \"Some college/AA\", 5: \"College\", \n",
    "                                       7: \"Refused\", 9: \"Don't know\"})\n",
    "da_filtered = da[~pd.isnull(da[\"DMDEDUC2x\"])]\n",
    "da_filtered = da_filtered.groupby(['DMDEDUC2x']).DMDHHSIZ.value_counts().unstack()\n",
    "da_filtered_proportions = da_filtered.apply(lambda x:x/x.sum(),axis=1)\n",
    "print(da_filtered)\n",
    "print('\\n')\n",
    "print(da_filtered_proportions)"
   ]
  },
  {
   "cell_type": "markdown",
   "metadata": {},
   "source": [
    "__Q5a.__ Comment on any major differences among the distributions.\n"
   ]
  },
  {
   "cell_type": "markdown",
   "metadata": {},
   "source": [
    "Familie with 2 kids are most common overall.\n",
    "People with college and some college tend to have smaller families."
   ]
  },
  {
   "cell_type": "markdown",
   "metadata": {},
   "source": [
    "__Q5b.__ Restrict the sample to people between 30 and 40 years of age.  Then calculate the median household size for women and men within each level of educational attainment."
   ]
  },
  {
   "cell_type": "code",
   "execution_count": 83,
   "metadata": {},
   "outputs": [
    {
     "name": "stdout",
     "output_type": "stream",
     "text": [
      "Women\n",
      "9-11:5.0\n",
      "\n",
      "\n",
      "<9:5.0\n",
      "\n",
      "\n",
      "College:3.0\n",
      "\n",
      "\n",
      "HS/GED:5.0\n",
      "\n",
      "\n",
      "Some college/AA:4.0\n",
      "\n",
      "\n",
      "\n",
      "Men\n",
      "9-11:4.5\n",
      "\n",
      "\n",
      "<9:5.0\n",
      "\n",
      "\n",
      "College:3.0\n",
      "\n",
      "\n",
      "HS/GED:4.0\n",
      "\n",
      "\n",
      "Some college/AA:4.0\n",
      "\n",
      "\n"
     ]
    }
   ],
   "source": [
    "# insert your code here\n",
    "def print_medians(da):\n",
    "    da_filtered = da[~pd.isnull(da[\"DMDEDUC2x\"])]\n",
    "    da_filtered = da_filtered[['DMDEDUC2x','DMDHHSIZ']]\n",
    "    da_filtered = da_filtered.groupby(['DMDEDUC2x'])#.DMDHHSIZ.value_counts()\n",
    "    for name, group in da_filtered:\n",
    "        #print(name+':')\n",
    "        print(name+':'+str(np.median(group.DMDHHSIZ)))\n",
    "        print('\\n')\n",
    "\n",
    "print('Women')\n",
    "print_medians(women_30_40)\n",
    "print('\\nMen')\n",
    "print_medians(men_30_40)\n",
    "#men_30_40.DMDEDUC2x.head()"
   ]
  },
  {
   "cell_type": "markdown",
   "metadata": {},
   "source": [
    "## Question 6\n",
    "\n",
    "The participants can be clustered into \"maked variance units\" (MVU) based on every combination of the variables [SDMVSTRA](https://wwwn.cdc.gov/Nchs/Nhanes/2015-2016/DEMO_I.htm#SDMVSTRA) and [SDMVPSU](https://wwwn.cdc.gov/Nchs/Nhanes/2015-2016/DEMO_I.htm#SDMVPSU).  Calculate the mean age ([RIDAGEYR](https://wwwn.cdc.gov/Nchs/Nhanes/2015-2016/DEMO_I.htm#RIDAGEYR)), height ([BMXHT](https://wwwn.cdc.gov/Nchs/Nhanes/2015-2016/BMX_I.htm#BMXHT)), and BMI ([BMXBMI](https://wwwn.cdc.gov/Nchs/Nhanes/2015-2016/BMX_I.htm#BMXBMI)) for each gender ([RIAGENDR](https://wwwn.cdc.gov/Nchs/Nhanes/2015-2016/DEMO_I.htm#RIAGENDR)), within each MVU, and report the ratio between the largest and smallest mean (e.g. for height) across the MVUs."
   ]
  },
  {
   "cell_type": "code",
   "execution_count": 90,
   "metadata": {},
   "outputs": [
    {
     "name": "stdout",
     "output_type": "stream",
     "text": [
      "(119, 1)\n",
      "1\n",
      "mean RIDAGEYR: 47.861111111111114\n",
      "mean BMXHT: 172.74166666666667\n",
      "mean BMXBMI: 26.95833333333333\n",
      "2\n",
      "mean RIDAGEYR: 47.66326530612245\n",
      "mean BMXHT: 159.57040816326537\n",
      "mean BMXBMI: 30.052040816326528\n",
      "(119, 2)\n",
      "1\n",
      "mean RIDAGEYR: 54.36363636363637\n",
      "mean BMXHT: 172.90681818181827\n",
      "mean BMXBMI: 27.160465116279077\n",
      "2\n",
      "mean RIDAGEYR: 52.98795180722892\n",
      "mean BMXHT: 159.24457831325302\n",
      "mean BMXBMI: 27.84939759036144\n",
      "(120, 1)\n",
      "1\n",
      "mean RIDAGEYR: 43.13\n",
      "mean BMXHT: 169.53775510204076\n",
      "mean BMXBMI: 30.939175257731954\n",
      "2\n",
      "mean RIDAGEYR: 43.63636363636363\n",
      "mean BMXHT: 155.40204081632652\n",
      "mean BMXBMI: 32.41938775510204\n",
      "(120, 2)\n",
      "1\n",
      "mean RIDAGEYR: 45.21917808219178\n",
      "mean BMXHT: 173.0753424657534\n",
      "mean BMXBMI: 27.72739726027397\n",
      "2\n",
      "mean RIDAGEYR: 43.736111111111114\n",
      "mean BMXHT: 159.2180555555555\n",
      "mean BMXBMI: 27.399999999999995\n",
      "(121, 1)\n",
      "1\n",
      "mean RIDAGEYR: 46.75\n",
      "mean BMXHT: 172.1778846153847\n",
      "mean BMXBMI: 29.416504854368938\n",
      "2\n",
      "mean RIDAGEYR: 44.39795918367347\n",
      "mean BMXHT: 158.87157894736845\n",
      "mean BMXBMI: 30.85684210526317\n",
      "(121, 2)\n",
      "1\n",
      "mean RIDAGEYR: 42.06315789473684\n",
      "mean BMXHT: 174.7645161290323\n",
      "mean BMXBMI: 26.2731182795699\n",
      "2\n",
      "mean RIDAGEYR: 44.376344086021504\n",
      "mean BMXHT: 160.22903225806448\n",
      "mean BMXBMI: 26.470967741935496\n",
      "(122, 1)\n",
      "1\n",
      "mean RIDAGEYR: 44.6530612244898\n",
      "mean BMXHT: 173.99896907216495\n",
      "mean BMXBMI: 28.528865979381436\n",
      "2\n",
      "mean RIDAGEYR: 42.8974358974359\n",
      "mean BMXHT: 161.31538461538463\n",
      "mean BMXBMI: 29.447435897435906\n",
      "(122, 2)\n",
      "1\n",
      "mean RIDAGEYR: 44.32\n",
      "mean BMXHT: 170.33232323232332\n",
      "mean BMXBMI: 25.744444444444436\n",
      "2\n",
      "mean RIDAGEYR: 47.333333333333336\n",
      "mean BMXHT: 157.2311111111111\n",
      "mean BMXBMI: 26.611111111111132\n",
      "(123, 1)\n",
      "1\n",
      "mean RIDAGEYR: 47.829787234042556\n",
      "mean BMXHT: 174.31521739130432\n",
      "mean BMXBMI: 29.231521739130432\n",
      "2\n",
      "mean RIDAGEYR: 44.8411214953271\n",
      "mean BMXHT: 162.05961538461537\n",
      "mean BMXBMI: 29.905769230769238\n",
      "(123, 2)\n",
      "1\n",
      "mean RIDAGEYR: 52.12658227848101\n",
      "mean BMXHT: 174.45443037974678\n",
      "mean BMXBMI: 28.811392405063284\n",
      "2\n",
      "mean RIDAGEYR: 46.45744680851064\n",
      "mean BMXHT: 160.47659574468085\n",
      "mean BMXBMI: 30.641489361702124\n",
      "(124, 1)\n",
      "1\n",
      "mean RIDAGEYR: 50.75\n",
      "mean BMXHT: 172.109009009009\n",
      "mean BMXBMI: 28.61441441441442\n",
      "2\n",
      "mean RIDAGEYR: 51.664\n",
      "mean BMXHT: 158.7887096774194\n",
      "mean BMXBMI: 29.533064516129016\n",
      "(124, 2)\n",
      "1\n",
      "mean RIDAGEYR: 48.24561403508772\n",
      "mean BMXHT: 174.2912280701754\n",
      "mean BMXBMI: 27.71403508771928\n",
      "2\n",
      "mean RIDAGEYR: 42.541666666666664\n",
      "mean BMXHT: 162.85352112676063\n",
      "mean BMXBMI: 28.640845070422525\n",
      "(125, 1)\n",
      "1\n",
      "mean RIDAGEYR: 55.16528925619835\n",
      "mean BMXHT: 173.63109243697477\n",
      "mean BMXBMI: 29.727731092436986\n",
      "2\n",
      "mean RIDAGEYR: 50.9009009009009\n",
      "mean BMXHT: 160.76238532110088\n",
      "mean BMXBMI: 30.385321100917423\n",
      "(125, 2)\n",
      "1\n",
      "mean RIDAGEYR: 49.705882352941174\n",
      "mean BMXHT: 174.45686274509802\n",
      "mean BMXBMI: 29.143564356435636\n",
      "2\n",
      "mean RIDAGEYR: 51.66\n",
      "mean BMXHT: 160.02142857142866\n",
      "mean BMXBMI: 28.564285714285717\n",
      "(126, 1)\n",
      "1\n",
      "mean RIDAGEYR: 48.416666666666664\n",
      "mean BMXHT: 175.14939759036145\n",
      "mean BMXBMI: 29.03333333333332\n",
      "2\n",
      "mean RIDAGEYR: 46.229166666666664\n",
      "mean BMXHT: 160.38749999999996\n",
      "mean BMXBMI: 31.2625\n",
      "(126, 2)\n",
      "1\n",
      "mean RIDAGEYR: 48.666666666666664\n",
      "mean BMXHT: 174.7130434782609\n",
      "mean BMXBMI: 29.039130434782606\n",
      "2\n",
      "mean RIDAGEYR: 47.205882352941174\n",
      "mean BMXHT: 160.89200000000005\n",
      "mean BMXBMI: 29.61212121212121\n",
      "(127, 1)\n",
      "1\n",
      "mean RIDAGEYR: 53.13793103448276\n",
      "mean BMXHT: 171.54534883720933\n",
      "mean BMXBMI: 31.062352941176474\n",
      "2\n",
      "mean RIDAGEYR: 49.69444444444444\n",
      "mean BMXHT: 157.42242990654205\n",
      "mean BMXBMI: 32.18971962616823\n",
      "(127, 2)\n",
      "1\n",
      "mean RIDAGEYR: 54.07058823529412\n",
      "mean BMXHT: 173.36666666666665\n",
      "mean BMXBMI: 30.557831325301212\n",
      "2\n",
      "mean RIDAGEYR: 51.48623853211009\n",
      "mean BMXHT: 159.0229357798166\n",
      "mean BMXBMI: 30.770642201834853\n",
      "(128, 1)\n",
      "1\n",
      "mean RIDAGEYR: 53.67326732673267\n",
      "mean BMXHT: 169.32499999999996\n",
      "mean BMXBMI: 31.749000000000006\n",
      "2\n",
      "mean RIDAGEYR: 55.63846153846154\n",
      "mean BMXHT: 156.33906249999998\n",
      "mean BMXBMI: 32.30312499999999\n",
      "(128, 2)\n",
      "1\n",
      "mean RIDAGEYR: 45.822784810126585\n",
      "mean BMXHT: 172.39999999999995\n",
      "mean BMXBMI: 26.835443037974677\n",
      "2\n",
      "mean RIDAGEYR: 45.58974358974359\n",
      "mean BMXHT: 160.43717948717952\n",
      "mean BMXBMI: 27.491025641025644\n",
      "(129, 1)\n",
      "1\n",
      "mean RIDAGEYR: 43.922222222222224\n",
      "mean BMXHT: 171.09431818181824\n",
      "mean BMXBMI: 26.49318181818181\n",
      "2\n",
      "mean RIDAGEYR: 45.329787234042556\n",
      "mean BMXHT: 156.89999999999995\n",
      "mean BMXBMI: 29.019148936170215\n",
      "(129, 2)\n",
      "1\n",
      "mean RIDAGEYR: 45.775510204081634\n",
      "mean BMXHT: 173.13829787234047\n",
      "mean BMXBMI: 28.96170212765958\n",
      "2\n",
      "mean RIDAGEYR: 43.5\n",
      "mean BMXHT: 161.03425925925933\n",
      "mean BMXBMI: 29.42962962962963\n",
      "(130, 1)\n",
      "1\n",
      "mean RIDAGEYR: 50.51685393258427\n",
      "mean BMXHT: 176.9741573033708\n",
      "mean BMXBMI: 30.337078651685378\n",
      "2\n",
      "mean RIDAGEYR: 47.810526315789474\n",
      "mean BMXHT: 161.97789473684205\n",
      "mean BMXBMI: 30.7\n",
      "(130, 2)\n",
      "1\n",
      "mean RIDAGEYR: 50.535353535353536\n",
      "mean BMXHT: 175.06122448979596\n",
      "mean BMXBMI: 29.23775510204082\n",
      "2\n",
      "mean RIDAGEYR: 50.833333333333336\n",
      "mean BMXHT: 160.06057692307692\n",
      "mean BMXBMI: 31.490384615384624\n",
      "(131, 1)\n",
      "1\n",
      "mean RIDAGEYR: 53.14018691588785\n",
      "mean BMXHT: 175.61047619047616\n",
      "mean BMXBMI: 28.259615384615394\n",
      "2\n",
      "mean RIDAGEYR: 54.8936170212766\n",
      "mean BMXHT: 161.98936170212767\n",
      "mean BMXBMI: 30.061702127659576\n",
      "(131, 2)\n",
      "1\n",
      "mean RIDAGEYR: 46.77884615384615\n",
      "mean BMXHT: 175.0913461538462\n",
      "mean BMXBMI: 30.077884615384605\n",
      "2\n",
      "mean RIDAGEYR: 45.0\n",
      "mean BMXHT: 161.67380952380952\n",
      "mean BMXBMI: 32.984126984126995\n",
      "(132, 1)\n",
      "1\n",
      "mean RIDAGEYR: 42.380434782608695\n",
      "mean BMXHT: 172.53406593406592\n",
      "mean BMXBMI: 28.546153846153853\n",
      "2\n",
      "mean RIDAGEYR: 43.21052631578947\n",
      "mean BMXHT: 161.50842105263158\n",
      "mean BMXBMI: 29.848421052631586\n",
      "(132, 2)\n",
      "1\n",
      "mean RIDAGEYR: 49.03875968992248\n",
      "mean BMXHT: 172.80952380952388\n",
      "mean BMXBMI: 28.96666666666666\n",
      "2\n",
      "mean RIDAGEYR: 51.7\n",
      "mean BMXHT: 159.13828125\n",
      "mean BMXBMI: 30.540624999999995\n",
      "(133, 1)\n",
      "1\n",
      "mean RIDAGEYR: 44.054794520547944\n",
      "mean BMXHT: 171.50972222222228\n",
      "mean BMXBMI: 27.495833333333323\n",
      "2\n",
      "mean RIDAGEYR: 45.10588235294118\n",
      "mean BMXHT: 158.2951219512195\n",
      "mean BMXBMI: 27.959259259259262\n",
      "(133, 2)\n",
      "1\n",
      "mean RIDAGEYR: 47.48979591836735\n",
      "mean BMXHT: 171.1791666666667\n",
      "mean BMXBMI: 27.96666666666667\n",
      "2\n",
      "mean RIDAGEYR: 47.06315789473684\n",
      "mean BMXHT: 158.62736842105267\n",
      "mean BMXBMI: 28.99999999999999\n",
      "____________________________________________\n",
      "Height:\n",
      "1.1388148854012856\n",
      "Age:\n",
      "1.322736197736198\n",
      "BMI:\n",
      "1.2812133917010922\n"
     ]
    }
   ],
   "source": [
    "# insert your code here\n",
    "def print_ratio(arr):\n",
    "    print(max(arr)/min(arr))\n",
    "\n",
    "da_grouped = da.groupby(['SDMVSTRA','SDMVPSU'])\n",
    "mean_age = list()\n",
    "mean_height = list()\n",
    "mean_bmi = list()\n",
    "for name, group in da_grouped:\n",
    "    gender_group = group.groupby(['RIAGENDR'])\n",
    "    print(name)\n",
    "    for gender_name,g_group in gender_group:\n",
    "        print(gender_name)\n",
    "        mean_age.append(np.mean(g_group.RIDAGEYR))\n",
    "        mean_height.append(np.mean(g_group.BMXHT))\n",
    "        mean_bmi.append(np.mean(g_group.BMXBMI))\n",
    "        print('mean RIDAGEYR: '+str(np.mean(g_group.RIDAGEYR)))\n",
    "        print('mean BMXHT: '+str(np.mean(g_group.BMXHT)))\n",
    "        print('mean BMXBMI: '+str(np.mean(g_group.BMXBMI)))\n",
    "print('____________________________________________')\n",
    "print('Height:')\n",
    "print_ratio(mean_height)\n",
    "print('Age:')\n",
    "print_ratio(mean_age)\n",
    "print('BMI:')\n",
    "print_ratio(mean_bmi)"
   ]
  },
  {
   "cell_type": "markdown",
   "metadata": {},
   "source": [
    "__Q6a.__ Comment on the extent to which mean age, height, and BMI vary among the MVUs."
   ]
  },
  {
   "cell_type": "markdown",
   "metadata": {},
   "source": []
  },
  {
   "cell_type": "markdown",
   "metadata": {},
   "source": [
    "__Q6b.__ Calculate the inter-quartile range (IQR) for age, height, and BMI for each gender and each MVU.  Report the ratio between the largest and smalles IQR across the MVUs."
   ]
  },
  {
   "cell_type": "code",
   "execution_count": null,
   "metadata": {},
   "outputs": [],
   "source": [
    "# insert your code here"
   ]
  },
  {
   "cell_type": "markdown",
   "metadata": {},
   "source": [
    "__Q6c.__ Comment on the extent to which the IQR for age, height, and BMI vary among the MVUs."
   ]
  },
  {
   "cell_type": "markdown",
   "metadata": {},
   "source": []
  }
 ],
 "metadata": {
  "kernelspec": {
   "display_name": "Python 3",
   "language": "python",
   "name": "python3"
  },
  "language_info": {
   "codemirror_mode": {
    "name": "ipython",
    "version": 3
   },
   "file_extension": ".py",
   "mimetype": "text/x-python",
   "name": "python",
   "nbconvert_exporter": "python",
   "pygments_lexer": "ipython3",
   "version": "3.6.8"
  }
 },
 "nbformat": 4,
 "nbformat_minor": 2
}
