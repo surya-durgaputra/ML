{
 "cells": [
  {
   "cell_type": "markdown",
   "metadata": {
    "colab_type": "text",
    "id": "MDT07IhatSmn"
   },
   "source": [
    "In this assignment we'll ask you to plot multiple variables.   \n",
    "\n",
    "You will use what you find in this assignment to answer the questions in the quiz that follows. It may be useful to keep this notebook side-by-side with this week's quiz on your screen."
   ]
  },
  {
   "cell_type": "code",
   "execution_count": 1,
   "metadata": {
    "colab": {},
    "colab_type": "code",
    "id": "dPO-NCCntSmo"
   },
   "outputs": [],
   "source": [
    "import numpy as np\n",
    "import pandas as pd\n",
    "import seaborn as sns\n",
    "import scipy.stats as stats\n",
    "%matplotlib inline\n",
    "import matplotlib.pyplot as plt\n",
    "pd.set_option('display.max_columns', 100)\n",
    "\n",
    "path = \"data/Cartwheeldata.csv\""
   ]
  },
  {
   "cell_type": "code",
   "execution_count": 2,
   "metadata": {},
   "outputs": [
    {
     "data": {
      "text/html": [
       "<a download=\"data.csv\" href=\"data:text/csv;base64,SUQsQWdlLEdlbmRlcixHZW5kZXJHcm91cCxHbGFzc2VzLEdsYXNzZXNHcm91cCxIZWlnaHQsV2luZ3NwYW4sQ1dEaXN0YW5jZSxDb21wbGV0ZSxDb21wbGV0ZUdyb3VwLFNjb3JlCjEsNTYsRiwxLFksMSw2Mi4wLDYxLjAsNzksWSwxLDcKMiwyNixGLDEsWSwxLDYyLjAsNjAuMCw3MCxZLDEsOAozLDMzLEYsMSxZLDEsNjYuMCw2NC4wLDg1LFksMSw3CjQsMzksRiwxLE4sMCw2NC4wLDYzLjAsODcsWSwxLDEwCjUsMjcsTSwyLE4sMCw3My4wLDc1LjAsNzIsTiwwLDQKNiwyNCxNLDIsTiwwLDc1LjAsNzEuMCw4MSxOLDAsMwo3LDI4LE0sMixOLDAsNzUuMCw3Ni4wLDEwNyxZLDEsMTAKOCwyMixGLDEsTiwwLDY1LjAsNjIuMCw5OCxZLDEsOQo5LDI5LE0sMixZLDEsNzQuMCw3My4wLDEwNixOLDAsNQoxMCwzMyxGLDEsWSwxLDYzLjAsNjAuMCw2NSxZLDEsOAoxMSwzMCxNLDIsWSwxLDY5LjUsNjYuMCw5NixZLDEsNgoxMiwyOCxGLDEsWSwxLDYyLjc1LDU4LjAsNzksWSwxLDEwCjEzLDI1LEYsMSxZLDEsNjUuMCw2NC41LDkyLFksMSw2CjE0LDIzLEYsMSxOLDAsNjEuNSw1Ny41LDY2LFksMSw0CjE1LDMxLE0sMixZLDEsNzMuMCw3NC4wLDcyLFksMSw5CjE2LDI2LE0sMixZLDEsNzEuMCw3Mi4wLDExNSxZLDEsNgoxNywyNixGLDEsTiwwLDYxLjUsNTkuNSw5MCxOLDAsMTAKMTgsMjcsTSwyLE4sMCw2Ni4wLDY2LjAsNzQsWSwxLDUKMTksMjMsTSwyLFksMSw3MC4wLDY5LjAsNjQsWSwxLDMKMjAsMjQsRiwxLFksMSw2OC4wLDY2LjAsODUsWSwxLDgKMjEsMjMsTSwyLFksMSw2OS4wLDY3LjAsNjYsTiwwLDIKMjIsMjksTSwyLE4sMCw3MS4wLDcwLjAsMTAxLFksMSw4CjIzLDI1LE0sMixOLDAsNzAuMCw2OC4wLDgyLFksMSw0CjI0LDI2LE0sMixOLDAsNjkuMCw3MS4wLDYzLFksMSw1CjI1LDIzLEYsMSxZLDEsNjUuMCw2My4wLDY3LE4sMCwzCg==\" target=\"_blank\">Download CSV file</a>"
      ],
      "text/plain": [
       "<IPython.core.display.HTML object>"
      ]
     },
     "execution_count": 2,
     "metadata": {},
     "output_type": "execute_result"
    }
   ],
   "source": [
    "\n",
    "from IPython.display import HTML\n",
    "import base64  \n",
    "import pandas as pd  \n",
    "\n",
    "def create_download_link( df, title = \"Download CSV file\", filename = \"data.csv\"):  \n",
    "    csv = df.to_csv(index =False)\n",
    "    b64 = base64.b64encode(csv.encode())\n",
    "    payload = b64.decode()\n",
    "    html = '<a download=\"{filename}\" href=\"data:text/csv;base64,{payload}\" target=\"_blank\">{title}</a>'\n",
    "    html = html.format(payload=payload,title=title,filename=filename)\n",
    "    return HTML(html)\n",
    "\n",
    "df = pd.read_csv(path)\n",
    "create_download_link(df)"
   ]
  },
  {
   "cell_type": "code",
   "execution_count": 3,
   "metadata": {
    "colab": {},
    "colab_type": "code",
    "id": "wWRTC7FAtSmr"
   },
   "outputs": [],
   "source": [
    "# First, you must import the cartwheel data from the path given above\n",
    "df = pd.read_csv(path)# using pandas, read in the csv data found at the url defined by 'path'"
   ]
  },
  {
   "cell_type": "code",
   "execution_count": 4,
   "metadata": {
    "colab": {},
    "colab_type": "code",
    "id": "fxUTrcaItSmu"
   },
   "outputs": [
    {
     "data": {
      "text/html": [
       "<div>\n",
       "<style scoped>\n",
       "    .dataframe tbody tr th:only-of-type {\n",
       "        vertical-align: middle;\n",
       "    }\n",
       "\n",
       "    .dataframe tbody tr th {\n",
       "        vertical-align: top;\n",
       "    }\n",
       "\n",
       "    .dataframe thead th {\n",
       "        text-align: right;\n",
       "    }\n",
       "</style>\n",
       "<table border=\"1\" class=\"dataframe\">\n",
       "  <thead>\n",
       "    <tr style=\"text-align: right;\">\n",
       "      <th></th>\n",
       "      <th>ID</th>\n",
       "      <th>Age</th>\n",
       "      <th>Gender</th>\n",
       "      <th>GenderGroup</th>\n",
       "      <th>Glasses</th>\n",
       "      <th>GlassesGroup</th>\n",
       "      <th>Height</th>\n",
       "      <th>Wingspan</th>\n",
       "      <th>CWDistance</th>\n",
       "      <th>Complete</th>\n",
       "      <th>CompleteGroup</th>\n",
       "      <th>Score</th>\n",
       "    </tr>\n",
       "  </thead>\n",
       "  <tbody>\n",
       "    <tr>\n",
       "      <th>0</th>\n",
       "      <td>1</td>\n",
       "      <td>56</td>\n",
       "      <td>F</td>\n",
       "      <td>1</td>\n",
       "      <td>Y</td>\n",
       "      <td>1</td>\n",
       "      <td>62.0</td>\n",
       "      <td>61.0</td>\n",
       "      <td>79</td>\n",
       "      <td>Y</td>\n",
       "      <td>1</td>\n",
       "      <td>7</td>\n",
       "    </tr>\n",
       "    <tr>\n",
       "      <th>1</th>\n",
       "      <td>2</td>\n",
       "      <td>26</td>\n",
       "      <td>F</td>\n",
       "      <td>1</td>\n",
       "      <td>Y</td>\n",
       "      <td>1</td>\n",
       "      <td>62.0</td>\n",
       "      <td>60.0</td>\n",
       "      <td>70</td>\n",
       "      <td>Y</td>\n",
       "      <td>1</td>\n",
       "      <td>8</td>\n",
       "    </tr>\n",
       "    <tr>\n",
       "      <th>2</th>\n",
       "      <td>3</td>\n",
       "      <td>33</td>\n",
       "      <td>F</td>\n",
       "      <td>1</td>\n",
       "      <td>Y</td>\n",
       "      <td>1</td>\n",
       "      <td>66.0</td>\n",
       "      <td>64.0</td>\n",
       "      <td>85</td>\n",
       "      <td>Y</td>\n",
       "      <td>1</td>\n",
       "      <td>7</td>\n",
       "    </tr>\n",
       "    <tr>\n",
       "      <th>3</th>\n",
       "      <td>4</td>\n",
       "      <td>39</td>\n",
       "      <td>F</td>\n",
       "      <td>1</td>\n",
       "      <td>N</td>\n",
       "      <td>0</td>\n",
       "      <td>64.0</td>\n",
       "      <td>63.0</td>\n",
       "      <td>87</td>\n",
       "      <td>Y</td>\n",
       "      <td>1</td>\n",
       "      <td>10</td>\n",
       "    </tr>\n",
       "    <tr>\n",
       "      <th>4</th>\n",
       "      <td>5</td>\n",
       "      <td>27</td>\n",
       "      <td>M</td>\n",
       "      <td>2</td>\n",
       "      <td>N</td>\n",
       "      <td>0</td>\n",
       "      <td>73.0</td>\n",
       "      <td>75.0</td>\n",
       "      <td>72</td>\n",
       "      <td>N</td>\n",
       "      <td>0</td>\n",
       "      <td>4</td>\n",
       "    </tr>\n",
       "  </tbody>\n",
       "</table>\n",
       "</div>"
      ],
      "text/plain": [
       "   ID  Age Gender  GenderGroup Glasses  GlassesGroup  Height  Wingspan  \\\n",
       "0   1   56      F            1       Y             1    62.0      61.0   \n",
       "1   2   26      F            1       Y             1    62.0      60.0   \n",
       "2   3   33      F            1       Y             1    66.0      64.0   \n",
       "3   4   39      F            1       N             0    64.0      63.0   \n",
       "4   5   27      M            2       N             0    73.0      75.0   \n",
       "\n",
       "   CWDistance Complete  CompleteGroup  Score  \n",
       "0          79        Y              1      7  \n",
       "1          70        Y              1      8  \n",
       "2          85        Y              1      7  \n",
       "3          87        Y              1     10  \n",
       "4          72        N              0      4  "
      ]
     },
     "execution_count": 4,
     "metadata": {},
     "output_type": "execute_result"
    }
   ],
   "source": [
    "# Next, look at the 'head' of our DataFrame 'df'. \n",
    "df.head()"
   ]
  },
  {
   "cell_type": "markdown",
   "metadata": {
    "colab_type": "text",
    "id": "AwrmgneytSmw"
   },
   "source": [
    "If you can't remember a function, open a previous notebook or video as a reference, or use your favorite search engine to look for a solution."
   ]
  },
  {
   "cell_type": "markdown",
   "metadata": {
    "colab_type": "text",
    "id": "WrdLGMjCtSmz"
   },
   "source": [
    "## Scatter plots"
   ]
  },
  {
   "cell_type": "markdown",
   "metadata": {
    "colab_type": "text",
    "id": "rDZi4jEttSmz"
   },
   "source": [
    "First, let's looks at two variables that we expect to have a strong relationship, 'Height' and 'Wingspan'."
   ]
  },
  {
   "cell_type": "code",
   "execution_count": 0,
   "metadata": {
    "colab": {},
    "colab_type": "code",
    "id": "3e4rvki6tSmz"
   },
   "outputs": [],
   "source": [
    "# Make a Seaborn scatter plot with x = height and y = wingspan using sns.scatterplot(x, y)\n",
    "sns.scatterplot(data=df,x='Height')"
   ]
  },
  {
   "cell_type": "markdown",
   "metadata": {
    "colab_type": "text",
    "id": "VK94jjjXtSm2"
   },
   "source": [
    "How would you describe the relationship between 'Height' and 'Wingspan'?   \n",
    "Questions you can ask:\n",
    "* Is it linear?\n",
    "* Are there outliers?\n",
    "* Are their ranges similar or different?  \n",
    "\n",
    "How else could you describe the relationship?"
   ]
  },
  {
   "cell_type": "markdown",
   "metadata": {
    "colab_type": "text",
    "id": "gb7B2S5BtSm3"
   },
   "source": [
    "Now let's look at two variables that we don't yet assume have a strong relationship, 'Wingspan' and 'CWDistance'"
   ]
  },
  {
   "cell_type": "code",
   "execution_count": 0,
   "metadata": {
    "colab": {},
    "colab_type": "code",
    "id": "NUQUCZHstSm3"
   },
   "outputs": [],
   "source": [
    "# Make a Seaborn scatter plot with x = wingspan and y = cartwheel distance\n"
   ]
  },
  {
   "cell_type": "markdown",
   "metadata": {
    "colab_type": "text",
    "id": "QQUuk0YltSm6"
   },
   "source": [
    "How would you describe the relationship between 'Wingspan' and 'CWDistance'?   \n",
    "* Is it linear?\n",
    "* Are there outliers?\n",
    "* Are their ranges similar or different?  \n",
    "\n",
    "How else could you describe the relationship?"
   ]
  },
  {
   "cell_type": "markdown",
   "metadata": {
    "colab_type": "text",
    "id": "1klq6ToQtSm8"
   },
   "source": [
    "Let makes the same plot as above, but now include 'Gender' as the color scheme by including the argument\n",
    "```\n",
    "hue=df['Gender']\n",
    "```\n",
    "in the Seaborn function"
   ]
  },
  {
   "cell_type": "code",
   "execution_count": 0,
   "metadata": {
    "colab": {},
    "colab_type": "code",
    "id": "U6dld9fntSm9"
   },
   "outputs": [],
   "source": [
    "# Make a Seaborn scatter plot with x = wingspan and y = cartwheel distance, and hue = gender\n"
   ]
  },
  {
   "cell_type": "markdown",
   "metadata": {
    "colab_type": "text",
    "id": "Twz6CrCEtSnA"
   },
   "source": [
    "Does does this new information on the plot change your interpretation of the relationship between 'Wingspan' and 'CWDistance'?"
   ]
  },
  {
   "cell_type": "markdown",
   "metadata": {
    "colab_type": "text",
    "id": "sHcrM2octSnA"
   },
   "source": [
    "## Barcharts\n",
    "Now lets plot barplots of 'Glasses'"
   ]
  },
  {
   "cell_type": "code",
   "execution_count": 0,
   "metadata": {
    "colab": {},
    "colab_type": "code",
    "id": "O6XvCPJhtSnB"
   },
   "outputs": [],
   "source": [
    "# Make a Seaborn barplot with x = glasses and y = cartwheel distance\n"
   ]
  },
  {
   "cell_type": "markdown",
   "metadata": {
    "colab_type": "text",
    "id": "FzE9HhnRtSnE"
   },
   "source": [
    "What can you say about the relationship of 'Glasses' and 'CWDistance'?"
   ]
  },
  {
   "cell_type": "code",
   "execution_count": 0,
   "metadata": {
    "colab": {},
    "colab_type": "code",
    "id": "GVeCQcKUtSnG"
   },
   "outputs": [],
   "source": [
    "# Make the same Seaborn boxplot as above, but include gender for the hue argument\n"
   ]
  },
  {
   "cell_type": "markdown",
   "metadata": {
    "colab_type": "text",
    "id": "XcXUPeD5tSnK"
   },
   "source": [
    "How does this new plot change your interpretation about the relationship of 'Glasses' and 'CWDistance'?"
   ]
  }
 ],
 "metadata": {
  "colab": {
   "collapsed_sections": [],
   "name": "w3 assessment.ipynb",
   "provenance": [],
   "version": "0.3.2"
  },
  "kernelspec": {
   "display_name": "Python 3",
   "language": "python",
   "name": "python3"
  },
  "language_info": {
   "codemirror_mode": {
    "name": "ipython",
    "version": 3
   },
   "file_extension": ".py",
   "mimetype": "text/x-python",
   "name": "python",
   "nbconvert_exporter": "python",
   "pygments_lexer": "ipython3",
   "version": "3.6.8"
  }
 },
 "nbformat": 4,
 "nbformat_minor": 1
}
