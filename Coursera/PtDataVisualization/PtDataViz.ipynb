{
 "cells": [
  {
   "cell_type": "markdown",
   "metadata": {},
   "source": [
    "#### Quantitative Variables\n",
    "- Numerical, measurable quantities in which arithmetic operations often make sense.\n",
    "\n",
    "Two types:\n",
    "- Continuous: could take on any value within an interval, many possible values (like weight)\n",
    "- Discrete: countable value, finite number of values (like number of children in a family)\n",
    "\n",
    "Some variables like age, time are often shown as Discrete variables but internally modeled as Continuous variables (depends on how we choose to interpret age in our model)"
   ]
  },
  {
   "cell_type": "markdown",
   "metadata": {},
   "source": [
    "#### Categorical Variables\n",
    "- Classifies individuals or items into different groups\n",
    "\n",
    "Two types:\n",
    "    - Ordinal: groups have an order or ranking (like class ranking in School or College.. freshman, sophomore, junior, senior... in this sort of natural ranking)\n",
    "    - Nominal: groups are merely names, no ranking. (like races in a country or marital status)\n",
    "    \n",
    "#### Categorical or Qualitative (Python data type)\n",
    "* Nominal\n",
    "    * Boolean (bool)\n",
    "    * String (str)\n",
    "    * None (NoneType)\n",
    "* Ordinal\n",
    "    * Only defined by how you use the data\n",
    "    * Often important when creating visuals"
   ]
  },
  {
   "cell_type": "markdown",
   "metadata": {},
   "source": [
    "#### Types of study:\n",
    "- Observational Study: Observational studies often say sublects are \"exposed\" to a condition rather than being \"assigned\" (passive or self-selected, used when it is impractical or unethical to assign)\n",
    "- Experimental study: Experiments often involve random assignment of subjects to \"treatment arms\""
   ]
  },
  {
   "cell_type": "markdown",
   "metadata": {},
   "source": [
    "#### Bias\n",
    "Measurements that are systematically off-target, or sample is not representative of population of interest\n",
    "\n",
    "Note: Observational studies are particularly vulnerable to bias. But bias can affect any study - experimental or observational"
   ]
  },
  {
   "cell_type": "markdown",
   "metadata": {},
   "source": [
    "#### Data management and Manipulation\n",
    "\n",
    "Data management refers to all steps of data processing that occur after the data are collected but before the actual data analysis.\n",
    "\n",
    "Most statistical software operates predominantly on rectangular arrays of data in which the rows represent cases and the columns represent variables. In most statistical analysis, the cases represent individual units in the population of interest, although in some settings the distinction between cases and variables is not very clear.\n",
    "\n",
    "A Typical Rectangular Data Set\n",
    "Data for a study on medical expenditures might appear as seen in the image below. In addition to the subject ID, the variables are “Age”, “State” (of residence), and (medical) “Expenditures.\""
   ]
  },
  {
   "cell_type": "markdown",
   "metadata": {},
   "source": [
    "#### Best Practices for Data Management\n",
    "- Never modify the source data files (you want to preserve a record of the data as you received it).\n",
    "- Write a script (e.g. a Python program) to generate your analysis files from the source data files.\n",
    "Advantages of this approach: If new source data arrives, the analysis files can be updated using the script. Also, complex data management can be reproduced and is documented through the code in the script.\n",
    "\n",
    "- Name variables with brief interpretable names.\n",
    "- Short variable names convey too little meaning, and very long names are awkward to use in complex expressions\n",
    "- Variable names consisting only of letters (a-z, case sensitive), numbers (not as the first character) and the underscore character (_) will be handled easily by most statistical software.\n",
    "- Whitespace in variable names is allowed in Python/Pandas, but confuses analysis based on formulas. To avoid this, use (for example) \"birth_date\" instead of \"birth date\".\n",
    "- Most statistical software will treat blank, “NA”, or “.” as a missing value."
   ]
  },
  {
   "cell_type": "markdown",
   "metadata": {},
   "source": [
    "#### Spreadsheet Software\n",
    "- Spreadsheet software can be useful for getting a quick overview of a data set, but is quite limited for more advanced data management and analysis.\n",
    "- Font style and text color in a spreadsheet are generally not interpretable by statistical software so should not be used to encode important information.\n",
    "- Spreadsheet graphs and charts will generally be ignored when importing spreadsheet data into statistical software.\n",
    "- Each sheet in a spreadsheet workbook is usually imported as a separate dataset.\n",
    "- Python can read most Excel files directly, but may struggle with large, complex, or very old files.\n",
    "- Text/CSV is a better choice than spreadsheet formats (e.g. .xlsx) for data exchange and archiving."
   ]
  },
  {
   "cell_type": "markdown",
   "metadata": {},
   "source": [
    "#### Data Files for Storage and Exchange\n",
    "Text/CSV is currently the most universal format for data exchange.\n",
    "- The data in a CSV file is “delimited”, usually by a comma or a tab.\n",
    "- Large data sets can be saved in compressed form (e.g. using “gzip”) and read into statistical software directly from the compressed file. This allows the data to be read much faster, and reduces storage space.\n",
    "\n",
    "\n",
    "Some statistical software packages have proprietary binary file formats (e.g. SAS7BDAT for SAS or DTA for Stata). These can usually be read directly into Python/Pandas but in some cases challenges arise. Formats like XML and JSON are useful for non-rectangular data but tend to produce larger files that are slower to read and process."
   ]
  },
  {
   "cell_type": "markdown",
   "metadata": {},
   "source": [
    "#### Repeated Measures Data: Wide and Long\n",
    "\"Repeated measures\" arise when multiple measurements are made on each subject in a study.\n",
    "\n",
    "Statistical analysis of repeated measures data is a more advanced topic, but you may encounter this type of data and need to do some basic reporting and data management with it.\n",
    "\n",
    "Two common formats for repeated measures data are:\n",
    "- Wide format: one row per subject\n",
    "- Long format: one row per measurement\n",
    "\n",
    "Python/Pandas has tools to convert between wide and long form."
   ]
  },
  {
   "cell_type": "markdown",
   "metadata": {},
   "source": [
    "#### Uses of wide and long format data layouts\n",
    "- Wide format is slightly more convenient for data entry in studies where each subject is assessed the same number of times.\n",
    "- Long format is more flexible, as it accommodates measures obtained at arbitrary time points; the long format is also more natural for many forms of statistical analysis, such as regression analysis.\n",
    "\n",
    "#### More Specialized Data Formats\n",
    "Other specialized data layouts exist for other types of data, e.g. data defined as graphs (networks of nodes and edges), images, geospatial data, or text data."
   ]
  },
  {
   "cell_type": "code",
   "execution_count": null,
   "metadata": {},
   "outputs": [],
   "source": [
    "from IPython.core.display import Image\n",
    "Image(filename='images/Datamanagementandmanipulation.png')"
   ]
  },
  {
   "cell_type": "code",
   "execution_count": null,
   "metadata": {},
   "outputs": [],
   "source": []
  }
 ],
 "metadata": {
  "kernelspec": {
   "display_name": "Python 3 (Spyder)",
   "language": "python3",
   "name": "python3"
  },
  "language_info": {
   "codemirror_mode": {
    "name": "ipython",
    "version": 3
   },
   "file_extension": ".py",
   "mimetype": "text/x-python",
   "name": "python",
   "nbconvert_exporter": "python",
   "pygments_lexer": "ipython3",
   "version": "3.7.1"
  }
 },
 "nbformat": 4,
 "nbformat_minor": 2
}
