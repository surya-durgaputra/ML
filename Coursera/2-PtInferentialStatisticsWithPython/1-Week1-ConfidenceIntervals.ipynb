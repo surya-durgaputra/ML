{
 "cells": [
  {
   "cell_type": "markdown",
   "metadata": {},
   "source": [
    "# Confidence Intervals Basics\n",
    "\n",
    "## Best Estimate $\\pm$ Margin of Error\n",
    "\n",
    "__Best Estimate__ = Unbiased Point Estimate\n",
    "\n",
    "__Margin of Error__ = \"a few\" Estimated Standard Errors\n",
    "\n",
    "__\"a few\"__ = multiplier from appropriate distribution based on desired confidence level and sample design\n",
    "\n",
    "__95% Confidence Level__ is equivalent to __0.05 Significance__"
   ]
  },
  {
   "cell_type": "markdown",
   "metadata": {},
   "source": [
    "# MottsPoll Background\n",
    "\n",
    "## What proportion of parents report they use a car seat for all travel with their toddler?\n",
    "\n",
    "__Population__ - Parents with a toddler\n",
    "\n",
    "__Parameter of Interest__ - A proportion\n",
    "\n",
    "#### Construct a 95% Confidence Interval for the population proportion of parents reporting they use a car seat for all travel with their toddler.\n",
    "\n",
    "So, the first two things we want to do whenever we have a statement that we want to do inference on, is come up with \n",
    "\n",
    "- our parameter of interest\n",
    "- our population\n",
    "\n",
    "So, our population here is going to be parents with a toddler and our parameter of interest is a proportion. So, that will be lowercase __p__ for our use. Then, having these to setup, we can now construct a 95% confidence interval for the population proportion of parents reporting they use a car seat for all travel with their toddler."
   ]
  },
  {
   "cell_type": "markdown",
   "metadata": {},
   "source": [
    "\n",
    "Mots went out and did this poll and they sampled 659 parents with a toddler, and they asked if a car seat was used for all travel with their toddler, 540 of those parents responded yes to this question. \n",
    "\n",
    "To go back to our original best estimate plus or minus the margin of error, this is always where you begin with calculating confidence interval. \n",
    "\n",
    "We first want to come up with our best estimate, which is going to be $\\mathbf{\\hat{p}}$ or the sample proportion, and calculating this is simple enough of just taking our sample size and the number of yes's dividing the two."
   ]
  },
  {
   "cell_type": "code",
   "execution_count": 1,
   "metadata": {},
   "outputs": [
    {
     "name": "stdout",
     "output_type": "stream",
     "text": [
      "0.8194233687405159\n"
     ]
    }
   ],
   "source": [
    "n = 659 #Sample size\n",
    "x = 540 # Number responded yes\n",
    "p_hat = x/n\n",
    "print(p_hat)"
   ]
  },
  {
   "cell_type": "markdown",
   "metadata": {},
   "source": [
    "We now have to figure out __margin of error__"
   ]
  },
  {
   "cell_type": "markdown",
   "metadata": {},
   "source": [
    "# Standard Error for sample proportions (one proportion case)\n",
    "$\\sqrt{\\frac{\\hat{p}(1-\\hat{p})}{n}}$\n",
    "\n",
    "# Standard Error for population proportions (one proportion case)\n",
    "$$\\sqrt{p(1-p)}$$\n",
    "this is also often written as  $\\sqrt{pq}$  where $q \\ = 1 \\ - \\ p$"
   ]
  },
  {
   "cell_type": "markdown",
   "metadata": {},
   "source": [
    "$\\hat{p}   \\pm  1.96 \\cdot \\sqrt{\\frac{\\hat{p}(1-\\hat{p})}{n}}$\n",
    "\n",
    "here 1.96 will be exact two standard deviations\n",
    "\n",
    "$0.82   \\pm  1.96 \\cdot \\sqrt{\\frac{0.82(1-0.82)}{659}}$\n",
    "\n",
    "$0.82 \\pm 0.015$\n",
    "\n",
    "(0.805,0.835)\n",
    "\n",
    "__with the confidence interval, you're always going to have a lower bound and an upper bound, and the center of this confidence interval should be our best estimate. So, our p-hat should be the center of this confidence interval of 95% confidence interval.__\n",
    "\n",
    "__confidence interval__ = a range of reasonable values for our perameter \n",
    "\n",
    "so what we can say is something like with 95% confidence, the population proportion of parents with a toddler who use a car seat for all travel is __estimated__ to be between 80.5% and 83.5%.\n",
    "\n",
    "So, this interval of 80.5% to 83.5% is just where we believe our parameter to be. It might be in there or might not be, we're not entirely sure if it is or not, but we're 95% confident that it most likely is."
   ]
  },
  {
   "cell_type": "markdown",
   "metadata": {},
   "source": [
    "# Summary\n",
    "\n",
    "- ## Confidence Intervals are used to give an _interval_ estimate for our parameter of interest\n",
    "- ## Center of the confidence Interval = our best estimate\n",
    "- ## Margin of Error (MoE) = \"a few\" (estimated) standard errors"
   ]
  },
  {
   "cell_type": "markdown",
   "metadata": {},
   "source": [
    "Does the interval we have here, at 80.5% to 83.5%, does it contain the sample proportion of parents with toddlers who reported they use a car seat for all travel? Does it contain the sample proportion? Think about that. Is the __sample proportion__ in this interval? __Of course it is__. Most certainly is in the interval because we centered the interval at that best guess, that 82 percent, that was our best estimate. \n",
    "\n",
    "__So, every interval is going to contain that corresponding sample statistic, that best estimate would be right in the middle.__"
   ]
  },
  {
   "cell_type": "markdown",
   "metadata": {},
   "source": [
    "But what would your answer be to this question? Does our confidence interval (80.5% to 83.5%) contain the __population proportion__ of all parents with toddlers who report they use a car seat for all travel? What did you think? \n",
    "\n",
    "We would have to answer this as \n",
    "<h1 align=\"center\">we don't know</h1> \n",
    "\n",
    "In order for me to be able to say whether this answer would be a yes, it's in there or no, it's not, I would have to know the value of that population proportion. That population proportion is a fixed value but __its still unknown__. I don't know what it is. That's why we designed a study to be able to gather data that's representative, to be able to estimate its value. So, I cannot tell you whether this particular already made interval  (80.5% and 83.5% or 0.805 to 0.835) has the true proportion in it or not. So, that leads us to one way that might often be incorrectly interpreting that confidence level. __We don't want to think of it as a chance or probability that there's a 95 percent chance the population proportion is in our interval that we just made. That intervals are already computed, its fixed.__ \n",
    "\n",
    "That population proportion, the true rate for our population, is a fixed number. \n",
    "\n",
    "We're trying to learn what it is but it ends up either being in between these two values or it's not. In some sense, the probability would either be one or zero. We just don't know which of those two answers it is. The confidence level refers instead then to the confidence we have in the process we use to make our interval. Not as a probability after our interval was made but how confident we are about the statistical procedure that was used. \n",
    "\n",
    "Once again:\n",
    "\n",
    "<h1 align=\"center\"> <font color=\"red\"> Wrong understanding of Confidence Level:</font></h1>\n",
    "<h3 align=\"center\"><font color=\"red\"> 95% chance or probability</font></h>\n",
    "<h3 align=\"center\"><font color=\"red\"> that the population proportion in</font></h>\n",
    "<h3 align=\"center\"><font color=\"red\"> this already computed interval of (0.805 to 0.835)</font></h>\n",
    "\n",
    "<h1 align=\"center\"> <font color=\"green\"> Correct understanding of Confidence Level:</font></h1>\n",
    "<h3 align=\"center\"><font color=\"green\"> 95% confidence level refers to our</font></h>\n",
    "<h3 align=\"center\"><font color=\"blue\">confidence in the statistical procedure</font></h>\n",
    "<h3 align=\"center\"><font color=\"green\"> that was used to make this interval</font></h>"
   ]
  },
  {
   "cell_type": "markdown",
   "metadata": {},
   "source": [
    "### The more confident we want to be (i.e. the higher confidence level we want, the larger multiplier we need to use and the wider the interval is going to be)\n",
    "\n",
    "90% - 1.645\n",
    "\n",
    "95% - 1.96\n",
    "\n",
    "98% - 2.326\n",
    "\n",
    "99% - 2.5576"
   ]
  },
  {
   "cell_type": "markdown",
   "metadata": {},
   "source": [
    "<h1 align=\"center\"> <font color=\"green\">We use Confidence intervals to get a good estimate of our population proportion and how much faith we have in the statistical procedure that led us to conclude what our best estimate is</font></h1>"
   ]
  },
  {
   "cell_type": "markdown",
   "metadata": {},
   "source": [
    "### Assumptions for a Single Population Proportion Confidence Interval\n",
    "\n",
    "- __Best Estimate__ : in order to get a _reliable_ best estimate, we need a SIMPLE RANDOM SAMPLE\n",
    "- __Simple Random Sample__ : a representative subset of the population made up of observations (or subjects) that have an equal probability of being chosen\n",
    "- __Margin of Error__ : in order to use the critical z-value (or the z-multiplier.. 1.96, 2 etc.. this is taken from the normal curve) in our calculations, we need a _large enough sample size_\n",
    "    - Why _large enough sample size_?\n",
    "        - because then (per CLT) we can approximate our sampling distribution with a normal curve\n",
    "    - But what is large enough...?\n",
    "        - many viewpoints... regardless: __larger sample size -> Better Approximation (more bell shaped)"
   ]
  },
  {
   "cell_type": "markdown",
   "metadata": {},
   "source": [
    "## Conservative Approach and Sample Size Consideration\n",
    "Because we're using p hat to come up with our standard estimated error. So maybe a question we would ask ourself is, __what if $\\hat{p}$ is not accurate__? Maybe we didn't do a good enough job of making a random sample. Because of this question, sometimes you want to maximize the estimated standard error, and how is it done, is by plugging in p hat of 0.5. So at p-hat of 0.5, we would have 0.5 times 0.5 divided by n, all underneath a square root. So it's like 0.5 squared, or one-half, so the one-half comes out of the square root. And we end up with just the conservative standard error of 1/2 times the square root of n.\n",
    "\n",
    "### Most conservative standard error (one proportion case) = $\\frac{1}{2\\sqrt{n}}$\n",
    "becasue the function $\\sqrt{\\frac{\\hat{p}(1-\\hat{p})}{n}}$ is maximum for $\\hat{p}$ = 0.5\n",
    "\n",
    "so $\\hat{p}   \\pm  2 \\cdot \\frac{1}{2\\sqrt{n}}$\n",
    "\n",
    "= $\\hat{p}   \\pm  \\frac{1}{\\sqrt{n}}$\n",
    "\n",
    "#### 95% Margin of error only dependent on sample size\n",
    ".. so this allows us to vary our confidence interval width just by changing our sample size \n",
    "\n",
    "So, the new formula for __conservative confidence interval__ = $\\hat{p}   \\pm  \\frac{1}{\\sqrt{n}}$\n",
    "\n",
    "so for n=659, this gives us a 4% margin of error with 95% confidence interval ($\\frac{1}{\\sqrt{659}}$=0.04 or 4%)\n",
    "so the conservative 95% confidence interval with % margin of error = (0.82-0.04, 0.82+0.04)\n",
    "=(0.78,0.86)\n",
    "\n",
    "Again this is a wider interval than what we just previously saw, which it should be because we maximized our margin of error.\n",
    "\n",
    "### Margin of Error is only dependent on:\n",
    "- our confidence level (the z-multiplier).. typically 95% or 1.96\n",
    "- our sample size\n",
    "\n",
    "### Sample size determination\n",
    "we typically take the conservative standard error for determining the Sample size. For this, we already have fixed a two things:\n",
    "- confidence level is 95% so z-multiplier is 2\n",
    "- we want the margin of error to be at most 0.03\n",
    "\n",
    "then we just plug them in the formula to get the sample size:\n",
    "\n",
    "MoE = $\\frac{1}{\\sqrt{n}}$ = 0.03\n",
    "\n",
    "so n = $(\\frac{1}{MoE})^2$\n",
    "\n",
    "n = 1111.11\n",
    "\n",
    "since we cant have fractional people, and we want the MoE to be at most 0.03, we always round up\n",
    "\n",
    "so n$\\geq$1112"
   ]
  },
  {
   "cell_type": "markdown",
   "metadata": {},
   "source": [
    "So, what if we wanted __3% MoE @ 99% Confidence?__\n",
    "\n",
    "MoE = $Z \\cdot \\frac{1}{2\\sqrt{n}}$\n",
    "\n",
    "where $Z$ is the z-multiplier \n",
    "\n",
    "using the above equation, we can solve for n\n",
    "\n",
    "## Summary\n",
    " we looked at the estimated standard error a little bit more in depth and sometimes it could be too small or inaccurate based off our sample. So we employ the conservative approach which again is us maximizing our standard error by setting $\\hat{p}$ equal to 0.5 in a standard error equation. With that conservative approach, we can determine a sample size based off our confidence level and a desired margin of error. "
   ]
  },
  {
   "cell_type": "markdown",
   "metadata": {},
   "source": [
    "# Two Proportions\n",
    "## Estimating a Difference in Population Proportions with Confidence\n",
    "\n",
    "The research question that we'll be looking at is: \n",
    "\n",
    "__What is the difference of population proportions of parents reporting that their children aged 6-18 have had some swimming lessons between white children and black children?__ \n",
    "\n",
    "So, our populations of interest, we have two of them. We'll be looking at all parents of white children age 6-18 and all parents of black children age 6-18. Now, in this case, our parameter, since we're looking at two different population proportions will be the difference in our two population proportions. In notation, this will be $p_1$ minus $p_2$\n",
    "\n",
    "- Populations: all parents of white children age 6-18 and all parents of black children age 6-18\n",
    "- Parameter of Interest: Difference in population proportions ($p_1$ - $p_2$)\n",
    "- We'll let:\n",
    "    - 1 = white\n",
    "    - 2 = black\n",
    "    \n",
    "__Goal__: Our goal is constructing a 95 percent confidence interval for the difference in population proportions of parents reporting that their child has had swimming lessons between the parents of white children and the parents of black children\n",
    "\n",
    "### Survey Results:\n",
    "- We took a sample of 247 parents of black children, and we found that 91 said that their child has had some swimming lessons.\n",
    "- We also took a sample of 988 parents of white children, and we found that 543 said that their child has had some swimming lessons. \n"
   ]
  },
  {
   "cell_type": "markdown",
   "metadata": {},
   "source": [
    "### Difference in Proportion Confidence Interval\n",
    "\n",
    "#### Best Estimate $\\pm$ Margin of Error\n",
    "#### $\\hat{p_1}$ - $\\hat{p_2} \\ \\pm Margin \\ of \\ Error$\n",
    "#### $\\hat{p_1}$ - $\\hat{p_2} \\ \\pm \"a \\ few\" \\cdot se(\\hat{p_1}$ - $\\hat{p_2})$\n",
    "#### $\\hat{p_1}$ - $\\hat{p_2} \\ \\pm \\ 1.96 \\cdot \\sqrt{\\frac{\\hat{p_1}(1-\\hat{p_1})}{n_1}+\\frac{\\hat{p_2}(1-\\hat{p_2})}{n_2}}$ ............................. formula_1\n",
    "\n",
    "\n",
    "So, lets first calculate __Best Estimate of Parameter__\n",
    "\n",
    "$\\hat{p_1}$ = 543/988 = 0.55 ............. 1 = white\n",
    "\n",
    "$\\hat{p_2}$ = 91/247 = 0.37 ...............2 = black\n",
    "\n",
    "$\\hat{p_1}$ - $\\hat{p_2}$ = 0.55 - 0.37 = 0.18\n",
    "\n",
    "so let's substitute these number in formula_1\n",
    "\n",
    "0.18 $\\pm$ 0.0677\n",
    "\n",
    "(0.1123,0.2477)\n",
    "\n",
    "so our confidence interval goes from about 11% to about 25%\n",
    "\n",
    "#### Interpreting the Confidence Interval\n",
    "confidence interval = \"range of reasonable values for our parameter\" \n",
    "\n",
    "Our parameter is the difference in the two population proportions, and so our interval will look something like this. __With 95 percent confidence, the population proportion of parents with white children who have taken swimming lessons is roughly 11 percent to roughly 25 percent higher than the population proportion of parents with black children who have taken swimming lessons.__\n",
    "\n",
    " So, let's think about that. __Does it seem like there's a difference in the two population proportions?__ In order to understand if there's a difference in the two population proportions, we can look at what our parameter is. If we're looking at intervals of differences, we can think about, __is there a difference between the two perimeters?__ \n",
    "- If both of the perimeters are equal, that would mean the difference in our two parameters is zero. So, $p_1 \\ - \\ p_2$ would be equals zero if those two parameters were in fact the same. \n",
    "- If those perimeters are unequal, that means that the difference, $p_1 \\ - \\ p_2$, would not be equal to zero.\n",
    "\n",
    "So, since our confidence interval is a range of reasonable values for our parameter, we want to look to see if __zero is in the range of reasonable values__. If zero seems to be reasonable in our confidence interval, that implies that it seems possible that the parameters are equal to each other, that there truly is no difference between our two population proportions, or whatever our two parameters are. If zero is not contained in that confidence interval, it seems like our parameters are pretty likely to be unequal. They don't seem like they're very similar to each other or they are same, and so that indicates there might be a difference in the two population proportions or whatever parameter that we're looking at.\n",
    "\n",
    "__There are also some assumptions that you should check before you actually calculate your confidence interval.__\n",
    "\n",
    "1. First assumption is that we need to assume that we have two independent random samples. This really occurs within the sampling scheme, and so that needs to be told to you beforehand. It either has been done or hasn't been done, there's not really a way to check that once you've been given the information from your samples. \n",
    "2. Our second assumption is that we also need large enough sample sizes to assume that the distribution of our estimate is normal. What that means in this case is, we need $n_1 \\hat{p_1}$ and $n_1 (1-\\hat{p_1})$ and $n_2 \\hat{p_2}$ and $n_2 (1-\\hat{p_2})$, all to be at least 10. (That means that we need at least 10 yeses and at least 10 nos in each of the samples. )\n",
    "\n",
    "\n",
    "We found in our example that our confidence interval showed that the population proportion of white children who have had swimming lessons is somewhere between about 11 percent to about 25 percent higher than the population proportion of black children who have had swimming lessons. We've talked a little bit about how you can interpret that confidence interval. But in this case, it does appear as if the population proportion of white children who have had swimming lessons is higher than the population proportion of black children who have had swimming lessons."
   ]
  },
  {
   "cell_type": "markdown",
   "metadata": {},
   "source": [
    "# Estimating A Population Mean with Confidence\n",
    "\n",
    "firstly see this video of the lecture: EstimatingPopulationMeanWithConfidence.webm\n",
    "\n",
    "we're going to continue learning how to estimate population parameters with confidence.\n",
    "\n",
    "we are going to learn about a population mean. To facilitate learning about a population mean with confidence, we're going to use our cartwheel data. We had 25 team members and colleagues, all adults, who were asked to perform a cartwheel. Now, there were a number of variables that we measured, but one of them of interests was the cartwheel distance.\n",
    "\n",
    "our research question of interest is what is the average cartwheel distance in inches for adults? Our population then would be defined to be all adults, and the parameter of interest now is a population mean, the mean cartwheel distance, which we do represent here by the Greek letter mu. So, this is a question that's of interest, it is that we have some data available, we've measured it over a two-day time-frame using the same measuring device, and all done on carpet. We also want to estimate this average cartwheel distance, we want to know what it is, it's a descriptive question of interest. So, we're going to look for constructing a confidence interval, confidence interval for this mean cartwheel distance for our population of all such adults. We'll do that at a 95 percent level of confidence. "
   ]
  },
  {
   "cell_type": "code",
   "execution_count": 2,
   "metadata": {},
   "outputs": [],
   "source": [
    "import pandas as pd\n",
    "import numpy as np"
   ]
  },
  {
   "cell_type": "code",
   "execution_count": 3,
   "metadata": {},
   "outputs": [
    {
     "data": {
      "text/html": [
       "<div>\n",
       "<style scoped>\n",
       "    .dataframe tbody tr th:only-of-type {\n",
       "        vertical-align: middle;\n",
       "    }\n",
       "\n",
       "    .dataframe tbody tr th {\n",
       "        vertical-align: top;\n",
       "    }\n",
       "\n",
       "    .dataframe thead th {\n",
       "        text-align: right;\n",
       "    }\n",
       "</style>\n",
       "<table border=\"1\" class=\"dataframe\">\n",
       "  <thead>\n",
       "    <tr style=\"text-align: right;\">\n",
       "      <th></th>\n",
       "      <th>ID</th>\n",
       "      <th>Age</th>\n",
       "      <th>Gender</th>\n",
       "      <th>GenderGroup</th>\n",
       "      <th>Glasses</th>\n",
       "      <th>GlassesGroup</th>\n",
       "      <th>Height</th>\n",
       "      <th>Wingspan</th>\n",
       "      <th>CWDistance</th>\n",
       "      <th>Complete</th>\n",
       "      <th>CompleteGroup</th>\n",
       "      <th>Score</th>\n",
       "    </tr>\n",
       "  </thead>\n",
       "  <tbody>\n",
       "    <tr>\n",
       "      <th>0</th>\n",
       "      <td>1</td>\n",
       "      <td>56</td>\n",
       "      <td>F</td>\n",
       "      <td>1</td>\n",
       "      <td>Y</td>\n",
       "      <td>1</td>\n",
       "      <td>62.0</td>\n",
       "      <td>61.0</td>\n",
       "      <td>79</td>\n",
       "      <td>Y</td>\n",
       "      <td>1</td>\n",
       "      <td>7</td>\n",
       "    </tr>\n",
       "    <tr>\n",
       "      <th>1</th>\n",
       "      <td>2</td>\n",
       "      <td>26</td>\n",
       "      <td>F</td>\n",
       "      <td>1</td>\n",
       "      <td>Y</td>\n",
       "      <td>1</td>\n",
       "      <td>62.0</td>\n",
       "      <td>60.0</td>\n",
       "      <td>70</td>\n",
       "      <td>Y</td>\n",
       "      <td>1</td>\n",
       "      <td>8</td>\n",
       "    </tr>\n",
       "    <tr>\n",
       "      <th>2</th>\n",
       "      <td>3</td>\n",
       "      <td>33</td>\n",
       "      <td>F</td>\n",
       "      <td>1</td>\n",
       "      <td>Y</td>\n",
       "      <td>1</td>\n",
       "      <td>66.0</td>\n",
       "      <td>64.0</td>\n",
       "      <td>85</td>\n",
       "      <td>Y</td>\n",
       "      <td>1</td>\n",
       "      <td>7</td>\n",
       "    </tr>\n",
       "    <tr>\n",
       "      <th>3</th>\n",
       "      <td>4</td>\n",
       "      <td>39</td>\n",
       "      <td>F</td>\n",
       "      <td>1</td>\n",
       "      <td>N</td>\n",
       "      <td>0</td>\n",
       "      <td>64.0</td>\n",
       "      <td>63.0</td>\n",
       "      <td>87</td>\n",
       "      <td>Y</td>\n",
       "      <td>1</td>\n",
       "      <td>10</td>\n",
       "    </tr>\n",
       "    <tr>\n",
       "      <th>4</th>\n",
       "      <td>5</td>\n",
       "      <td>27</td>\n",
       "      <td>M</td>\n",
       "      <td>2</td>\n",
       "      <td>N</td>\n",
       "      <td>0</td>\n",
       "      <td>73.0</td>\n",
       "      <td>75.0</td>\n",
       "      <td>72</td>\n",
       "      <td>N</td>\n",
       "      <td>0</td>\n",
       "      <td>4</td>\n",
       "    </tr>\n",
       "  </tbody>\n",
       "</table>\n",
       "</div>"
      ],
      "text/plain": [
       "   ID  Age Gender  GenderGroup Glasses  GlassesGroup  Height  Wingspan  \\\n",
       "0   1   56      F            1       Y             1    62.0      61.0   \n",
       "1   2   26      F            1       Y             1    62.0      60.0   \n",
       "2   3   33      F            1       Y             1    66.0      64.0   \n",
       "3   4   39      F            1       N             0    64.0      63.0   \n",
       "4   5   27      M            2       N             0    73.0      75.0   \n",
       "\n",
       "   CWDistance Complete  CompleteGroup  Score  \n",
       "0          79        Y              1      7  \n",
       "1          70        Y              1      8  \n",
       "2          85        Y              1      7  \n",
       "3          87        Y              1     10  \n",
       "4          72        N              0      4  "
      ]
     },
     "execution_count": 3,
     "metadata": {},
     "output_type": "execute_result"
    }
   ],
   "source": [
    "df = pd.read_csv('data/Cartwheeldata.csv')\n",
    "df.head()"
   ]
  },
  {
   "cell_type": "code",
   "execution_count": 4,
   "metadata": {},
   "outputs": [
    {
     "data": {
      "text/plain": [
       "count     25.000000\n",
       "mean      82.480000\n",
       "std       15.058552\n",
       "min       63.000000\n",
       "25%       70.000000\n",
       "50%       81.000000\n",
       "75%       92.000000\n",
       "max      115.000000\n",
       "Name: CWDistance, dtype: float64"
      ]
     },
     "execution_count": 4,
     "metadata": {},
     "output_type": "execute_result"
    }
   ],
   "source": [
    "df.CWDistance.describe()"
   ]
  },
  {
   "cell_type": "markdown",
   "metadata": {},
   "source": [
    "### Note: the std computed by df.CWDistance.describe() is the sample standard distribution:\n",
    "$s \\ = \\sqrt{\\frac{\\Sigma(X-\\bar{X})^2}{n-1}}$\n",
    "\n",
    "s = 15.06\n",
    "\n",
    "$\\bar{X}=82.48$"
   ]
  },
  {
   "cell_type": "code",
   "execution_count": 5,
   "metadata": {},
   "outputs": [
    {
     "data": {
      "image/png": "[encoded data removed]",
      "text/plain": [
       "<Figure size 432x288 with 1 Axes>"
      ]
     },
     "metadata": {
      "needs_background": "light"
     },
     "output_type": "display_data"
    }
   ],
   "source": [
    "import seaborn as sns\n",
    "%matplotlib inline\n",
    "sns.distplot(df.CWDistance, kde=False);\n",
    "# so its a right tailed distribution, but still sort of looks like a normal distribution.\n",
    "# lets confirm it with a QQ plot"
   ]
  },
  {
   "cell_type": "code",
   "execution_count": 6,
   "metadata": {},
   "outputs": [
    {
     "name": "stderr",
     "output_type": "stream",
     "text": [
      "/home/helios/anaconda3/envs/tensorflow_env/lib/python3.6/site-packages/sklearn/preprocessing/data.py:645: DataConversionWarning: Data with input dtype int64 were all converted to float64 by StandardScaler.\n",
      "  return self.partial_fit(X, y)\n",
      "/home/helios/anaconda3/envs/tensorflow_env/lib/python3.6/site-packages/sklearn/base.py:464: DataConversionWarning: Data with input dtype int64 were all converted to float64 by StandardScaler.\n",
      "  return self.fit(X, **fit_params).transform(X)\n"
     ]
    },
    {
     "data": {
      "image/png": "[encoded data removed]",
      "text/plain": [
       "<Figure size 432x288 with 1 Axes>"
      ]
     },
     "metadata": {
      "needs_background": "light"
     },
     "output_type": "display_data"
    }
   ],
   "source": [
    "import statsmodels.api as sm\n",
    "import matplotlib.pyplot as plt\n",
    "from sklearn.preprocessing import StandardScaler \n",
    "scaler = StandardScaler()\n",
    "flattened_cwdistance = np.ravel(scaler.fit_transform(df[['CWDistance']]))\n",
    "sm.qqplot(flattened_cwdistance, line='45');\n",
    "plt.title('QQ Plot');"
   ]
  },
  {
   "cell_type": "markdown",
   "metadata": {},
   "source": [
    "Now, the histogram is showing us that the cartwheel distances that were traveled were from below 70 inches up to, well, over 110 inches. We do also see a little bit of a right-skewed shape in our distribution, and that's further verified when we look at our QQ plot where that tail is off a little bit on the lower end. We do need to have a normal model or a bell-shaped model is a reasonable model for our response in our population in order for our confidence interval procedures to be reasonable, but we also do have a sample size here of 25 observations which is starting to be large enough for us to rely a little bit on that central limit theorem result.\n",
    "\n",
    "so our unbiased estimate for population mean = $\\bar{X}$ = 82.48\n",
    "\n",
    "standard error for our sample = $\\frac{\\sigma}{\\sqrt{n}}$\n",
    "\n",
    "On the top, we have $\\sigma$, that is the true standard deviation for that population of all cartwheel distances. On the bottom, we've got that factor of the sample size, $\\sqrt{n}$. So, the variability or accuracy of our sample mean depends on these two features, how much variation was in the original population of measurements that we took our data from, and how much data do we take from that population. Certainly, a nice feature is that the sample size is on the bottom. So, what's going to happen to this standard error? If we were able to have a larger sample size in our repeated study or that standard error will be smaller, giving us that our sample means would vary less from that true mean mu. Now, the drawback of this expression is that we can never calculate it. That $\\sigma$ on the top, that true standard deviation for our population of all cartwheel distances for all adults, we don't know what that is, and unless we can look at the entire population of measurements, we couldn't calculate it. \n",
    "\n",
    "So, we are going to have to come up with an estimate of this measure of variability, this standard error, and use what we have. We did take some data from the population, we have some measurements of cartwheel distances, we can measure the variability in that sample with our sample standard deviation $s \\ = \\sqrt{\\frac{\\Sigma(X-\\bar{X})^2}{n-1}}$, and we're going to use that instead and replace our $\\sigma$ with $s$. So, then we're going to be talking about having an estimated standard error rather than the actual standard error. But at least it's something we can calculate and use to form our confidence interval.\n",
    "\n",
    "$$\\bar{X} \\ \\pm \\ t^{\\ast} \\cdot \\frac{s}{\\sqrt{n}}$$\n",
    "$$82.48 \\ \\pm \\ 2.064 \\bigg(\\frac{15.06}{\\sqrt{25}}\\bigg)$$\n",
    "\n",
    "__Note__: since sample size is less than 30, use t-distribution. So for 95% confidence interval, multiplier is 2.064\n",
    "\n",
    "__Note__: since we don't have any estimate for the population standard error $\\sigma$, we will just use the sample standard error $s$ as the estimate for the population standard error (something is better than nothing). But we will use the multiplier from the t-distribution even if the sample size is larger than 30. So that means we have a slightly heavier tail, and our confidence interval will be a little bit more conservative, because we have estimated that standard error.\n",
    "\n",
    "we have x bar as our best estimate. We have our estimated standard error using that s on top. But what about that \"a few\"? In this case, we are not going to require that you have to have a large sample size in order to conduct a confidence interval for a population mean unlike the requirement for a large enough sample size in proportions. Since we're using s instead of $\\sigma$ in that estimated standard error, we're going to have to adjust for that few. It's no longer going to be able to be just that 1.96 value that we were using when we were doing inference for proportions. This multiplier, this few is going to have to be coming from a different distribution called a t-distribution. Which is going to be indexed by some idea of how much data we have. n minus one degrees of freedom. To give you a feel for what these multipliers look like, if we do want to be 95% confident and we have a sample size of 25 as we do here, then the multiplier's going to have to be a little bit more than 2.064, in order to have that 95% Confidence Level attained.\n",
    "\n",
    "__With 95% confidence, the population mean cartwheel distance for all adults is _estimated_ to be between 76.26 inches and 88.70 inches__\n",
    "\n",
    "note: that 95% confidence means that _we would expect 95% of those resulting intervals to contain the population mean cartwheel distance_"
   ]
  },
  {
   "cell_type": "markdown",
   "metadata": {},
   "source": [
    "# Summary\n",
    "- Confidence intervals are used to give an _interval_ estimate for our parameter of interest - the population mean\n",
    "- center of confidence interval is our best estimate - the sample mean\n",
    "- margin of error is \"a few\" (estimated)standard errors - for means, we either use z-multipliers or t-multipliers(when sample size is less than 30)\n",
    "- Assumptions for Confidence interval for Population mean\n",
    "    - data considered random sample\n",
    "    - population of responses is normal\n",
    "     - note: in case this is not true, but sample size is large enough, then from CLT, sample means are normally distributed. SO in this case, we dont need the population to be normal."
   ]
  },
  {
   "cell_type": "markdown",
   "metadata": {},
   "source": [
    "# Estimating a Mean Difference for Paired Data\n",
    "\n",
    " When we have paired data, we want to treat the two sets of values simultaneously. We can't look at them separately because they're matched in some way. For example:\n",
    " - you might ask a person to write their name with their dominant and their non-dominant hand. It's the same person, same name, just two different hands. \n",
    " - the length of fingers for piano players on their dominant and non-dominant hand or their right and their left hand to see how those are different. \n",
    " - measurement pre and post treatment. So an individual is measured before some treatment, and then takes a pill and is measured again after some treatment.\n",
    " - In addition to being collected on the same individual, we might have measurements that are collected on matched individuals in some way. So in this case we have the twin data, we have our individuals that are matched because they're twins. These individuals don't necessarily have to be people, they could be something like candles. In this case, we might be looking at candles. For example, we might be interested into two different wicks. And we might match candles based on their height or other characteristics, to see how those wicks burn in these different sets of candles.\n",
    "- we might have individuals that are matched because they're related to each other. For example, a son and a grandfather or something like that.\n",
    "- You might also have individuals that are matched or, You might also individuals that are matched based on some other characteristics. So for example, age, gender, and weight if you're looking at a weight loss program.\n",
    "\n",
    "So, in each of these cases, we'll need to come up with a new variable. We'll look at the difference of measurements within pairs. So that we're directly comparing between those two individuals with those two measurements that are captured together.\n",
    "\n",
    "#### Research question: We are studying twins that came to a twins festival in twinsburg, Ohio in 976. In our case, our research question is what is the average difference between the older twin's and the younger twin's self-reported education? \n",
    "\n",
    "__Our goal here is that we'd like to construct a 95% confidence interval for the mean difference of self reported education for that set of identical twins.__\n",
    "\n",
    "In this case, our population will be all identical twins. We'll only be looking at identical twins for this survey. \n",
    "\n",
    "And our parameter of interest will be the population mean difference of self reported education level, this is $\\mu_D$. Now here we do have to specify what way we're calculating that difference. In our case, it'll be the older twin minus the younger twin in terms of their education.\n",
    "\n",
    "And the difference is what leads us to use that subscript $D$. You'll see that throughout this presentation. You'll see that we use that subscript $D$ quite often to indicate that we're looking at a difference variable.\n",
    "\n",
    "__Now we do have a couple of assumptions that we should check before we actually perform this calculation__. \n",
    "- We do need to assume that we have a random sample of identical twin sets. \n",
    "- We also need to assume that the population of differences is normal. We did look at that histogram earlier, and they look roughly normal, roughly bell shaped. But we also do have a large enough sample size, we have 340 observations in our sample, and so this can help us bypass that assumption. That assumption of normality isn't quite as important with the large sample size.\n",
    "\n",
    "To actually do the calculation, we calculate the differences, store them in a dataframe column and call describe() to get summary statistics. It will give you the best estimate for mean difference and the estimate for the population standard error (remember, due to lack of population standard error $\\sigma$, we will use sample standard error $s$ as the estimate for the population standard error. To account for this approximation, we will use the multipliers from the t-distribution, even though, in this case we had a sample size of n=340. So that means we have a slightly heavier tail, and our confidence interval will be a little bit more conservative, because we have estimated that standard error.)\n",
    "\n",
    "Rest is exactly as we did before when estimating population mean and building its confidence interval.\n",
    "$$\\bar{X} \\ \\pm \\ t^{\\ast} \\cdot \\frac{s}{\\sqrt{n}}$$\n",
    "\n",
    "the only caveat being, since our sample size n=340, the $t^{\\ast}$ multiplier is 1.967 (with n-1 degree of freedom)\n",
    "\n",
    "so our interval of reasonable values is between 0.0025 years and 0.1652 years with 95% confidence. Since there is no zero in the interval of reasonable values, we can conclude with 95% confidence that the older twin, on average, had slightly higher education than younger twin. However, these values are all pretty close to zero. So we see that that education level jump for the older twin might not be a huge increase, but that there is some increase there.\n",
    "\n",
    "__ we've seen that we are extending the one mean confidence interval to paired data. So now we're using that difference variable rather than the collected variable to calculate our confidence interval. But it's the same general procedure as that one mean confidence interval.__\n",
    "\n",
    "We do need our data to be paired to calculate a difference variable. This happens in one of two ways primarily. \n",
    "- We have two measurements taken on the same individual\n",
    "- We have two measurements that are on similar matched individuals, individuals that are matched in some way before data collection.\n",
    "\n",
    "__Finally, we've looked at what it means of zeros in that confidence interval or not. In our case, zero was not in the confidence interval. So that implied that the mean difference is not zero, that there is some true difference between the education level of twins__"
   ]
  },
  {
   "cell_type": "markdown",
   "metadata": {},
   "source": [
    "# Estimating a Difference in Population Means with Confidence (for Independent Groups)\n",
    "\n",
    "__Research Question. Considering Mexican-American adults ages 18 to 29 living in the United States, do males and females differ significantly in mean Body Mass Index (BMI)?__\n",
    "\n",
    "So first we're going to look at our population. \n",
    "- __Population__: Mexican-American adults (ages 18-29) in the US\n",
    "    - _The population specified here is for Mexican-American adults, again, ages 18 to 29, living in the United States._\n",
    "- __Parrameter of Interest__ $\\big(\\mu_1 - \\mu_2\\big)$: Body mass index or BMI ($kg/m^2$)\n",
    "    - Here, since we're going to compare to separate populations, males and females, we sample these based on the gender from the overall NHAMES dataset and get our two populations of interest.\n",
    "    - gender is labelled as __1 for males and 2 for females__\n",
    "    \n",
    "We are assuming that the samples were simple random samples, which is true since NHANES is designed that way.\n",
    "    \n",
    "So, from our NHANES dataset, we will filter only for Mexican-American adults in the ages of 18-29"
   ]
  },
  {
   "cell_type": "code",
   "execution_count": 45,
   "metadata": {},
   "outputs": [],
   "source": [
    "df = pd.read_csv('data/nhanes_2015_2016.csv')"
   ]
  },
  {
   "cell_type": "code",
   "execution_count": 46,
   "metadata": {},
   "outputs": [
    {
     "data": {
      "text/plain": [
       "18"
      ]
     },
     "execution_count": 46,
     "metadata": {},
     "output_type": "execute_result"
    }
   ],
   "source": [
    "df[\"RIAGENDRx\"] = df.RIAGENDR.replace({1: \"Male\", 2: \"Female\"})\n",
    "df[\"RIDRETH1x\"] = df.RIDRETH1.replace({1:'Mexican American', 2:'Other Hispanic', 3:'Non-Hispanic White', 4:'Non-Hispanic Black',5:'Other Race - Including Multi-Racial'})\n",
    "df.RIDAGEYR.min() # so we know that min age is 18. So need to filter for lower limit of 18"
   ]
  },
  {
   "cell_type": "code",
   "execution_count": 47,
   "metadata": {},
   "outputs": [
    {
     "data": {
      "text/html": [
       "<div>\n",
       "<style scoped>\n",
       "    .dataframe tbody tr th:only-of-type {\n",
       "        vertical-align: middle;\n",
       "    }\n",
       "\n",
       "    .dataframe tbody tr th {\n",
       "        vertical-align: top;\n",
       "    }\n",
       "\n",
       "    .dataframe thead th {\n",
       "        text-align: right;\n",
       "    }\n",
       "</style>\n",
       "<table border=\"1\" class=\"dataframe\">\n",
       "  <thead>\n",
       "    <tr style=\"text-align: right;\">\n",
       "      <th></th>\n",
       "      <th>RIAGENDRx</th>\n",
       "      <th>RIDAGEYR</th>\n",
       "      <th>BMXBMI</th>\n",
       "    </tr>\n",
       "  </thead>\n",
       "  <tbody>\n",
       "    <tr>\n",
       "      <th>16</th>\n",
       "      <td>Female</td>\n",
       "      <td>19</td>\n",
       "      <td>32.8</td>\n",
       "    </tr>\n",
       "    <tr>\n",
       "      <th>36</th>\n",
       "      <td>Female</td>\n",
       "      <td>29</td>\n",
       "      <td>23.7</td>\n",
       "    </tr>\n",
       "    <tr>\n",
       "      <th>47</th>\n",
       "      <td>Female</td>\n",
       "      <td>29</td>\n",
       "      <td>29.7</td>\n",
       "    </tr>\n",
       "    <tr>\n",
       "      <th>54</th>\n",
       "      <td>Female</td>\n",
       "      <td>18</td>\n",
       "      <td>28.0</td>\n",
       "    </tr>\n",
       "    <tr>\n",
       "      <th>57</th>\n",
       "      <td>Male</td>\n",
       "      <td>27</td>\n",
       "      <td>23.1</td>\n",
       "    </tr>\n",
       "  </tbody>\n",
       "</table>\n",
       "</div>"
      ],
      "text/plain": [
       "   RIAGENDRx  RIDAGEYR  BMXBMI\n",
       "16    Female        19    32.8\n",
       "36    Female        29    23.7\n",
       "47    Female        29    29.7\n",
       "54    Female        18    28.0\n",
       "57      Male        27    23.1"
      ]
     },
     "execution_count": 47,
     "metadata": {},
     "output_type": "execute_result"
    }
   ],
   "source": [
    "df = df[['RIAGENDRx','RIDRETH1x','RIDAGEYR','BMXBMI']]\n",
    "df = df[(df['RIDRETH1x']=='Mexican American')&(df['RIDAGEYR']<=29)]\n",
    "# since all are mexican americans, drop the ethnicity column\n",
    "df = df.drop(columns=['RIDRETH1x'])\n",
    "df.head()"
   ]
  },
  {
   "cell_type": "code",
   "execution_count": 48,
   "metadata": {},
   "outputs": [
    {
     "data": {
      "image/png": "[encoded data removed]",
      "text/plain": [
       "<Figure size 432x288 with 1 Axes>"
      ]
     },
     "metadata": {
      "needs_background": "light"
     },
     "output_type": "display_data"
    }
   ],
   "source": [
    "plot = sns.boxplot(x='RIAGENDRx',y='BMXBMI',data=df)\n",
    "plot.set_title(\"BMI distribution of Mexi-Ams between 18-29 old\")\n",
    "plot.set(xlabel='Gender',ylabel='BMI($kg/m^2$)');"
   ]
  },
  {
   "cell_type": "code",
   "execution_count": 49,
   "metadata": {},
   "outputs": [
    {
     "data": {
      "text/html": [
       "<div>\n",
       "<style scoped>\n",
       "    .dataframe tbody tr th:only-of-type {\n",
       "        vertical-align: middle;\n",
       "    }\n",
       "\n",
       "    .dataframe tbody tr th {\n",
       "        vertical-align: top;\n",
       "    }\n",
       "\n",
       "    .dataframe thead th {\n",
       "        text-align: right;\n",
       "    }\n",
       "</style>\n",
       "<table border=\"1\" class=\"dataframe\">\n",
       "  <thead>\n",
       "    <tr style=\"text-align: right;\">\n",
       "      <th></th>\n",
       "      <th>count</th>\n",
       "      <th>mean</th>\n",
       "      <th>std</th>\n",
       "      <th>min</th>\n",
       "      <th>25%</th>\n",
       "      <th>50%</th>\n",
       "      <th>75%</th>\n",
       "      <th>max</th>\n",
       "    </tr>\n",
       "    <tr>\n",
       "      <th>RIAGENDRx</th>\n",
       "      <th></th>\n",
       "      <th></th>\n",
       "      <th></th>\n",
       "      <th></th>\n",
       "      <th></th>\n",
       "      <th></th>\n",
       "      <th></th>\n",
       "      <th></th>\n",
       "    </tr>\n",
       "  </thead>\n",
       "  <tbody>\n",
       "    <tr>\n",
       "      <th>Female</th>\n",
       "      <td>120.0</td>\n",
       "      <td>29.586667</td>\n",
       "      <td>8.101685</td>\n",
       "      <td>16.2</td>\n",
       "      <td>24.10</td>\n",
       "      <td>28.25</td>\n",
       "      <td>33.35</td>\n",
       "      <td>63.9</td>\n",
       "    </tr>\n",
       "    <tr>\n",
       "      <th>Male</th>\n",
       "      <td>115.0</td>\n",
       "      <td>29.351304</td>\n",
       "      <td>7.676226</td>\n",
       "      <td>16.2</td>\n",
       "      <td>23.45</td>\n",
       "      <td>28.20</td>\n",
       "      <td>34.00</td>\n",
       "      <td>58.0</td>\n",
       "    </tr>\n",
       "  </tbody>\n",
       "</table>\n",
       "</div>"
      ],
      "text/plain": [
       "           count       mean       std   min    25%    50%    75%   max\n",
       "RIAGENDRx                                                             \n",
       "Female     120.0  29.586667  8.101685  16.2  24.10  28.25  33.35  63.9\n",
       "Male       115.0  29.351304  7.676226  16.2  23.45  28.20  34.00  58.0"
      ]
     },
     "execution_count": 49,
     "metadata": {},
     "output_type": "execute_result"
    }
   ],
   "source": [
    "df.groupby(['RIAGENDRx']).BMXBMI.describe()"
   ]
  },
  {
   "cell_type": "code",
   "execution_count": 80,
   "metadata": {},
   "outputs": [
    {
     "data": {
      "image/png": "[encoded data removed]",
      "text/plain": [
       "<Figure size 720x720 with 4 Axes>"
      ]
     },
     "metadata": {
      "needs_background": "light"
     },
     "output_type": "display_data"
    }
   ],
   "source": [
    "import statsmodels.api as sm\n",
    "import matplotlib.pyplot as plt\n",
    "from sklearn.preprocessing import StandardScaler \n",
    "scaler = StandardScaler()\n",
    "df_male = df[df['RIAGENDRx']=='Male']\n",
    "df_female = df[df['RIAGENDRx']=='Female']\n",
    "flattened_cwdistance = np.ravel(scaler.fit_transform(df_male[['BMXBMI']]))\n",
    "\n",
    "fig, axs = plt.subplots(2, 2,figsize=(10,10))\n",
    "sm.qqplot(flattened_cwdistance, line='45',ax=axs[0, 0]);\n",
    "axs[0, 0].set_title('QQ Plot for Male');\n",
    "sns.distplot(df_male[['BMXBMI']].dropna(), kde=False, ax=axs[0, 1]).set_title(\"Hist for Male\");\n",
    "flattened_cwdistance1 = np.ravel(scaler.fit_transform(df_female[['BMXBMI']]))\n",
    "sm.qqplot(flattened_cwdistance1, line='45',ax=axs[1, 0]);\n",
    "axs[1, 0].set_title('QQ Plot for Female');\n",
    "sns.distplot(df_female[['BMXBMI']].dropna(), kde=False, ax=axs[1, 1]).set_title(\"Hist for Female\");\n",
    "plt.tight_layout()"
   ]
  },
  {
   "cell_type": "markdown",
   "metadata": {},
   "source": [
    "### Sampling Distribution of the Difference in Two (Independent) Sample Means\n",
    "\n",
    "If models for both populations of responses are approximately normal (or sample sizes are both 'large' enough), distribution of the difference in sample means is (approximately) normal.\n",
    "\n",
    "__Note - Our Assumptions__: \n",
    "1. We are assuming that the samples were simple random samples, which is true since NHANES is designed that way. There are complex designed samples, but for this analysis, we are assuming SRS. \n",
    "2. We are also assuming that the two populations are independent of eachother and the data cannot be paired.\n",
    "3. __Normality Asssumption__: models for both populations of responses are approximately normal (or sample sizes are both 'large' enough). To know this:\n",
    "    - either look at the histogram plots of the two populations\n",
    "    - or look at the Quantile-Quantile plots for the two populations\n",
    "    \n",
    "Looking at QQ and hist plots, we can see that both male and females have approx normal distribution, with a slight-to-moderate right skew, especially in females (check QQ plot for females). But the large sample sizes let us apply CLT and continue anyways (even if they were not normal).\n",
    "\n",
    "$\\mu_1$ = $\\bar{x_1}$, $ \\ \\mu_2$ = $\\bar{x_2}$, $ \\ s_1$, $ \\ s_2$, $ \\ n_1$, $ \\ n_2$\n",
    "\n",
    "$\\mu_D$ = $\\mu_1 - \\mu_2$ =   $\\bar{x_1}$ - $\\bar{x_2}$\n",
    "\n",
    "$\\mu_1$ = 29.351, $\\mu_2$ = 29.587, $s_1$ = 7.676, $s_2$ = 8.102, $n_1$ = 115, $n_2$ = 120\n",
    "\n",
    "$\\mu_D$ = $\\mu_1 - \\mu_2$ =  29.351 - 29.587 = -0.2360\n",
    "\n",
    "__Standard Error__ = $\\sqrt{\\frac{\\sigma_1^2}{n_1} \\ + \\ \\frac{\\sigma_2^2}{n_2}}$\n",
    "\n",
    "Unfortunately, we don't know the population standard errors for both populations. So, use the Estimated Standard errors\n",
    "\n",
    "Also, since we are using Estimated Standard Errors for both population, the multiplier will come from a t-distribution. We need to know the degrees of freedom.\n",
    "\n",
    "__When figuring out this margin of error, there's two different approaches that can be used with the two means confidence interval.__\n",
    "- __Pooled Approach__: If the variances of both of our populations are close enough, we're going to assume them to be equal. So here we don't know these true variances again. So looking at our sample variances and the spread of each sample (IQR), we can see if this assumption will hold. \n",
    "- __Unpooled Approach__: If we don't think the assumption involved in pooled approach will hold, we can simply use the unpooled approach and drop this assumption.\n",
    "\n",
    "#### Unpooled Approach for two means confidence interval\n",
    "Since the two populations are independent and different, we have two options:\n",
    "1. the $df$ for the t-multiplier can be found using Welch approximation\n",
    "2. If the technology is not available (like doing by hand), a conservative approach can be used by taking the smaller of $n_1 - 1$ and $n_2 - 1$ i.e. $$df = min(n_1-1,n_2-1)$$\n",
    "\n",
    "Finally, with Unpooled approach, the estimated standard error is given by:\n",
    "__Estimated Standard Error__ = $\\sqrt{\\frac{s_1^2}{n_1} \\ + \\ \\frac{s_2^2}{n_2}}$\n",
    "\n",
    "#### Pooled Approach for two means confidence interval\n",
    "This is where our variances are closer enough in our samples that we can assume that our variances for the populations are similar, and then we pool that variance together. So again we have that same difference in sample means, and then we're going to plus or minus a few estimated standard errors. The estimated standard error for pooled is going to change now. So instead of having that original calculation, we now have our pooled standard deviation out in front and we multiply that by the square root of the inverse of our sample sizes.\n",
    "\n",
    "with Pooled approach, the estimated standard error is given by:\n",
    "\n",
    "__Estimated Standard Error__ = $\\sqrt{\\frac{(n_1-1)s_1^2 \\ + \\ (n_2-1)s_2^2}{n_1+n_2-2}} \\sqrt{\\frac{1}{n_1}+\\frac{1}{n_2}}$\n",
    "\n",
    "for the multiplier, we still use the t-multiplier but it comes with different degrees of freedom: $$df = n_1+n_2-2$$\n",
    "\n",
    "\n",
    "#### lets use the unpooled approach since the two stds appear to be slightly different\n",
    "Best estimate = -0.2360\n",
    "\n",
    "from here (http://web.utk.edu/~cwiek/TwoSampleDoF),welch approximation df = 233\n",
    "\n",
    "t-multiplier for 95% confidence and df of 233 = 1.972 https://www.medcalc.org/manual/t-distribution.php\n",
    "\n",
    "MoE = $1.972$ $\\sqrt{\\frac{s_1^2}{n_1} \\ + \\ \\frac{s_2^2}{n_2}}$"
   ]
  },
  {
   "cell_type": "code",
   "execution_count": 83,
   "metadata": {},
   "outputs": [
    {
     "data": {
      "text/plain": [
       "(-2.265700910422175, 1.7937009104221735)"
      ]
     },
     "execution_count": 83,
     "metadata": {},
     "output_type": "execute_result"
    }
   ],
   "source": [
    "s1  = 7.676\n",
    "s2 = 8.102\n",
    "n1 = 115\n",
    "n2= 120\n",
    "mu_d = 29.351 -29.587\n",
    "moe = 1.972*np.sqrt((s1*s1)/n1 + (s2*s2)/n2)\n",
    "conf_interval_unpooled=(mu_d-moe,mu_d+moe)\n",
    "conf_interval_unpooled"
   ]
  },
  {
   "cell_type": "markdown",
   "metadata": {},
   "source": [
    "so with 95% confidence, (-2.265700910422175, 1.7937009104221735) is the interval of acceptable values for the difference in BMI between mexican american males and females aged 18-29. As we can see that 0 lies in the interval. So, it is possible that there is no discernable difference.\n",
    "\n",
    "But lets match this with pooled approach because the diffearence in IQR and variances is not that much. If the confidence interval is almost the same in pooled approach as well, then we will have a very robust approach."
   ]
  },
  {
   "cell_type": "code",
   "execution_count": 87,
   "metadata": {},
   "outputs": [
    {
     "data": {
      "text/plain": [
       "(-2.2680425159792135, 1.7960425159792122)"
      ]
     },
     "execution_count": 87,
     "metadata": {},
     "output_type": "execute_result"
    }
   ],
   "source": [
    "df = n1+n2-2\n",
    "#df = 233, t-multiplier = 1.972 for 95% confidence level\n",
    "moe = 1.972*np.sqrt(((s1*s1)*(n1-1) + (s2*s2)*(n2-1))/(n1+n2-2))*np.sqrt((1/n1)+(1/n2))\n",
    "conf_interval_pooled=(mu_d-moe,mu_d+moe)\n",
    "conf_interval_pooled"
   ]
  },
  {
   "cell_type": "markdown",
   "metadata": {},
   "source": [
    "we see that the conf_interval_pooled and conf_interval_unpooled are very similar. Hence our analysis is robust, whether we assume equal variances or not."
   ]
  },
  {
   "cell_type": "markdown",
   "metadata": {},
   "source": [
    "# Confidence Intervals: Other Considerations\n",
    "\n",
    "## Confidence intervals and coverage probabilities\n",
    "A __confidence interval (CI)__ is an interval of the form (a, b), that is constructed from the data. The purpose of a CI is to cover an unknown population parameter with “high probability” (we use probability here since it is not possible to construct an interval that is guaranteed to always cover the population parameter of interest). For example, if we want to estimate the mean body mass index (BMI) in a population of people, where the true mean BMI is 25.5, then the interval (24, 26.2) would cover the target, while the interval (26.1, 28) would not.\n",
    "\n",
    "The confidence interval is defined through its __lower confidence bound (LCB)__ and its __upper confidence bound (UCB)__, which are both functions of the data. The population parameter of interest, denoted here by θ (theta), is an unknown constant. In the example above, θ = 25.5. The “coverage probability” of the confidence interval is the probability that LCB <= θ <= UCB, written P(LCB <= θ <= UCB). The coverage probability is set by the researcher, and in most cases will be set to 95%.\n",
    "\n",
    "The coverage probability is defined in terms of (hypothetical) repeated sampling of multiple data sets from the population of interest. Over many such repeated samples, constructing one CI from each sample, there will be a fraction of the confidence intervals that cover the target. __This fraction is the coverage probability__.\n",
    "\n",
    "A wider confidence interval will have an easier time covering the target than a narrower one. On the other hand, a very wide interval is not very informative (imagine if we reported the fraction of voters supporting a particular candidate in an election as 55%, with a 95% CI spanning from 2% to 98%). Thus, the primary goal when constructing an interval is to “adapt to the data”, yielding a wider interval when the power is low and uncertainty is high, and a narrower interval when the power is high and uncertainty is low.\n",
    "\n",
    "Ideally the “actual” coverage probability of a confidence interval obtained in practice will match the intended or “nominal” coverage probability. But a CI may fail to perform as desired. This is because a CI may be used in a setting where the conditions under which it was derived are violated. Here we will explore some common reasons why this may occur.\n",
    "\n",
    "The actual coverage probability of a confidence interval may be either less than the nominal coverage level (yielding an “anti-conservative” interval), or greater than the nominal coverage level (yielding a “conservative” interval). Although a conservative interval is often viewed slightly more favorably than an anti-conservative interval, both of these outcomes are undesirable -- we wish to obtain an interval whose actual coverage is as close as possible to the nominal coverage probability.\n",
    "\n",
    "It is important to reiterate that in practice, we obtain one confidence interval from one sample. This CI either covers or fails to cover the target value. For a specific data set, we do not know whether the CI derived from it actually covers the target value, but this is something that is either true or false - there is no probability involved when discussing whether one specific CI covers the target value.\n",
    "\n",
    "We rarely have multiple independent samples from the same population, so we cannot usually verify that a confidence interval attains its intended coverage probability. To reassure ourselves that the desired coverage is attained, we can study the theoretical properties that would be guaranteed to result in the intended coverage rate being achieved. We can also use computer simulations to assess how a given method for constructing CIs performs in various hypothetical settings. Statisticians make use of both of these approaches when assessing the performance of confidence intervals in particular settings.\n",
    "\n",
    "__The confidence intervals we have seen so far are all constructed using two key quantities__:\n",
    "\n",
    "1. an unbiased estimate of a population parameter, and\n",
    "2. the standard error of this estimate.\n",
    "\n",
    "For example, if we are interested in estimating the population mean based on an independent and identically distributed (iid) sample of data, the unbiased estimate is the sample mean (x̄ or x_bar), and the standard error of this estimate is s/sqrt(n) (or σ/√n), where s is the standard deviation of the data, and n is the sample size.\n",
    "\n",
    "Many confidence intervals are constructed using the form “point estimate +/- K standard errors.\" For example, when working with the sample mean x̄ (x_bar), the interval is x̄ +/- 1.96 σ/√n. The constant K is chosen to give the desired level of coverage. Specifically, we need the “Z-score” σ/√n * (x̄ - mu) / s to fall between -K and K with probability alpha. As long as this holds, then the interval x̄ +/- K *σ/√n will have the intended coverage probability. The constant K plays a very important role in determining the properties of a CI, and will be discussed in more detail below.\n",
    "\n",
    "## Constructing confidence intervals\n",
    "There are two ways we can obtain values of K to use in constructing the CI. One approach is based on making the very strong assumption that the data are independent and identically distributed, and follow a normal (Gaussian) distribution. If this is the case, then the Z-score follows a Student-t distribution with n-1 degrees of freedom. If we set K equal to the 1 - (1 - ɑ)/2 quantile of the Student-t distribution with n-1 degrees of freedom, then the resulting interval will have the intended coverage rate. Values of K constructed from the Student t-distribution will range from 2 to 2.5 for 95% coverage intervals if the sample size is greater than 5 (samples smaller than 5 observations are rare in practice). Thus, most CIs will be constructed by taking a “margin of error” around the point estimate that is between 2 and 2.5 times the standard error.\n",
    "\n",
    "An alternative and much more broadly applicable basis for obtaining a value for K is to use the “central limit theorem” (CLT). The CLT states that the sample mean of independent and identically distributed values will be approximately normally distributed. The CLT also implies that the Z-score will be approximately normally distributed. Importantly, the CLT provides these guarantees even when the individual data values have distributions that are not normal, as long as the sample size is “sufficiently large.” There are some additional technical conditions needed for the CLT to be applicable, but we will not discuss them here.\n",
    "\n",
    "Unfortunately, there is no universal rule that defines how large the sample size should be to invoke the central limit theorem. In general, if the data distribution is close to being normal, then the Z-scores will be close to normally-distributed even when the sample size is quite small (e.g. around 10). If the individual data values are far from being normally distributed (e.g. they are strongly skewed or have heavy tails), then the CLT may not be relevant until the sample size is larger, say around 50.\n",
    "\n",
    "As long as we can justify invoking the CLT, it is appropriate to use the 1 - (1 - ɑ)/2 quantile of the normal distribution to define K, which leads to setting K=1.96 in order to achieve an (approximate) 95% coverage probability. Thus, normality of the individual data values is not needed for a CI to have good coverage properties. It is good practice to inspect the distribution of a sample before proceeding to construct a confidence interval for its mean, for example, by looking at a histogram or quantile plot of the data. But it is not necessary that this show a nearly-normal distribution in order for the confidence interval to be meaningful, unless the sample size is very small and the data are strongly non-normal.\n",
    "\n",
    "Another common practice is to use K as calculated from the Student-t distribution, even when the data are not taken to be normal. The rationale for doing this is that even though the Z-scores do not follow a Student-t distribution in this setting, the values of K obtained using the t-distribution will always be slightly larger than 1.96. Thus, the coverage will be slightly higher when using the t-distribution to calculate K compared to when using the normal distribution. Using a slightly larger value of K helps compensate for several possible factors that could lead to the Z-scores being slightly heavier-tailed than predicted by a normal distribution. As the sample size grows, the values of K obtained from the normal and t-distributions will become very similar. The distinction between using these two approaches is therefore mainly relevant when the sample size is smaller than around 50.\n",
    "\n",
    "## Alternative procedures for challenging situations\n",
    "There are a few ways to reduce the risk that strong non-normality will lead to confidence intervals with poor performance. In order to provide some exposure to the types of procedures that statisticians use to conduct inference in challenging situations, we discuss two of these approaches next.\n",
    "\n",
    "When working with the sample proportions, it is common to add two extra “successes” and two extra “failures” to the data before calculating the proportion. Thus, if we observe 5 successes and 7 failures, instead of estimating the success rate as 5 / (5 + 7), we estimate it as 7 / (7 + 9). The standard error is also estimated using this adjustment. The resulting confidence interval generally has better coverage properties than the usual CI when the sample size is small. This interval is often called the “Agresti-Coull” interval, after its inventors.\n",
    "\n",
    "When working with strongly skewed data, another practical technique for improving the coverage properties of intervals is to transform the data with a skew-reducing transformation, e.g. a log transformation, then calculate the interval in the usual way (as described above) using the transformed data. The resulting interval can be transformed back to the original scale by applying the inverse transformation to the LCB and UCB. For example, if the transformation is the natural logarithm, the inverse transformation would be to exponentiate (anti-log) the LCB and UCB.\n",
    "\n",
    "## Conclusion\n",
    "In summary, although normality of the data can play a role in determining the coverage properties of a confidence interval, it is generally not a major factor unless the sample size is quite small (much smaller than 50), or if the data are strongly non-normal. In most cases, other factors besides Gaussianity of the individual data values are more likely to give rise to sub-optimal coverage. Two such factors that can cause major problems with CI coverage probabilities are clustering or other forms of dependence in the data, and overt or hidden pre-testing or multiplicity in the analysis. Clustering will be discussed extensively in Course 3. We will discuss multiplicity in Week 3 of this course."
   ]
  },
  {
   "cell_type": "markdown",
   "metadata": {},
   "source": [
    "# What Affects the Standard Error of an Estimate?\n",
    "\n",
    "Thus far in the specialization, we have been emphasizing the importance of the standard error of a statistical estimate for making inference about the parameter being estimated. Recall from Week 4 of the first course of this specialization that this quantity provides us with an estimate of the standard deviation of the sampling distribution of estimates that would arise if we had drawn repeated samples of the same size and computed the same estimate for each random sample. In a simplified sense, the standard error gives us a sense of the uncertainty associated with our estimate. Estimates with smaller standard errors are thus consider more precise.\n",
    "\n",
    "So what exactly impacts a standard error in terms of a study design? Below is a list of design features that would generally affect the standard error of an estimate. There is clearly a cost component associated with this list, as some of the design features would certainly require more financial resources.\n",
    "\n",
    "1) __The variance of the variables of interest that are used to compute the estimate.__\n",
    "In general, the more variability that is associated with a given variable being measured, the more imprecise estimates based on that variable will be. This makes careful and precise measurement of the variables of interest very important for any given study.\n",
    "\n",
    "2) __The size of the sample.__\n",
    "Larger samples will tend to produce sampling distributions with less variability (or, in other words, estimates with smaller standard errors). The more sample that can be measured, the better, but we also have to think carefully about the first point above. Just because we have a set of “big data” does not mean that we have a collection of precise measurements. Very unusual measures (outliers) could have strong influence on the variance of a given variable, and this requires careful descriptive assessment.\n",
    "\n",
    "3) __The amount of dependence in the observations collected, possibly due to cluster sampling.__\n",
    "In studies were clusters of units with similar characteristics are measured, the data collected will not be entirely independent with a given cluster (neighborhood, clinic, school, etc.). This is because units coming from the same cluster will generally have similar values on the variables of interest, and this could happen for a variety of reasons. This lack of independence in the observations collected reduces our effective sample size; we don’t have as much unique information as the size of our sample would suggest. We can account for this dependence within clusters by using specialized statistical procedures to estimate standard errors in a way that accounts for cluster sampling. The same problem arises in longitudinal studies, where we collect repeated measurements from the same individuals over time. While it may look like we have a large sample of observations, many of these observations will be strongly correlated with each other, and we need to account for this. In general, with these types of clustered data, standard errors will tend to be much larger, because the estimates computed across different studies will entirely depend on what clusters are under study. If the clusters tend to vary substantially in terms of the measures of interest, the variability of the sampling distribution will increase! Furthermore, the larger the sample size selected from each cluster (and thus the smaller the sample of clusters), the larger the standard errors will tend to be.\n",
    "\n",
    "4) __The stratification of the target sample.__\n",
    "If we select a stratified sample from a target population (see Week 4 of Course 1), we will tend to produce estimates with increased precision, because we are removing between-stratum variance from the variability of our estimates by design! Stratification of samples is always an important consideration, for this reason.\n",
    "\n",
    "5) __The use of sampling weights to compute our estimates.__\n",
    "While sampling weights are often necessary to compute unbiased population estimates, the use of weights in estimation can inflate the variance of our estimates. We can use specialized statistical procedures to make sure that our standard errors reflect the uncertainty in our estimates due to weighting. In general, the higher the variability in our weights, the more variable our estimates will be.\n",
    "\n",
    "These five features are generally the main drivers of standard errors, but other design features may also ultimately affect standard errors (e.g., imputation of missing data). We will touch on these throughout the specialization."
   ]
  },
  {
   "cell_type": "code",
   "execution_count": null,
   "metadata": {},
   "outputs": [],
   "source": []
  }
 ],
 "metadata": {
  "kernelspec": {
   "display_name": "Python 3",
   "language": "python",
   "name": "python3"
  },
  "language_info": {
   "codemirror_mode": {
    "name": "ipython",
    "version": 3
   },
   "file_extension": ".py",
   "mimetype": "text/x-python",
   "name": "python",
   "nbconvert_exporter": "python",
   "pygments_lexer": "ipython3",
   "version": "3.6.8"
  }
 },
 "nbformat": 4,
 "nbformat_minor": 2
}
