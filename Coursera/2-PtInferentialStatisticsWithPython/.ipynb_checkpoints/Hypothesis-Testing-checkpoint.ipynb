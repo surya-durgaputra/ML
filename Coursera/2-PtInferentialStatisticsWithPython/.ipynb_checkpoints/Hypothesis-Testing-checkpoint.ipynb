{
 "cells": [
  {
   "cell_type": "markdown",
   "metadata": {},
   "source": [
    "$\\alpha$ = significance level\n",
    "\n",
    "$\\alpha$ represents __Type 1 Error__: _Reject Null when null is true_\n",
    "\n",
    "$\\beta$ represents __Type 2 Error__: _Do not reject Null when alternative is true_\n",
    "\n",
    "If we set the $\\alpha$ at 0.05, then if the probability of our data (p-value) is 0.05 or less, we will reject the null hypothesis.\n",
    "\n",
    "\n",
    "#### <font color=red> Decision Rule: Select $\\alpha$ upfront\n",
    "#### <font color=red> Decision Rule: Reject the Null if p-value $\\leq \\alpha$"
   ]
  },
  {
   "cell_type": "markdown",
   "metadata": {},
   "source": [
    "# Hypothesis Testing"
   ]
  },
  {
   "cell_type": "markdown",
   "metadata": {},
   "source": [
    "## Research Question\n",
    "\n",
    " __In previous years 52 percent of parents believed that electronics and social media was the cause of their teenagers lack of sleep. Do more parents today believe that their teenagers lack of sleep is caused due to electronics and social media?__"
   ]
  },
  {
   "cell_type": "markdown",
   "metadata": {},
   "source": [
    "### Hypothesis test setup\n",
    "\n",
    "So, with this background, we first want to define what our parameter of interest is and our population. So, we have a population of parents with a teenager and that's ages 13 to 18, and our parameter of interest here is going to be __p__. \n",
    "\n",
    "__p__ is the population proportion of parents with a teenager who believe that electronics and social media is the cause of their teen's lack of sleep.\n",
    "\n",
    "our null hypothesis (current belief) is:\n",
    "$$ p_0= 0.52$$\n",
    "\n",
    "our alternate hypothesis is:\n",
    "$$ p_a> 0.52$$\n",
    "\n",
    "We can also write the same thing as:\n",
    "$$H_0: p=0.52$$\n",
    "$$H_a: p>0.52$$\n",
    "\n",
    "Note, our alternate hypothesis could be less than greater than or not equal to. We chose our alternative will be greater than and the reasoning for that is that the question asked was that \"Do more parents believe\", and so that means we're looking for if p is we're actually going to be greater than 0.52.\n",
    "\n",
    "Finally, we want to set a $\\alpha$ or a significance level which typically this is 0.05. This is basically the cut-off point of when we've found something to be significant."
   ]
  },
  {
   "cell_type": "markdown",
   "metadata": {},
   "source": [
    "<h4 align=\"center\"><font color=\"red\">gathering the data and setting up hypothesis</font></h4>\n",
    "Now, we go out and collect our data. \n",
    "\n",
    "So, the Mott poll came back and said that a random sample of 1,018 parents with the teenager was taken and 56 percent said they believe electronics and social media was the cause of their teenager's lack of sleep. \n",
    "\n",
    "Before we go any further with this, we first need to check some assumptions. \n",
    "- the first assumption we need to check is we need a random sample of parents\n",
    "- the second one that will be checking is if our sample size is large enough\n",
    "\n",
    "These ensure that our sample proportions come from a normal distribution. \n",
    "\n",
    "How we check a __large enough sample size__ is we want to see if $n \\dot p$ is at least 10, and $n \\dot (1-p)$ is at least 10.  So, it's like were there at least 10 people that said yes, and were there at least 10 people that said no to the question. \n",
    "\n",
    " __Of course we don't know what p is exactly__. \n",
    " \n",
    " So, instead of using $p$ we're going to use a pseudo p, which is $p_0$ and that is the null population proportion. So, under the null hypothesis, we believe our population proportion to be this, which for our case is 0.52 and our n again was 1,018.\n",
    " \n",
    "So now, we check these assumptions:\n",
    "- our random sample in our problem statement was given to us so we've got a nice check there\n",
    "- $n \\dot p_0$ = 529 which is lot bigger than 10\n",
    "- $n \\dot (1-p_0)$ = 489 which is lot bigger than 10\n",
    "\n",
    "__So now, we've set up our hypotheses, we've checked our assumptions, and now we can go on to actually running the tests and seeing if we have significant results or not.__"
   ]
  },
  {
   "cell_type": "markdown",
   "metadata": {},
   "source": [
    "<h4 align=\"center\"><font color=\"red\">lets do the hypothesis test</font></h4>\n",
    "$$H_0: p=0.52$$\n",
    "$$H_a: p>0.52$$\n",
    "\n",
    "$$\\alpha=0.05$$\n",
    "Sample size of the poll, $n=1018$\n",
    "\n",
    "From the poll we conducted of 1018, __Best Estimate of $p$ is $\\hat{p} = 0.56$__\n",
    "\n",
    "Where $p$ is the population proportion of parents with a teenager who believe that electronics and social media is the cause of their teenager's lack of sleep\n",
    "\n",
    "we now calculate the test statistic:\n",
    "$$Test Statistic = \\frac{Best \\ estimate - Hypothesized \\ estimate}{Standard \\ error \\ of \\ estimate}$$\n",
    "\n",
    "$$Best \\ estimate = \\hat{p}=0.56$$ \n",
    "$$Hypothesized \\ estimate = p_0=0.52$$\n",
    "\n",
    "$$ standard \\ error$$"
   ]
  },
  {
   "cell_type": "code",
   "execution_count": null,
   "metadata": {},
   "outputs": [],
   "source": []
  }
 ],
 "metadata": {
  "kernelspec": {
   "display_name": "Python 3",
   "language": "python",
   "name": "python3"
  },
  "language_info": {
   "codemirror_mode": {
    "name": "ipython",
    "version": 3
   },
   "file_extension": ".py",
   "mimetype": "text/x-python",
   "name": "python",
   "nbconvert_exporter": "python",
   "pygments_lexer": "ipython3",
   "version": "3.7.1"
  }
 },
 "nbformat": 4,
 "nbformat_minor": 2
}
