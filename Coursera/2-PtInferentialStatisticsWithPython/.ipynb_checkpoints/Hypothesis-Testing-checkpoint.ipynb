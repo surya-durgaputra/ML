{
 "cells": [
  {
   "cell_type": "markdown",
   "metadata": {},
   "source": [
    "$\\alpha$ = significance level\n",
    "\n",
    "$\\alpha$ represents __Type 1 Error__: _Reject Null when null is true_\n",
    "\n",
    "$\\beta$ represents __Type 2 Error__: _Do not reject Null when alternative is true_\n",
    "\n",
    "If we set the $\\alpha$ at 0.05, then if the probability of our result is 0.05 or less, we will reject the null hypothesis."
   ]
  },
  {
   "cell_type": "code",
   "execution_count": null,
   "metadata": {},
   "outputs": [],
   "source": []
  }
 ],
 "metadata": {
  "kernelspec": {
   "display_name": "Python 3",
   "language": "python",
   "name": "python3"
  },
  "language_info": {
   "codemirror_mode": {
    "name": "ipython",
    "version": 3
   },
   "file_extension": ".py",
   "mimetype": "text/x-python",
   "name": "python",
   "nbconvert_exporter": "python",
   "pygments_lexer": "ipython3",
   "version": "3.6.8"
  }
 },
 "nbformat": 4,
 "nbformat_minor": 2
}
