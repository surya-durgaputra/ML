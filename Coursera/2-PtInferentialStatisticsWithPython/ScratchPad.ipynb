{
 "cells": [
  {
   "cell_type": "code",
   "execution_count": 1,
   "metadata": {},
   "outputs": [],
   "source": [
    "import numpy as np\n",
    "import pandas as pd\n",
    "import matplotlib.pyplot as plt\n",
    "import statsmodels.api as sm"
   ]
  },
  {
   "cell_type": "code",
   "execution_count": 2,
   "metadata": {},
   "outputs": [
    {
     "data": {
      "text/plain": [
       "2    3406\n",
       "1    2319\n",
       "9       8\n",
       "7       2\n",
       "Name: SMQ020, dtype: int64"
      ]
     },
     "execution_count": 2,
     "metadata": {},
     "output_type": "execute_result"
    }
   ],
   "source": [
    "df = pd.read_csv('data/nhanes_2015_2016.csv')\n",
    "df.SMQ020.value_counts()"
   ]
  },
  {
   "cell_type": "code",
   "execution_count": 3,
   "metadata": {},
   "outputs": [
    {
     "data": {
      "text/plain": [
       "No     3406\n",
       "Yes    2319\n",
       "Name: SMQ020x, dtype: int64"
      ]
     },
     "execution_count": 3,
     "metadata": {},
     "output_type": "execute_result"
    }
   ],
   "source": [
    "df['SMQ020x'] = df.SMQ020.replace({1:\"Yes\",2:\"No\",7:np.nan,9:np.nan})\n",
    "df.SMQ020x.value_counts()"
   ]
  },
  {
   "cell_type": "code",
   "execution_count": 4,
   "metadata": {},
   "outputs": [],
   "source": [
    "df[\"RIAGENDRx\"] = df.RIAGENDR.replace({1: \"Male\", 2: \"Female\"})\n",
    "ctab = pd.crosstab(index=df['RIAGENDRx'],columns=df['SMQ020x'])"
   ]
  },
  {
   "cell_type": "code",
   "execution_count": 5,
   "metadata": {},
   "outputs": [
    {
     "data": {
      "text/html": [
       "<div>\n",
       "<style scoped>\n",
       "    .dataframe tbody tr th:only-of-type {\n",
       "        vertical-align: middle;\n",
       "    }\n",
       "\n",
       "    .dataframe tbody tr th {\n",
       "        vertical-align: top;\n",
       "    }\n",
       "\n",
       "    .dataframe thead tr th {\n",
       "        text-align: left;\n",
       "    }\n",
       "\n",
       "    .dataframe thead tr:last-of-type th {\n",
       "        text-align: right;\n",
       "    }\n",
       "</style>\n",
       "<table border=\"1\" class=\"dataframe\">\n",
       "  <thead>\n",
       "    <tr>\n",
       "      <th></th>\n",
       "      <th colspan=\"2\" halign=\"left\">SMQ020xx</th>\n",
       "    </tr>\n",
       "    <tr>\n",
       "      <th></th>\n",
       "      <th>mean</th>\n",
       "      <th>count</th>\n",
       "    </tr>\n",
       "    <tr>\n",
       "      <th>RIAGENDRx</th>\n",
       "      <th></th>\n",
       "      <th></th>\n",
       "    </tr>\n",
       "  </thead>\n",
       "  <tbody>\n",
       "    <tr>\n",
       "      <th>Female</th>\n",
       "      <td>0.304845</td>\n",
       "      <td>2972</td>\n",
       "    </tr>\n",
       "    <tr>\n",
       "      <th>Male</th>\n",
       "      <td>0.513258</td>\n",
       "      <td>2753</td>\n",
       "    </tr>\n",
       "  </tbody>\n",
       "</table>\n",
       "</div>"
      ],
      "text/plain": [
       "           SMQ020xx      \n",
       "               mean count\n",
       "RIAGENDRx                \n",
       "Female     0.304845  2972\n",
       "Male       0.513258  2753"
      ]
     },
     "execution_count": 5,
     "metadata": {},
     "output_type": "execute_result"
    }
   ],
   "source": [
    "# lets compute the stats for female smokers\n",
    "# proportion of females that are smokers\n",
    "df['SMQ020xx'] = df['SMQ020x'].replace({\"Yes\":1,\"No\":0})\n",
    "dx = df.groupby(['RIAGENDRx']).agg({'SMQ020xx':[np.mean,'count']})\n",
    "dx"
   ]
  },
  {
   "cell_type": "code",
   "execution_count": 6,
   "metadata": {},
   "outputs": [
    {
     "data": {
      "text/html": [
       "<div>\n",
       "<style scoped>\n",
       "    .dataframe tbody tr th:only-of-type {\n",
       "        vertical-align: middle;\n",
       "    }\n",
       "\n",
       "    .dataframe tbody tr th {\n",
       "        vertical-align: top;\n",
       "    }\n",
       "\n",
       "    .dataframe thead th {\n",
       "        text-align: right;\n",
       "    }\n",
       "</style>\n",
       "<table border=\"1\" class=\"dataframe\">\n",
       "  <thead>\n",
       "    <tr style=\"text-align: right;\">\n",
       "      <th>RIAGENDRx</th>\n",
       "      <th>Female</th>\n",
       "      <th>Male</th>\n",
       "    </tr>\n",
       "    <tr>\n",
       "      <th>agegrp</th>\n",
       "      <th></th>\n",
       "      <th></th>\n",
       "    </tr>\n",
       "  </thead>\n",
       "  <tbody>\n",
       "    <tr>\n",
       "      <th>(18, 30]</th>\n",
       "      <td>0.226974</td>\n",
       "      <td>0.349265</td>\n",
       "    </tr>\n",
       "    <tr>\n",
       "      <th>(30, 40]</th>\n",
       "      <td>0.287526</td>\n",
       "      <td>0.503282</td>\n",
       "    </tr>\n",
       "    <tr>\n",
       "      <th>(40, 50]</th>\n",
       "      <td>0.268924</td>\n",
       "      <td>0.448878</td>\n",
       "    </tr>\n",
       "    <tr>\n",
       "      <th>(50, 60]</th>\n",
       "      <td>0.422175</td>\n",
       "      <td>0.572687</td>\n",
       "    </tr>\n",
       "    <tr>\n",
       "      <th>(60, 70]</th>\n",
       "      <td>0.374150</td>\n",
       "      <td>0.655963</td>\n",
       "    </tr>\n",
       "    <tr>\n",
       "      <th>(70, 80]</th>\n",
       "      <td>0.325183</td>\n",
       "      <td>0.655779</td>\n",
       "    </tr>\n",
       "  </tbody>\n",
       "</table>\n",
       "</div>"
      ],
      "text/plain": [
       "RIAGENDRx    Female      Male\n",
       "agegrp                       \n",
       "(18, 30]   0.226974  0.349265\n",
       "(30, 40]   0.287526  0.503282\n",
       "(40, 50]   0.268924  0.448878\n",
       "(50, 60]   0.422175  0.572687\n",
       "(60, 70]   0.374150  0.655963\n",
       "(70, 80]   0.325183  0.655779"
      ]
     },
     "execution_count": 6,
     "metadata": {},
     "output_type": "execute_result"
    }
   ],
   "source": [
    "df = df[~pd.isnull(df[\"SMQ020x\"])]\n",
    "df[\"agegrp\"] = pd.cut(df.RIDAGEYR, [18, 30, 40, 50, 60, 70, 80])\n",
    "dz = df.groupby(['agegrp','RIAGENDRx']).agg({'SMQ020x':[lambda x: np.mean(x=='Yes')]})\n",
    "dz.columns = dz.columns.droplevel(level=0)\n",
    "dz = dz.rename(columns={'<lambda>':'proportions'})\n",
    "dz1 = dz.unstack()\n",
    "dz1.columns = dz1.columns.droplevel(level=0)\n",
    "dz1"
   ]
  },
  {
   "cell_type": "code",
   "execution_count": 7,
   "metadata": {},
   "outputs": [
    {
     "data": {
      "text/html": [
       "<div>\n",
       "<style scoped>\n",
       "    .dataframe tbody tr th:only-of-type {\n",
       "        vertical-align: middle;\n",
       "    }\n",
       "\n",
       "    .dataframe tbody tr th {\n",
       "        vertical-align: top;\n",
       "    }\n",
       "\n",
       "    .dataframe thead th {\n",
       "        text-align: right;\n",
       "    }\n",
       "</style>\n",
       "<table border=\"1\" class=\"dataframe\">\n",
       "  <thead>\n",
       "    <tr style=\"text-align: right;\">\n",
       "      <th>RIAGENDRx</th>\n",
       "      <th>Female</th>\n",
       "      <th>Male</th>\n",
       "    </tr>\n",
       "    <tr>\n",
       "      <th>agegrp</th>\n",
       "      <th></th>\n",
       "      <th></th>\n",
       "    </tr>\n",
       "  </thead>\n",
       "  <tbody>\n",
       "    <tr>\n",
       "      <th>(18, 30]</th>\n",
       "      <td>608</td>\n",
       "      <td>544</td>\n",
       "    </tr>\n",
       "    <tr>\n",
       "      <th>(30, 40]</th>\n",
       "      <td>473</td>\n",
       "      <td>457</td>\n",
       "    </tr>\n",
       "    <tr>\n",
       "      <th>(40, 50]</th>\n",
       "      <td>502</td>\n",
       "      <td>401</td>\n",
       "    </tr>\n",
       "    <tr>\n",
       "      <th>(50, 60]</th>\n",
       "      <td>469</td>\n",
       "      <td>454</td>\n",
       "    </tr>\n",
       "    <tr>\n",
       "      <th>(60, 70]</th>\n",
       "      <td>441</td>\n",
       "      <td>436</td>\n",
       "    </tr>\n",
       "    <tr>\n",
       "      <th>(70, 80]</th>\n",
       "      <td>409</td>\n",
       "      <td>398</td>\n",
       "    </tr>\n",
       "  </tbody>\n",
       "</table>\n",
       "</div>"
      ],
      "text/plain": [
       "RIAGENDRx  Female  Male\n",
       "agegrp                 \n",
       "(18, 30]      608   544\n",
       "(30, 40]      473   457\n",
       "(40, 50]      502   401\n",
       "(50, 60]      469   454\n",
       "(60, 70]      441   436\n",
       "(70, 80]      409   398"
      ]
     },
     "execution_count": 7,
     "metadata": {},
     "output_type": "execute_result"
    }
   ],
   "source": [
    "dc = df.groupby(['agegrp','RIAGENDRx']).agg({'SMQ020x':'count'})\n",
    "dc = dc.unstack()\n",
    "dc.columns = dc.columns.droplevel(level=0)\n",
    "dc"
   ]
  },
  {
   "cell_type": "code",
   "execution_count": 8,
   "metadata": {},
   "outputs": [
    {
     "data": {
      "text/html": [
       "<div>\n",
       "<style scoped>\n",
       "    .dataframe tbody tr th:only-of-type {\n",
       "        vertical-align: middle;\n",
       "    }\n",
       "\n",
       "    .dataframe tbody tr th {\n",
       "        vertical-align: top;\n",
       "    }\n",
       "\n",
       "    .dataframe thead th {\n",
       "        text-align: right;\n",
       "    }\n",
       "</style>\n",
       "<table border=\"1\" class=\"dataframe\">\n",
       "  <thead>\n",
       "    <tr style=\"text-align: right;\">\n",
       "      <th>RIAGENDRx</th>\n",
       "      <th>Female</th>\n",
       "      <th>Male</th>\n",
       "    </tr>\n",
       "    <tr>\n",
       "      <th>agegrp</th>\n",
       "      <th></th>\n",
       "      <th></th>\n",
       "    </tr>\n",
       "  </thead>\n",
       "  <tbody>\n",
       "    <tr>\n",
       "      <th>(18, 30]</th>\n",
       "      <td>0.016988</td>\n",
       "      <td>0.020440</td>\n",
       "    </tr>\n",
       "    <tr>\n",
       "      <th>(30, 40]</th>\n",
       "      <td>0.020811</td>\n",
       "      <td>0.023389</td>\n",
       "    </tr>\n",
       "    <tr>\n",
       "      <th>(40, 50]</th>\n",
       "      <td>0.019790</td>\n",
       "      <td>0.024838</td>\n",
       "    </tr>\n",
       "    <tr>\n",
       "      <th>(50, 60]</th>\n",
       "      <td>0.022806</td>\n",
       "      <td>0.023217</td>\n",
       "    </tr>\n",
       "    <tr>\n",
       "      <th>(60, 70]</th>\n",
       "      <td>0.023043</td>\n",
       "      <td>0.022751</td>\n",
       "    </tr>\n",
       "    <tr>\n",
       "      <th>(70, 80]</th>\n",
       "      <td>0.023163</td>\n",
       "      <td>0.023815</td>\n",
       "    </tr>\n",
       "  </tbody>\n",
       "</table>\n",
       "</div>"
      ],
      "text/plain": [
       "RIAGENDRx    Female      Male\n",
       "agegrp                       \n",
       "(18, 30]   0.016988  0.020440\n",
       "(30, 40]   0.020811  0.023389\n",
       "(40, 50]   0.019790  0.024838\n",
       "(50, 60]   0.022806  0.023217\n",
       "(60, 70]   0.023043  0.022751\n",
       "(70, 80]   0.023163  0.023815"
      ]
     },
     "execution_count": 8,
     "metadata": {},
     "output_type": "execute_result"
    }
   ],
   "source": [
    "dstd = np.sqrt(dz1*(1-dz1)/dc)\n",
    "dstd"
   ]
  },
  {
   "cell_type": "code",
   "execution_count": 9,
   "metadata": {},
   "outputs": [
    {
     "data": {
      "text/plain": [
       "agegrp\n",
       "(18, 30]    0.026578\n",
       "(30, 40]    0.031307\n",
       "(40, 50]    0.031758\n",
       "(50, 60]    0.032545\n",
       "(60, 70]    0.032382\n",
       "(70, 80]    0.033222\n",
       "dtype: float64"
      ]
     },
     "execution_count": 9,
     "metadata": {},
     "output_type": "execute_result"
    }
   ],
   "source": [
    "dstd_diff = np.sqrt(dstd.Female**2 + dstd.Male**2)\n",
    "dstd_diff"
   ]
  },
  {
   "cell_type": "code",
   "execution_count": 18,
   "metadata": {},
   "outputs": [],
   "source": [
    "# Calculate the mean, SD, and sample size for BMI within age/gender groups\n",
    "da = df\n",
    "da[\"agegrp\"] = pd.cut(da.RIDAGEYR, [18, 30, 40, 50, 60, 70, 80])\n",
    "pr = da.groupby([\"agegrp\", \"RIAGENDRx\"]).agg({\"BMXBMI\": [np.mean, np.std, np.size]}).unstack()"
   ]
  },
  {
   "cell_type": "code",
   "execution_count": 19,
   "metadata": {},
   "outputs": [
    {
     "data": {
      "text/html": [
       "<div>\n",
       "<style scoped>\n",
       "    .dataframe tbody tr th:only-of-type {\n",
       "        vertical-align: middle;\n",
       "    }\n",
       "\n",
       "    .dataframe tbody tr th {\n",
       "        vertical-align: top;\n",
       "    }\n",
       "\n",
       "    .dataframe thead tr th {\n",
       "        text-align: left;\n",
       "    }\n",
       "\n",
       "    .dataframe thead tr:last-of-type th {\n",
       "        text-align: right;\n",
       "    }\n",
       "</style>\n",
       "<table border=\"1\" class=\"dataframe\">\n",
       "  <thead>\n",
       "    <tr>\n",
       "      <th></th>\n",
       "      <th colspan=\"6\" halign=\"left\">BMXBMI</th>\n",
       "    </tr>\n",
       "    <tr>\n",
       "      <th></th>\n",
       "      <th colspan=\"2\" halign=\"left\">mean</th>\n",
       "      <th colspan=\"2\" halign=\"left\">std</th>\n",
       "      <th colspan=\"2\" halign=\"left\">size</th>\n",
       "    </tr>\n",
       "    <tr>\n",
       "      <th>RIAGENDRx</th>\n",
       "      <th>Female</th>\n",
       "      <th>Male</th>\n",
       "      <th>Female</th>\n",
       "      <th>Male</th>\n",
       "      <th>Female</th>\n",
       "      <th>Male</th>\n",
       "    </tr>\n",
       "    <tr>\n",
       "      <th>agegrp</th>\n",
       "      <th></th>\n",
       "      <th></th>\n",
       "      <th></th>\n",
       "      <th></th>\n",
       "      <th></th>\n",
       "      <th></th>\n",
       "    </tr>\n",
       "  </thead>\n",
       "  <tbody>\n",
       "    <tr>\n",
       "      <th>(18, 30]</th>\n",
       "      <td>28.126910</td>\n",
       "      <td>27.391822</td>\n",
       "      <td>7.751977</td>\n",
       "      <td>6.649440</td>\n",
       "      <td>608.0</td>\n",
       "      <td>544.0</td>\n",
       "    </tr>\n",
       "    <tr>\n",
       "      <th>(30, 40]</th>\n",
       "      <td>30.347009</td>\n",
       "      <td>29.631929</td>\n",
       "      <td>8.311542</td>\n",
       "      <td>6.615806</td>\n",
       "      <td>473.0</td>\n",
       "      <td>457.0</td>\n",
       "    </tr>\n",
       "    <tr>\n",
       "      <th>(40, 50]</th>\n",
       "      <td>31.160643</td>\n",
       "      <td>29.724623</td>\n",
       "      <td>8.076195</td>\n",
       "      <td>6.407076</td>\n",
       "      <td>502.0</td>\n",
       "      <td>401.0</td>\n",
       "    </tr>\n",
       "    <tr>\n",
       "      <th>(50, 60]</th>\n",
       "      <td>30.752473</td>\n",
       "      <td>29.231486</td>\n",
       "      <td>7.581679</td>\n",
       "      <td>5.914373</td>\n",
       "      <td>469.0</td>\n",
       "      <td>454.0</td>\n",
       "    </tr>\n",
       "    <tr>\n",
       "      <th>(60, 70]</th>\n",
       "      <td>31.074828</td>\n",
       "      <td>29.368471</td>\n",
       "      <td>7.604514</td>\n",
       "      <td>5.919531</td>\n",
       "      <td>441.0</td>\n",
       "      <td>436.0</td>\n",
       "    </tr>\n",
       "    <tr>\n",
       "      <th>(70, 80]</th>\n",
       "      <td>29.121642</td>\n",
       "      <td>27.931865</td>\n",
       "      <td>6.283978</td>\n",
       "      <td>4.985881</td>\n",
       "      <td>409.0</td>\n",
       "      <td>398.0</td>\n",
       "    </tr>\n",
       "  </tbody>\n",
       "</table>\n",
       "</div>"
      ],
      "text/plain": [
       "              BMXBMI                                             \n",
       "                mean                  std             size       \n",
       "RIAGENDRx     Female       Male    Female      Male Female   Male\n",
       "agegrp                                                           \n",
       "(18, 30]   28.126910  27.391822  7.751977  6.649440  608.0  544.0\n",
       "(30, 40]   30.347009  29.631929  8.311542  6.615806  473.0  457.0\n",
       "(40, 50]   31.160643  29.724623  8.076195  6.407076  502.0  401.0\n",
       "(50, 60]   30.752473  29.231486  7.581679  5.914373  469.0  454.0\n",
       "(60, 70]   31.074828  29.368471  7.604514  5.919531  441.0  436.0\n",
       "(70, 80]   29.121642  27.931865  6.283978  4.985881  409.0  398.0"
      ]
     },
     "execution_count": 19,
     "metadata": {},
     "output_type": "execute_result"
    }
   ],
   "source": [
    "pr"
   ]
  },
  {
   "cell_type": "code",
   "execution_count": 48,
   "metadata": {},
   "outputs": [],
   "source": [
    "pr[\"BMXBMI\",\"sem\",\"Female\"] = pr[\"BMXBMI\",\"std\",\"Female\"]/np.sqrt(pr[\"BMXBMI\",\"size\",\"Female\"])\n",
    "pr[\"BMXBMI\",\"sem\",\"Male\"] = pr[\"BMXBMI\",\"std\",\"Male\"]/np.sqrt(pr[\"BMXBMI\",\"size\",\"Male\"])\n",
    "pr[\"BMXBMI\",\"sem_diff\",\"\"] = np.sqrt(pr[\"BMXBMI\",\"sem\",\"Female\"]**2 + pr[\"BMXBMI\",\"sem\",\"Male\"]**2)\n",
    "pr[\"BMXBMI\",\"mean_diff\",\"\"] = pr[\"BMXBMI\",\"mean\",\"Female\"] - pr[\"BMXBMI\",\"mean\",\"Male\"]\n",
    "pr[\"BMXBMI\",\"lcb\",\"\"] = pr[\"BMXBMI\",\"mean_diff\",\"\"] - 1.96*pr[\"BMXBMI\",\"sem_diff\",\"\"]\n",
    "pr[\"BMXBMI\",\"ucb\",\"\"] = pr[\"BMXBMI\",\"mean_diff\",\"\"] + 1.96*pr[\"BMXBMI\",\"sem_diff\",\"\"]"
   ]
  },
  {
   "cell_type": "code",
   "execution_count": 49,
   "metadata": {},
   "outputs": [
    {
     "name": "stdout",
     "output_type": "stream",
     "text": [
      "6\n"
     ]
    },
    {
     "data": {
      "text/html": [
       "<div>\n",
       "<style scoped>\n",
       "    .dataframe tbody tr th:only-of-type {\n",
       "        vertical-align: middle;\n",
       "    }\n",
       "\n",
       "    .dataframe tbody tr th {\n",
       "        vertical-align: top;\n",
       "    }\n",
       "\n",
       "    .dataframe thead tr th {\n",
       "        text-align: left;\n",
       "    }\n",
       "\n",
       "    .dataframe thead tr:last-of-type th {\n",
       "        text-align: right;\n",
       "    }\n",
       "</style>\n",
       "<table border=\"1\" class=\"dataframe\">\n",
       "  <thead>\n",
       "    <tr>\n",
       "      <th></th>\n",
       "      <th colspan=\"12\" halign=\"left\">BMXBMI</th>\n",
       "    </tr>\n",
       "    <tr>\n",
       "      <th></th>\n",
       "      <th colspan=\"2\" halign=\"left\">mean</th>\n",
       "      <th colspan=\"2\" halign=\"left\">std</th>\n",
       "      <th colspan=\"2\" halign=\"left\">size</th>\n",
       "      <th colspan=\"2\" halign=\"left\">sem</th>\n",
       "      <th>mean_diff</th>\n",
       "      <th>sem_diff</th>\n",
       "      <th>lcb</th>\n",
       "      <th>ucb</th>\n",
       "    </tr>\n",
       "    <tr>\n",
       "      <th>RIAGENDRx</th>\n",
       "      <th>Female</th>\n",
       "      <th>Male</th>\n",
       "      <th>Female</th>\n",
       "      <th>Male</th>\n",
       "      <th>Female</th>\n",
       "      <th>Male</th>\n",
       "      <th>Female</th>\n",
       "      <th>Male</th>\n",
       "      <th></th>\n",
       "      <th></th>\n",
       "      <th></th>\n",
       "      <th></th>\n",
       "    </tr>\n",
       "    <tr>\n",
       "      <th>agegrp</th>\n",
       "      <th></th>\n",
       "      <th></th>\n",
       "      <th></th>\n",
       "      <th></th>\n",
       "      <th></th>\n",
       "      <th></th>\n",
       "      <th></th>\n",
       "      <th></th>\n",
       "      <th></th>\n",
       "      <th></th>\n",
       "      <th></th>\n",
       "      <th></th>\n",
       "    </tr>\n",
       "  </thead>\n",
       "  <tbody>\n",
       "    <tr>\n",
       "      <th>(18, 30]</th>\n",
       "      <td>28.126910</td>\n",
       "      <td>27.391822</td>\n",
       "      <td>7.751977</td>\n",
       "      <td>6.649440</td>\n",
       "      <td>608.0</td>\n",
       "      <td>544.0</td>\n",
       "      <td>0.314384</td>\n",
       "      <td>0.285092</td>\n",
       "      <td>0.735089</td>\n",
       "      <td>0.424400</td>\n",
       "      <td>-0.096735</td>\n",
       "      <td>1.566912</td>\n",
       "    </tr>\n",
       "    <tr>\n",
       "      <th>(30, 40]</th>\n",
       "      <td>30.347009</td>\n",
       "      <td>29.631929</td>\n",
       "      <td>8.311542</td>\n",
       "      <td>6.615806</td>\n",
       "      <td>473.0</td>\n",
       "      <td>457.0</td>\n",
       "      <td>0.382165</td>\n",
       "      <td>0.309474</td>\n",
       "      <td>0.715080</td>\n",
       "      <td>0.491757</td>\n",
       "      <td>-0.248763</td>\n",
       "      <td>1.678922</td>\n",
       "    </tr>\n",
       "    <tr>\n",
       "      <th>(40, 50]</th>\n",
       "      <td>31.160643</td>\n",
       "      <td>29.724623</td>\n",
       "      <td>8.076195</td>\n",
       "      <td>6.407076</td>\n",
       "      <td>502.0</td>\n",
       "      <td>401.0</td>\n",
       "      <td>0.360458</td>\n",
       "      <td>0.319954</td>\n",
       "      <td>1.436019</td>\n",
       "      <td>0.481976</td>\n",
       "      <td>0.491347</td>\n",
       "      <td>2.380692</td>\n",
       "    </tr>\n",
       "    <tr>\n",
       "      <th>(50, 60]</th>\n",
       "      <td>30.752473</td>\n",
       "      <td>29.231486</td>\n",
       "      <td>7.581679</td>\n",
       "      <td>5.914373</td>\n",
       "      <td>469.0</td>\n",
       "      <td>454.0</td>\n",
       "      <td>0.350089</td>\n",
       "      <td>0.277575</td>\n",
       "      <td>1.520988</td>\n",
       "      <td>0.446778</td>\n",
       "      <td>0.645303</td>\n",
       "      <td>2.396672</td>\n",
       "    </tr>\n",
       "    <tr>\n",
       "      <th>(60, 70]</th>\n",
       "      <td>31.074828</td>\n",
       "      <td>29.368471</td>\n",
       "      <td>7.604514</td>\n",
       "      <td>5.919531</td>\n",
       "      <td>441.0</td>\n",
       "      <td>436.0</td>\n",
       "      <td>0.362120</td>\n",
       "      <td>0.283494</td>\n",
       "      <td>1.706358</td>\n",
       "      <td>0.459891</td>\n",
       "      <td>0.804972</td>\n",
       "      <td>2.607744</td>\n",
       "    </tr>\n",
       "    <tr>\n",
       "      <th>(70, 80]</th>\n",
       "      <td>29.121642</td>\n",
       "      <td>27.931865</td>\n",
       "      <td>6.283978</td>\n",
       "      <td>4.985881</td>\n",
       "      <td>409.0</td>\n",
       "      <td>398.0</td>\n",
       "      <td>0.310723</td>\n",
       "      <td>0.249920</td>\n",
       "      <td>1.189777</td>\n",
       "      <td>0.398759</td>\n",
       "      <td>0.408210</td>\n",
       "      <td>1.971343</td>\n",
       "    </tr>\n",
       "  </tbody>\n",
       "</table>\n",
       "</div>"
      ],
      "text/plain": [
       "              BMXBMI               ...                       \n",
       "                mean               ...          lcb       ucb\n",
       "RIAGENDRx     Female       Male    ...                       \n",
       "agegrp                             ...                       \n",
       "(18, 30]   28.126910  27.391822    ...    -0.096735  1.566912\n",
       "(30, 40]   30.347009  29.631929    ...    -0.248763  1.678922\n",
       "(40, 50]   31.160643  29.724623    ...     0.491347  2.380692\n",
       "(50, 60]   30.752473  29.231486    ...     0.645303  2.396672\n",
       "(60, 70]   31.074828  29.368471    ...     0.804972  2.607744\n",
       "(70, 80]   29.121642  27.931865    ...     0.408210  1.971343\n",
       "\n",
       "[6 rows x 12 columns]"
      ]
     },
     "execution_count": 49,
     "metadata": {},
     "output_type": "execute_result"
    }
   ],
   "source": [
    "print(pr.index.size)\n",
    "pr"
   ]
  },
  {
   "cell_type": "code",
   "execution_count": 50,
   "metadata": {},
   "outputs": [],
   "source": [
    "%matplotlib inline\n",
    "import matplotlib.pyplot as plt\n",
    "import seaborn as sns"
   ]
  },
  {
   "cell_type": "code",
   "execution_count": 51,
   "metadata": {},
   "outputs": [
    {
     "data": {
      "image/png": "[encoded data removed]",
      "text/plain": [
       "<Figure size 432x288 with 1 Axes>"
      ]
     },
     "metadata": {},
     "output_type": "display_data"
    }
   ],
   "source": [
    "x = np.arange(pr.index.size)\n",
    "pp = sns.pointplot(x=x,y=pr[\"BMXBMI\",\"mean_diff\",\"\"],color='black')\n",
    "sns.pointplot(x=x,y=pr[\"BMXBMI\",\"lcb\",\"\"])\n",
    "sns.pointplot(x=x,y=pr[\"BMXBMI\",\"ucb\",\"\"])\n",
    "\n",
    "pp.set_xticklabels(pr.index);"
   ]
  },
  {
   "cell_type": "code",
   "execution_count": 59,
   "metadata": {},
   "outputs": [
    {
     "name": "stdout",
     "output_type": "stream",
     "text": [
      "100 3.0273753858256818\n",
      "200 2.137652666009302\n",
      "300 1.7501681847972428\n",
      "400 1.521446923987007\n",
      "500 1.3579298155351154\n"
     ]
    }
   ],
   "source": [
    "dx = da.loc[da.RIAGENDRx==\"Female\",['BMXBMI']].dropna()\n",
    "all_cis = []\n",
    "for n in 100,200,300,400,500:\n",
    "    cis_sample = []\n",
    "    for _ in range(500):\n",
    "        samples = dx.sample(n)\n",
    "        cis = sm.stats.DescrStatsW(samples.BMXBMI).zconfint_mean()\n",
    "        cis_sample.append(cis)\n",
    "    cis_sample = np.asarray(cis_sample)\n",
    "    print(n,cis_sample[:,1].mean() - cis_sample[:,0].mean())\n",
    "    all_cis.append(cis_sample)"
   ]
  },
  {
   "cell_type": "code",
   "execution_count": 54,
   "metadata": {},
   "outputs": [
    {
     "data": {
      "text/plain": [
       "(29.663239914863667, 30.223902942279196)"
      ]
     },
     "execution_count": 54,
     "metadata": {},
     "output_type": "execute_result"
    }
   ],
   "source": [
    "dx = da.loc[da.RIAGENDRx==\"Female\",['BMXBMI']].dropna()\n",
    "sm.stats.DescrStatsW(dx.BMXBMI).zconfint_mean()"
   ]
  },
  {
   "cell_type": "code",
   "execution_count": 70,
   "metadata": {},
   "outputs": [
    {
     "data": {
      "text/plain": [
       "[<matplotlib.lines.Line2D at 0xe4a9eb8>]"
      ]
     },
     "execution_count": 70,
     "metadata": {},
     "output_type": "execute_result"
    },
    {
     "data": {
      "image/png": "[encoded data removed]",
      "text/plain": [
       "<Figure size 432x288 with 1 Axes>"
      ]
     },
     "metadata": {},
     "output_type": "display_data"
    }
   ],
   "source": [
    "samples = np.array(all_cis)[0]\n",
    "for index,value in enumerate(samples):\n",
    "    plt.plot([index,index],value,color='gray')\n",
    "mean = dx.BMXBMI.mean()\n",
    "plt.plot(np.arange(500),[mean]*500,color='red')"
   ]
  },
  {
   "cell_type": "code",
   "execution_count": null,
   "metadata": {},
   "outputs": [],
   "source": []
  }
 ],
 "metadata": {
  "kernelspec": {
   "display_name": "Python 3",
   "language": "python",
   "name": "python3"
  },
  "language_info": {
   "codemirror_mode": {
    "name": "ipython",
    "version": 3
   },
   "file_extension": ".py",
   "mimetype": "text/x-python",
   "name": "python",
   "nbconvert_exporter": "python",
   "pygments_lexer": "ipython3",
   "version": "3.7.1"
  }
 },
 "nbformat": 4,
 "nbformat_minor": 2
}
