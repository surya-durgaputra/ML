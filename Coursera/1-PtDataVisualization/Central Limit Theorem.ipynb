{
 "cells": [
  {
   "cell_type": "markdown",
   "metadata": {},
   "source": [
    "__Theorem 1__: The mean of the sample means = mean of the population\n",
    "\n",
    "$\\mu_{\\bar{X}} \\ = \\ \\mu$\n",
    "\n",
    "So, I can calculate the mean of my population, just by studying the samples.\n",
    "\n",
    "<font color=red> This theorem is true independent of the sample size\n",
    "    \n",
    "<font color=blue> This theorem is true independent of the kind of population distribution shape (normal, uniform, squiggly, whatever)"
   ]
  },
  {
   "cell_type": "markdown",
   "metadata": {},
   "source": [
    "__Theorem 2__: Relation between standard deviation of sample means and standard deviation of population.\n",
    "    \n",
    "$\\sigma_{\\bar{X}} \\ = \\ \\frac{\\sigma}{\\sqrt{n}}$\n",
    "\n",
    "So, I can calculate the standard deviation of my population, just by sampling data and calculating the standard deviation of the smaple means of those samples.\n",
    "\n",
    "<font color=red> __n__ is the sample size\n",
    "\n",
    "<font color=blue> This theorem is true independent of the kind of population distribution shape (normal, uniform, squiggly, whatever)"
   ]
  },
  {
   "cell_type": "markdown",
   "metadata": {},
   "source": [
    "__Theorem 3__: If population is __Normal__, then the sample means will have a __Normal Distribution__.\n",
    "\n",
    "<font color=red> This theorem is true independent of the sample size"
   ]
  },
  {
   "cell_type": "markdown",
   "metadata": {},
   "source": [
    "__Theorem 4__: If population is __NOT__ Normal, but sample size $n \\gt 30$, then Sampling Distribution of Sample Means approximates a __Normal Distribution__ <font color=red>for any population distribution shape."
   ]
  },
  {
   "cell_type": "code",
   "execution_count": null,
   "metadata": {},
   "outputs": [],
   "source": []
  }
 ],
 "metadata": {
  "kernelspec": {
   "display_name": "Python 3",
   "language": "python",
   "name": "python3"
  },
  "language_info": {
   "codemirror_mode": {
    "name": "ipython",
    "version": 3
   },
   "file_extension": ".py",
   "mimetype": "text/x-python",
   "name": "python",
   "nbconvert_exporter": "python",
   "pygments_lexer": "ipython3",
   "version": "3.6.8"
  }
 },
 "nbformat": 4,
 "nbformat_minor": 2
}
