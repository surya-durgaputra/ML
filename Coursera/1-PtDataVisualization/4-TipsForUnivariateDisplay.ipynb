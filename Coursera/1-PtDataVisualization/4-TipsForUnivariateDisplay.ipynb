{
 "cells": [
  {
   "cell_type": "markdown",
   "metadata": {},
   "source": [
    "#### Type of display mostly used:\n",
    "    1)Frequency Table\n",
    "    2)Barchart (also called histogram)\n",
    "    3)Pie-cart (not recommended)"
   ]
  },
  {
   "cell_type": "markdown",
   "metadata": {},
   "source": [
    "#### Histograms\n",
    "**_4 Main Aspects_**\n",
    "* **Shape** - Overall appearance of histogram. Can be symmetric, bell-shaped, left-skewed, right-skewed\n",
    "* **Center** - Mean or Median (usually median)\n",
    "* **Spread** - How far our data spreads. **Range**, Interquartile Range(**IQR**), standard deviation, variance.\n",
    "* **Outliers** - Data points that fall far from the bulk of the data\n",
    "\n",
    "For histograms, we will mainly talk about **Range**."
   ]
  },
  {
   "cell_type": "markdown",
   "metadata": {},
   "source": [
    "When describing data represented using a Histogram plot, it is customary to also include summary statistics. Summary statistics include mean, median, 1,3rd quartiles, standard deviation and IQR.\n",
    "IQR is Q3-Q1."
   ]
  },
  {
   "cell_type": "markdown",
   "metadata": {},
   "source": [
    "#### Empirical rule for Normal Distribution (also called 68-95-99.7 rule)\n",
    "In a Gaussian Distribution, \n",
    "* about 68% of the values are within 1 sd of the mean\n",
    "* about 95% of the values are within 2 sd of the mean\n",
    "* about 99.7% of the values are within 3 sd of the mean"
   ]
  },
  {
   "cell_type": "markdown",
   "metadata": {},
   "source": [
    "#### Z score (also called \"Standard Score\")\n",
    "$$z-score = \\frac{Observation-Mean}{\\sigma}$$\n",
    "where $\\sigma=$ standard deviation"
   ]
  },
  {
   "cell_type": "markdown",
   "metadata": {},
   "source": [
    "The z-score is a popular unitless way to describe where a particular obervation lies. "
   ]
  },
  {
   "cell_type": "markdown",
   "metadata": {},
   "source": [
    "#### Boxplot\n",
    "Box plot takes the five number summary (Min, Q1 quartile, median(center), Q3 quartile and Max) and shows it in a graphical manner.\n",
    "\n",
    "Q1 and Q3 form the edge of the box and the length of the box is the IQR. Median is shown as a line in the box. Min and Max are shown as whiskers. "
   ]
  },
  {
   "cell_type": "code",
   "execution_count": null,
   "metadata": {},
   "outputs": [],
   "source": []
  }
 ],
 "metadata": {
  "kernelspec": {
   "display_name": "Python 3",
   "language": "python",
   "name": "python3"
  },
  "language_info": {
   "codemirror_mode": {
    "name": "ipython",
    "version": 3
   },
   "file_extension": ".py",
   "mimetype": "text/x-python",
   "name": "python",
   "nbconvert_exporter": "python",
   "pygments_lexer": "ipython3",
   "version": "3.6.8"
  }
 },
 "nbformat": 4,
 "nbformat_minor": 2
}
