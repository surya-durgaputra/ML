{
 "cells": [
  {
   "cell_type": "markdown",
   "metadata": {},
   "source": [
    "SCATTERPLOT\n",
    "\n",
    "A scatterplot is a graph that is used to display the relationship between two quantitative variables and is described by its direction, strength and form of the relationship, and unusual observations.\n",
    "\n",
    "Direction: A positive direction means that the y-variable tends to increase as the x-variable increases (or an uphill trend). A negative direction means that the y-variable tends to decrease as the x-variable increases (or a downhill trend). Relationships between quantitative variables are said to have no direction when there is no consistent positive or negative pattern in the scatterplot.\n",
    "\n",
    "Strength: The relationship between two quantitative variables is strong if the points fall in a “tight” pattern and weak if they are spread out.\n",
    "\n",
    "Form: The form of a relationship is determined by the pattern of the points in the scatterplot. The most common forms are linear, curved and scattered.\n",
    "\n",
    "Unusual observations: Unusual points do not fit the general pattern in the scatterplot. They may be outliers."
   ]
  },
  {
   "cell_type": "code",
   "execution_count": null,
   "metadata": {},
   "outputs": [],
   "source": []
  }
 ],
 "metadata": {
  "kernelspec": {
   "display_name": "Python 3",
   "language": "python",
   "name": "python3"
  },
  "language_info": {
   "codemirror_mode": {
    "name": "ipython",
    "version": 3
   },
   "file_extension": ".py",
   "mimetype": "text/x-python",
   "name": "python",
   "nbconvert_exporter": "python",
   "pygments_lexer": "ipython3",
   "version": "3.6.8"
  }
 },
 "nbformat": 4,
 "nbformat_minor": 2
}
