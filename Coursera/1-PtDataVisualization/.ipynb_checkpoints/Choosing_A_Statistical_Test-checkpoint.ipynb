{
 "cells": [
  {
   "cell_type": "markdown",
   "metadata": {},
   "source": [
    "In the steps to choosing what statistical tests to run, we study the following factors:\n",
    "    \n",
    "# Step 1:"
   ]
  },
  {
   "cell_type": "markdown",
   "metadata": {},
   "source": [
    "#### Type of variable\n",
    "We first identify what kind of variable we have for which we wish to do a statistical test. The type of variable determines the test we will run.\n",
    "\n",
    "1) Numerical\n",
    "    - Continuous\n",
    "    - Discrete\n",
    "2) Categorical\n",
    "\n",
    "### IMPORTANT:\n",
    "- If the data is Numerical Continuous, it is usually summarized as means.\n",
    "- If the data is Numerical Discrete, it often does not follow normal distribution and is usually summarized as medians.\n",
    "- Categorical data is usually summarized as proportions."
   ]
  },
  {
   "cell_type": "markdown",
   "metadata": {},
   "source": [
    "# Step 2:"
   ]
  },
  {
   "cell_type": "markdown",
   "metadata": {},
   "source": [
    "#### Type of analysis:\n",
    "1) Comparison\n",
    "    Comparison can be\n",
    "        - Comparison of mean\n",
    "        - Comparison of median\n",
    "        - Comparison of proportion\n",
    "    In Comparison, we have 2 or more variables and we decide upon the type of comparison from among the 3(mean, median, proportion) \n",
    "2) **Relation between two variables (correlation)**\n",
    "    \n",
    "    Here we have two variables, say blood-pressure and body-weight and a group of people from whom we get both the variables. And we are trying to measure if and how much correlation is there between blood-pressure and body-weight.\n",
    "3) **Predicting one varriable (Regression) from another.**\n",
    "\n",
    "    For example, if a 50kg person comes to a clinic, and we need to guess the person's blood-pressure. Here we are trying to predict one variable from another."
   ]
  },
  {
   "cell_type": "markdown",
   "metadata": {},
   "source": [
    "# Step 3"
   ]
  },
  {
   "cell_type": "markdown",
   "metadata": {},
   "source": [
    "**Number of groups and datasets.**"
   ]
  },
  {
   "cell_type": "markdown",
   "metadata": {},
   "source": [
    "It can be:\n",
    "    1) One group - two or more datasets\n",
    "        Example: We have a group of patients. We take the blood pressure before and after administering a drug. Here we have two datasets (of blood-pressure of same patients in the group)\n",
    "        Another Example: a group of hypertensive patients. We first take their Blood pressure. Then they are given anti-hypertensive drug. Then we take 4 more blood-pressure readings, each at intervals of 3 hours. So, we have 5 datasets from the same group.\n",
    "    2) Two groups - two or more datasets.\n",
    "        Example: We are evaluating a new anti-hypertiensive drug. We have a group of hypertensive patients and we measure their blood-pressure before and after administering the drug. We have a totally different group of hypertensive patients and we give them a standard hypertensive medication and take their blood-pressures before and after administering the standard drug. Here we will have 2 datasets per group.\n",
    "    3) More groups - \n",
    "     Example- We have three totally separate groups of hypertiensive patients and we administer the new drug to one group, another standard drug to the second group and yet another standard drug to the third group. We take the blood pressure of everyone in each group before and after admistration of drug."
   ]
  }
 ],
 "metadata": {
  "kernelspec": {
   "display_name": "Python 3",
   "language": "python",
   "name": "python3"
  },
  "language_info": {
   "codemirror_mode": {
    "name": "ipython",
    "version": 3
   },
   "file_extension": ".py",
   "mimetype": "text/x-python",
   "name": "python",
   "nbconvert_exporter": "python",
   "pygments_lexer": "ipython3",
   "version": "3.6.8"
  }
 },
 "nbformat": 4,
 "nbformat_minor": 2
}
