{
 "cells": [
  {
   "cell_type": "markdown",
   "metadata": {},
   "source": [
    "1. Data Exploration\n",
    "2. Merging multiple tables\n",
    "3. Data cleaning and missing value filling\n",
    "4. Feature Engineering\n",
    "5. Model Selection\n",
    "6. Undersampling/Oversampling\n",
    "7. Feature Selection\n",
    "8. Bayesian Optimization"
   ]
  },
  {
   "cell_type": "markdown",
   "metadata": {},
   "source": [
    "__Recall__: Out of all the positive classes, how many instances were identified correctly.\n",
    "$$Recall = TP / (TP + FN)$$\n",
    "\n",
    "__Precision__: Out of all the predicted positive instances, how many were predicted correctly.\n",
    "$$Precision = TP / (TP + FP)$$\n",
    "\n",
    "__F-Score__: From Precision and Recall, F-Measure is computed and used as metrics sometimes. F – Measure is nothing but the harmonic mean of Precision and Recall.\n",
    "$$F-Score = (2 * Recall * Precision) / (Recall + Precision)$$\n",
    "\n",
    "__ROC Curve__:\n",
    "We use this curve to compare binary classifiers. \n",
    "\n",
    "Scenario #1 (Best Case Scenario):\n",
    "There is a clear separation between the two classes in prediction"
   ]
  },
  {
   "cell_type": "code",
   "execution_count": null,
   "metadata": {},
   "outputs": [],
   "source": []
  }
 ],
 "metadata": {
  "kernelspec": {
   "display_name": "Python 3",
   "language": "python",
   "name": "python3"
  },
  "language_info": {
   "codemirror_mode": {
    "name": "ipython",
    "version": 3
   },
   "file_extension": ".py",
   "mimetype": "text/x-python",
   "name": "python",
   "nbconvert_exporter": "python",
   "pygments_lexer": "ipython3",
   "version": "3.7.1"
  }
 },
 "nbformat": 4,
 "nbformat_minor": 2
}
